{
 "cells": [
  {
   "cell_type": "markdown",
   "id": "510a38eb",
   "metadata": {},
   "source": [
    "另外，使用 Jupyter Notebook 进行长期模型训练时，可能由于 GPU 内存无法及时释放导致该报错"
   ]
  },
  {
   "cell_type": "code",
   "execution_count": 33,
   "id": "c04c07d6",
   "metadata": {},
   "outputs": [
    {
     "data": {
      "text/plain": [
       "'\\n\\ndense_layers = [0, 1, 2]\\nlayer_sizes = [32, 64, 128]\\nconv_layers = [1, 2, 3]\\n\\nfor dense_layer in dense_layers:\\n    for layer_size in layer_sizes:\\n        for conv_layer in conv_layers:\\n            reset_keras()\\n            # training your model here\\n            \\n'"
      ]
     },
     "execution_count": 33,
     "metadata": {},
     "output_type": "execute_result"
    }
   ],
   "source": [
    "from keras.backend import set_session\n",
    "from keras.backend import clear_session\n",
    "from keras.backend import get_session\n",
    "import tensorflow as tf\n",
    "import gc\n",
    "\n",
    "# Reset Keras Session\n",
    "def reset_keras():\n",
    "    sess = get_session()\n",
    "    clear_session()\n",
    "    sess.close()\n",
    "    sess = get_session()\n",
    "\n",
    "    try:\n",
    "        del classifier # this is from global space - change this as you need\n",
    "    except:\n",
    "        pass\n",
    "\n",
    "    print(gc.collect()) # if it does something you should see a number as output\n",
    "\n",
    "    # use the same config as you used to create the session\n",
    "    config = tf.compat.v1.ConfigProto()\n",
    "    config.gpu_options.per_process_gpu_memory_fraction = 1\n",
    "    config.gpu_options.visible_device_list = \"0\"\n",
    "    set_session(tf.compat.v1.Session(config=config))\n",
    "    \n",
    "\n",
    "    \n",
    "'''\n",
    "\n",
    "dense_layers = [0, 1, 2]\n",
    "layer_sizes = [32, 64, 128]\n",
    "conv_layers = [1, 2, 3]\n",
    "\n",
    "for dense_layer in dense_layers:\n",
    "    for layer_size in layer_sizes:\n",
    "        for conv_layer in conv_layers:\n",
    "            reset_keras()\n",
    "            # training your model here\n",
    "            \n",
    "'''"
   ]
  },
  {
   "cell_type": "markdown",
   "id": "6f3a6ed7",
   "metadata": {},
   "source": [
    "two-class classification (binary classification):\n",
    "- classify movie reviews as positive or negative, based on the text content of reviews"
   ]
  },
  {
   "cell_type": "markdown",
   "id": "e34ea0ae",
   "metadata": {},
   "source": [
    "##### The IMDB Dataset"
   ]
  },
  {
   "cell_type": "markdown",
   "id": "4b07505b",
   "metadata": {},
   "source": [
    "- a set of 50,000 highly polarized reviews\n",
    "- split into 25,000 reviews for training and 25,000 reviews for testing, each consisting of 50% negative and 50% positive"
   ]
  },
  {
   "cell_type": "markdown",
   "id": "5321d3b4",
   "metadata": {},
   "source": [
    "never test a model on the same data used to train (it doesn't make sense)"
   ]
  },
  {
   "cell_type": "markdown",
   "id": "84a3d1e6",
   "metadata": {},
   "source": [
    "preprocess the sequences of words into sequences of integers, where each integer stands for a specific word in a dictionary"
   ]
  },
  {
   "cell_type": "code",
   "execution_count": 20,
   "id": "07455566",
   "metadata": {},
   "outputs": [],
   "source": [
    "from keras.datasets import imdb\n",
    "\n",
    "(train_data, train_labels), (test_data, test_labels) = imdb.load_data(num_words=10000)"
   ]
  },
  {
   "cell_type": "markdown",
   "id": "34035703",
   "metadata": {},
   "source": [
    "- 'num_words=10000' means keep the top 10,000 most frequently words\n",
    "- 'train_data' and 'test_data' are lists of reviews of word indices (encoding a sequence of words)\n",
    "- 'train_labels' and 'test_labels' are list of 0s and 1s, for negative and positive"
   ]
  },
  {
   "cell_type": "code",
   "execution_count": 21,
   "id": "23d3b4e3",
   "metadata": {},
   "outputs": [
    {
     "name": "stdout",
     "output_type": "stream",
     "text": [
      "[1, 14, 22, 16, 43, 530, 973, 1622, 1385, 65, 458, 4468, 66, 3941, 4, 173, 36, 256, 5, 25, 100, 43, 838, 112, 50, 670, 2, 9, 35, 480, 284, 5, 150, 4, 172, 112, 167, 2, 336, 385, 39, 4, 172, 4536, 1111, 17, 546, 38, 13, 447, 4, 192, 50, 16, 6, 147, 2025, 19, 14, 22, 4, 1920, 4613, 469, 4, 22, 71, 87, 12, 16, 43, 530, 38, 76, 15, 13, 1247, 4, 22, 17, 515, 17, 12, 16, 626, 18, 2, 5, 62, 386, 12, 8, 316, 8, 106, 5, 4, 2223, 5244, 16, 480, 66, 3785, 33, 4, 130, 12, 16, 38, 619, 5, 25, 124, 51, 36, 135, 48, 25, 1415, 33, 6, 22, 12, 215, 28, 77, 52, 5, 14, 407, 16, 82, 2, 8, 4, 107, 117, 5952, 15, 256, 4, 2, 7, 3766, 5, 723, 36, 71, 43, 530, 476, 26, 400, 317, 46, 7, 4, 2, 1029, 13, 104, 88, 4, 381, 15, 297, 98, 32, 2071, 56, 26, 141, 6, 194, 7486, 18, 4, 226, 22, 21, 134, 476, 26, 480, 5, 144, 30, 5535, 18, 51, 36, 28, 224, 92, 25, 104, 4, 226, 65, 16, 38, 1334, 88, 12, 16, 283, 5, 16, 4472, 113, 103, 32, 15, 16, 5345, 19, 178, 32]\n"
     ]
    }
   ],
   "source": [
    "print(train_data[0])"
   ]
  },
  {
   "cell_type": "code",
   "execution_count": 13,
   "id": "045bed5f",
   "metadata": {},
   "outputs": [
    {
     "data": {
      "text/plain": [
       "1"
      ]
     },
     "execution_count": 13,
     "metadata": {},
     "output_type": "execute_result"
    }
   ],
   "source": [
    "train_labels[0]"
   ]
  },
  {
   "cell_type": "code",
   "execution_count": 14,
   "id": "fdb77e01",
   "metadata": {},
   "outputs": [
    {
     "data": {
      "text/plain": [
       "9999"
      ]
     },
     "execution_count": 14,
     "metadata": {},
     "output_type": "execute_result"
    }
   ],
   "source": [
    "max([max(sequence) for sequence in train_data])"
   ]
  },
  {
   "cell_type": "markdown",
   "id": "19550a66",
   "metadata": {},
   "source": [
    "decode to English words:"
   ]
  },
  {
   "cell_type": "code",
   "execution_count": 23,
   "id": "84d0ab2e",
   "metadata": {},
   "outputs": [],
   "source": [
    "word_index = imdb.get_word_index()\n",
    "reverse_word_index = dict(\n",
    "    [(value, key) for (key, value) in word_index.items()])\n",
    "decoded_review = ' '.join(\n",
    "    [reverse_word_index.get(i - 3, ' ') for i in train_data[0]])"
   ]
  },
  {
   "cell_type": "code",
   "execution_count": 24,
   "id": "33b43c0e",
   "metadata": {},
   "outputs": [
    {
     "name": "stdout",
     "output_type": "stream",
     "text": [
      "  this film was just brilliant casting location scenery story direction everyone's really suited the part they played and you could just imagine being there robert   is an amazing actor and now the same being director   father came from the same scottish island as myself so i loved the fact there was a real connection with this film the witty remarks throughout the film were great it was just brilliant so much that i bought the film as soon as it was released for   and would recommend it to everyone to watch and the fly fishing was amazing really cried at the end it was so sad and you know what they say if you cry at a film it must have been good and this definitely was also   to the two little boy's that played the   of norman and paul they were just brilliant children are often left out of the   list i think because the stars that play them all grown up are such a big profile for the whole film but these children are amazing and should be praised for what they have done don't you think the whole story was so lovely because it was true and was someone's life after all that was shared with us all\n"
     ]
    }
   ],
   "source": [
    "print(decoded_review)"
   ]
  },
  {
   "cell_type": "markdown",
   "id": "5a97dad5",
   "metadata": {},
   "source": [
    "##### Preparing the Data"
   ]
  },
  {
   "cell_type": "markdown",
   "id": "70562e89",
   "metadata": {},
   "source": [
    "neural network only accept lists of tensors:\n",
    "- pad the lists into same length, turn them into integer tensor of shape '(samples, word_indices)', and then use as the first layer in the network handling such integer tensors (the Embedding layer)\n",
    "- alternatively, one-hot encode the lists into vectors of 0s and 1s, then use as the first layer a Dense layer, capable of handling floating-point vector data"
   ]
  },
  {
   "cell_type": "code",
   "execution_count": 22,
   "id": "74e9898a",
   "metadata": {},
   "outputs": [],
   "source": [
    "# encoding the integer sequences into a binary matrix\n",
    "import numpy as np\n",
    "\n",
    "def vectorize_sequences(sequences, dimension = 10000):\n",
    "    results = np.zeros((len(sequences), dimension))\n",
    "    for i, sequence in enumerate(sequences):\n",
    "        results[i, sequence] = 1\n",
    "    return results\n",
    "\n",
    "x_train = vectorize_sequences(train_data)\n",
    "x_test = vectorize_sequences(test_data)"
   ]
  },
  {
   "cell_type": "code",
   "execution_count": 23,
   "id": "55431123",
   "metadata": {},
   "outputs": [
    {
     "data": {
      "text/plain": [
       "array([0., 1., 1., ..., 0., 0., 0.])"
      ]
     },
     "execution_count": 23,
     "metadata": {},
     "output_type": "execute_result"
    }
   ],
   "source": [
    "x_train[0]"
   ]
  },
  {
   "cell_type": "code",
   "execution_count": 24,
   "id": "859e6f76",
   "metadata": {},
   "outputs": [],
   "source": [
    "y_train = np.asarray(train_labels).astype('float32')\n",
    "y_test = np.asarray(test_labels).astype('float32')"
   ]
  },
  {
   "cell_type": "markdown",
   "id": "95f590d4",
   "metadata": {},
   "source": [
    "##### Building the Network"
   ]
  },
  {
   "cell_type": "markdown",
   "id": "99aee8c9",
   "metadata": {},
   "source": [
    "the input data is vectors and the labels are scalars (1s and 0s), so simple stack of fully connected (Dense) layers with 'relu' activations: 'Dense(16, activation='relu')'"
   ]
  },
  {
   "cell_type": "markdown",
   "id": "124ed0e0",
   "metadata": {},
   "source": [
    "the argument being passed to each Dense layer is the number of hidden units of the layer, a 'hidden unit' is a dimension in the representation space of the layer"
   ]
  },
  {
   "cell_type": "markdown",
   "id": "4431b424",
   "metadata": {},
   "source": [
    "for each such Dense layer with a relu activation implements the tensor operation:"
   ]
  },
  {
   "cell_type": "code",
   "execution_count": null,
   "id": "61c212b6",
   "metadata": {},
   "outputs": [],
   "source": [
    "output = relu(dot(W, input) + b)"
   ]
  },
  {
   "cell_type": "markdown",
   "id": "731c81e7",
   "metadata": {},
   "source": [
    "![16 Hidden Unit](./16_hidden_u.png)"
   ]
  },
  {
   "cell_type": "markdown",
   "id": "16202bf0",
   "metadata": {},
   "source": [
    "![The Network](./the_network.png)"
   ]
  },
  {
   "cell_type": "markdown",
   "id": "c36eee2d",
   "metadata": {},
   "source": [
    "two key architecture decisions of Dense layers:\n",
    "- how many layers to use\n",
    "- how many hidden units for each layer"
   ]
  },
  {
   "cell_type": "markdown",
   "id": "48258719",
   "metadata": {},
   "source": [
    "'relu' -- rectified linear unit \n",
    "- zero out negative values\n",
    "![relu](./relu.png)\n",
    "'sigmoid' \n",
    "- squashes arbitrary values into the [0,1] interval outputting as probability\n",
    "![sigmoid](./sigmoid.png)"
   ]
  },
  {
   "cell_type": "code",
   "execution_count": 2,
   "id": "cb93fbf0",
   "metadata": {},
   "outputs": [
    {
     "name": "stderr",
     "output_type": "stream",
     "text": [
      "2022-10-13 10:17:05.943498: I tensorflow/stream_executor/cuda/cuda_gpu_executor.cc:975] successful NUMA node read from SysFS had negative value (-1), but there must be at least one NUMA node, so returning NUMA node zero\n",
      "2022-10-13 10:17:06.038893: I tensorflow/stream_executor/cuda/cuda_gpu_executor.cc:975] successful NUMA node read from SysFS had negative value (-1), but there must be at least one NUMA node, so returning NUMA node zero\n",
      "2022-10-13 10:17:06.039151: I tensorflow/stream_executor/cuda/cuda_gpu_executor.cc:975] successful NUMA node read from SysFS had negative value (-1), but there must be at least one NUMA node, so returning NUMA node zero\n",
      "2022-10-13 10:17:06.040042: I tensorflow/core/platform/cpu_feature_guard.cc:193] This TensorFlow binary is optimized with oneAPI Deep Neural Network Library (oneDNN) to use the following CPU instructions in performance-critical operations:  AVX2 AVX_VNNI FMA\n",
      "To enable them in other operations, rebuild TensorFlow with the appropriate compiler flags.\n",
      "2022-10-13 10:17:06.045535: I tensorflow/stream_executor/cuda/cuda_gpu_executor.cc:975] successful NUMA node read from SysFS had negative value (-1), but there must be at least one NUMA node, so returning NUMA node zero\n",
      "2022-10-13 10:17:06.045993: I tensorflow/stream_executor/cuda/cuda_gpu_executor.cc:975] successful NUMA node read from SysFS had negative value (-1), but there must be at least one NUMA node, so returning NUMA node zero\n",
      "2022-10-13 10:17:06.046175: I tensorflow/stream_executor/cuda/cuda_gpu_executor.cc:975] successful NUMA node read from SysFS had negative value (-1), but there must be at least one NUMA node, so returning NUMA node zero\n",
      "2022-10-13 10:17:06.790282: I tensorflow/stream_executor/cuda/cuda_gpu_executor.cc:975] successful NUMA node read from SysFS had negative value (-1), but there must be at least one NUMA node, so returning NUMA node zero\n",
      "2022-10-13 10:17:06.790417: I tensorflow/stream_executor/cuda/cuda_gpu_executor.cc:975] successful NUMA node read from SysFS had negative value (-1), but there must be at least one NUMA node, so returning NUMA node zero\n",
      "2022-10-13 10:17:06.790495: I tensorflow/stream_executor/cuda/cuda_gpu_executor.cc:975] successful NUMA node read from SysFS had negative value (-1), but there must be at least one NUMA node, so returning NUMA node zero\n",
      "2022-10-13 10:17:06.790576: I tensorflow/core/common_runtime/gpu/gpu_device.cc:1532] Created device /job:localhost/replica:0/task:0/device:GPU:0 with 2121 MB memory:  -> device: 0, name: NVIDIA GeForce RTX 3050 Ti Laptop GPU, pci bus id: 0000:01:00.0, compute capability: 8.6\n"
     ]
    }
   ],
   "source": [
    "# the model definition\n",
    "from keras import models\n",
    "from keras import layers\n",
    "\n",
    "model = models.Sequential()\n",
    "model.add(layers.Dense(16, activation='relu', input_shape=(10000,)))\n",
    "model.add(layers.Dense(16, activation='relu'))\n",
    "model.add(layers.Dense(1, activation='sigmoid'))"
   ]
  },
  {
   "cell_type": "markdown",
   "id": "5675f22c",
   "metadata": {},
   "source": [
    "![Activation Function](./activation_fctn.png)"
   ]
  },
  {
   "cell_type": "markdown",
   "id": "e19f6aa2",
   "metadata": {},
   "source": [
    "the loss function and optimizer for binary classification problem here is the 'rmsprop' optimizer and the 'binary_crossentropy' loss function\n",
    "- crossentropy is a quantity from the field of information theory that measures the distance between probability distributions or, between the ground-truth distribtion and the prediction"
   ]
  },
  {
   "cell_type": "code",
   "execution_count": 3,
   "id": "f92fd2da",
   "metadata": {},
   "outputs": [],
   "source": [
    "# compiling the model\n",
    "model.compile(optimizer='rmsprop',\n",
    "             loss='binary_crossentropy',\n",
    "             metrics=['accuracy'])"
   ]
  },
  {
   "cell_type": "code",
   "execution_count": 4,
   "id": "9ce32fba",
   "metadata": {},
   "outputs": [],
   "source": [
    "# same compiling but configuring the optimizer\n",
    "from keras import optimizers\n",
    "\n",
    "model.compile(optimizer=optimizers.RMSprop(learning_rate=0.001),\n",
    "             loss='binary_crossentropy',\n",
    "             metrics=['accuracy'])"
   ]
  },
  {
   "cell_type": "code",
   "execution_count": 5,
   "id": "34f5a91f",
   "metadata": {},
   "outputs": [],
   "source": [
    "# same compiling but custom losses and metrics\n",
    "from keras import losses\n",
    "from keras import metrics\n",
    "\n",
    "model.compile(optimizer=optimizers.RMSprop(learning_rate=0.001),\n",
    "             loss=losses.binary_crossentropy,\n",
    "             metrics=[metrics.binary_accuracy])"
   ]
  },
  {
   "cell_type": "markdown",
   "id": "bbfad124",
   "metadata": {},
   "source": [
    "##### Validating the Approach"
   ]
  },
  {
   "cell_type": "markdown",
   "id": "3d68b379",
   "metadata": {},
   "source": [
    "to monitor during training the accuracy, create a validation set by setting apart 10,000 samples from the original training data"
   ]
  },
  {
   "cell_type": "code",
   "execution_count": 11,
   "id": "fe6f5300",
   "metadata": {},
   "outputs": [],
   "source": [
    "# setting aside a validation set\n",
    "x_val = x_train[:10000]\n",
    "partial_x_train = x_train[10000:]\n",
    "y_val = y_train[:10000]\n",
    "partial_y_train = y_train[10000:]"
   ]
  },
  {
   "cell_type": "markdown",
   "id": "31ee6338",
   "metadata": {},
   "source": [
    "then train the model for 20 epochs (20 iterations over all samples in the 'x_train' and 'y_train' tensors), in mini-batches of 512 samples, at the same time, the loss and accuracy will be monitored on the 10,000 samples set apart by passing the validation data as the 'validation_data' argument"
   ]
  },
  {
   "cell_type": "code",
   "execution_count": 12,
   "id": "b812c837",
   "metadata": {},
   "outputs": [
    {
     "name": "stdout",
     "output_type": "stream",
     "text": [
      "Epoch 1/20\n"
     ]
    },
    {
     "name": "stderr",
     "output_type": "stream",
     "text": [
      "2022-10-13 10:54:01.416515: I tensorflow/stream_executor/cuda/cuda_blas.cc:1786] TensorFloat-32 will be used for the matrix multiplication. This will only be logged once.\n"
     ]
    },
    {
     "name": "stdout",
     "output_type": "stream",
     "text": [
      "30/30 [==============================] - 3s 33ms/step - loss: 0.5312 - acc: 0.7639 - val_loss: 0.3927 - val_acc: 0.8716\n",
      "Epoch 2/20\n",
      "30/30 [==============================] - 0s 16ms/step - loss: 0.3147 - acc: 0.9001 - val_loss: 0.3119 - val_acc: 0.8849\n",
      "Epoch 3/20\n",
      "30/30 [==============================] - 1s 18ms/step - loss: 0.2306 - acc: 0.9221 - val_loss: 0.2812 - val_acc: 0.8900\n",
      "Epoch 4/20\n",
      "30/30 [==============================] - 1s 17ms/step - loss: 0.1807 - acc: 0.9400 - val_loss: 0.2737 - val_acc: 0.8904\n",
      "Epoch 5/20\n",
      "30/30 [==============================] - 1s 17ms/step - loss: 0.1489 - acc: 0.9515 - val_loss: 0.2783 - val_acc: 0.8888\n",
      "Epoch 6/20\n",
      "30/30 [==============================] - 0s 17ms/step - loss: 0.1216 - acc: 0.9615 - val_loss: 0.2896 - val_acc: 0.8858\n",
      "Epoch 7/20\n",
      "30/30 [==============================] - 0s 17ms/step - loss: 0.1011 - acc: 0.9688 - val_loss: 0.3151 - val_acc: 0.8825\n",
      "Epoch 8/20\n",
      "30/30 [==============================] - 1s 17ms/step - loss: 0.0846 - acc: 0.9753 - val_loss: 0.3260 - val_acc: 0.8827\n",
      "Epoch 9/20\n",
      "30/30 [==============================] - 0s 16ms/step - loss: 0.0706 - acc: 0.9803 - val_loss: 0.3476 - val_acc: 0.8813\n",
      "Epoch 10/20\n",
      "30/30 [==============================] - 1s 17ms/step - loss: 0.0596 - acc: 0.9835 - val_loss: 0.3744 - val_acc: 0.8786\n",
      "Epoch 11/20\n",
      "30/30 [==============================] - 1s 21ms/step - loss: 0.0462 - acc: 0.9891 - val_loss: 0.4130 - val_acc: 0.8743\n",
      "Epoch 12/20\n",
      "30/30 [==============================] - 1s 17ms/step - loss: 0.0407 - acc: 0.9901 - val_loss: 0.4295 - val_acc: 0.8766\n",
      "Epoch 13/20\n",
      "30/30 [==============================] - 1s 20ms/step - loss: 0.0326 - acc: 0.9925 - val_loss: 0.4680 - val_acc: 0.8719\n",
      "Epoch 14/20\n",
      "30/30 [==============================] - 0s 16ms/step - loss: 0.0288 - acc: 0.9933 - val_loss: 0.4934 - val_acc: 0.8732\n",
      "Epoch 15/20\n",
      "30/30 [==============================] - 0s 15ms/step - loss: 0.0203 - acc: 0.9965 - val_loss: 0.5226 - val_acc: 0.8716\n",
      "Epoch 16/20\n",
      "30/30 [==============================] - 0s 15ms/step - loss: 0.0172 - acc: 0.9975 - val_loss: 0.5495 - val_acc: 0.8707\n",
      "Epoch 17/20\n",
      "30/30 [==============================] - 0s 15ms/step - loss: 0.0129 - acc: 0.9989 - val_loss: 0.5896 - val_acc: 0.8678\n",
      "Epoch 18/20\n",
      "30/30 [==============================] - 0s 16ms/step - loss: 0.0123 - acc: 0.9982 - val_loss: 0.6291 - val_acc: 0.8653\n",
      "Epoch 19/20\n",
      "30/30 [==============================] - 0s 17ms/step - loss: 0.0115 - acc: 0.9979 - val_loss: 0.6556 - val_acc: 0.8666\n",
      "Epoch 20/20\n",
      "30/30 [==============================] - 1s 19ms/step - loss: 0.0051 - acc: 0.9998 - val_loss: 0.6875 - val_acc: 0.8663\n"
     ]
    }
   ],
   "source": [
    "# training the model\n",
    "model.compile(optimizer='rmsprop',\n",
    "             loss='binary_crossentropy',\n",
    "             metrics=['acc'])\n",
    "\n",
    "history = model.fit(partial_x_train,\n",
    "                   partial_y_train,\n",
    "                   epochs=20,\n",
    "                   batch_size=512,\n",
    "                   validation_data=(x_val, y_val))"
   ]
  },
  {
   "cell_type": "code",
   "execution_count": 13,
   "id": "ed88abbc",
   "metadata": {},
   "outputs": [
    {
     "data": {
      "text/plain": [
       "dict_keys(['loss', 'acc', 'val_loss', 'val_acc'])"
      ]
     },
     "execution_count": 13,
     "metadata": {},
     "output_type": "execute_result"
    }
   ],
   "source": [
    "history.history.keys()"
   ]
  },
  {
   "cell_type": "code",
   "execution_count": 16,
   "id": "2bd9fa0d",
   "metadata": {},
   "outputs": [
    {
     "data": {
      "image/png": "[encoded data removed]",
      "text/plain": [
       "<Figure size 640x480 with 1 Axes>"
      ]
     },
     "metadata": {},
     "output_type": "display_data"
    }
   ],
   "source": [
    "# plotting the training and validation loss\n",
    "import matplotlib.pyplot as plt\n",
    "\n",
    "history_dict = history.history\n",
    "loss_values = history_dict['loss']\n",
    "val_loss_values = history_dict['val_loss']\n",
    "acc = history_dict['acc']\n",
    "\n",
    "epochs = range(1, len(acc) + 1)\n",
    "\n",
    "plt.plot(epochs, loss_values, 'bo', label='Training loss') # 'bo' for 'blue dot'\n",
    "plt.plot(epochs, val_loss_values, 'b', label='Validation loss') # 'b' for 'blue line'\n",
    "plt.title('Training and validation loss')\n",
    "plt.xlabel('Epochs')\n",
    "plt.ylabel('Loss')\n",
    "plt.legend()\n",
    "\n",
    "plt.show()"
   ]
  },
  {
   "cell_type": "code",
   "execution_count": 17,
   "id": "fa61876e",
   "metadata": {},
   "outputs": [
    {
     "data": {
      "image/png": "[encoded data removed]",
      "text/plain": [
       "<Figure size 640x480 with 1 Axes>"
      ]
     },
     "metadata": {},
     "output_type": "display_data"
    }
   ],
   "source": [
    "# plotting the training and validation accuracy\n",
    "plt.clf() # clear the figure\n",
    "acc_values = history_dict['acc']\n",
    "val_acc_values = history_dict['val_acc']\n",
    "\n",
    "plt.plot(epochs, acc_values, 'bo', label='Training acc')\n",
    "plt.plot(epochs, val_acc_values, 'b', label='Validation acc')\n",
    "plt.title('Training and validation accuracy')\n",
    "plt.xlabel('Epochs')\n",
    "plt.ylabel('Loss')\n",
    "plt.legend()\n",
    "\n",
    "plt.show()"
   ]
  },
  {
   "cell_type": "markdown",
   "id": "b993fe4c",
   "metadata": {},
   "source": [
    "the training loss decreases with every epoch, and the training accuracy increases with every epoch"
   ]
  },
  {
   "cell_type": "markdown",
   "id": "d4a9e99e",
   "metadata": {},
   "source": [
    "Gradient Descent Optimisation:\n",
    "- the quantity to minimise should be less with every iteration"
   ]
  },
  {
   "cell_type": "markdown",
   "id": "b4c04991",
   "metadata": {},
   "source": [
    "Overfitting:\n",
    "- a model that performs better on the training data isn't necessarily a model that will do better on data it has never seen before\n",
    "- in general there are a range of techniques to mitigate overfitting\n",
    "- here simply stop training after three epochs"
   ]
  },
  {
   "cell_type": "code",
   "execution_count": 35,
   "id": "fc740afe",
   "metadata": {},
   "outputs": [
    {
     "name": "stderr",
     "output_type": "stream",
     "text": [
      "2022-10-13 14:48:04.469896: I tensorflow/stream_executor/cuda/cuda_gpu_executor.cc:975] successful NUMA node read from SysFS had negative value (-1), but there must be at least one NUMA node, so returning NUMA node zero\n",
      "2022-10-13 14:48:04.470367: I tensorflow/stream_executor/cuda/cuda_gpu_executor.cc:975] successful NUMA node read from SysFS had negative value (-1), but there must be at least one NUMA node, so returning NUMA node zero\n",
      "2022-10-13 14:48:04.470571: I tensorflow/stream_executor/cuda/cuda_gpu_executor.cc:975] successful NUMA node read from SysFS had negative value (-1), but there must be at least one NUMA node, so returning NUMA node zero\n",
      "2022-10-13 14:48:04.470771: I tensorflow/stream_executor/cuda/cuda_gpu_executor.cc:975] successful NUMA node read from SysFS had negative value (-1), but there must be at least one NUMA node, so returning NUMA node zero\n",
      "2022-10-13 14:48:04.470905: I tensorflow/stream_executor/cuda/cuda_gpu_executor.cc:975] successful NUMA node read from SysFS had negative value (-1), but there must be at least one NUMA node, so returning NUMA node zero\n",
      "2022-10-13 14:48:04.471011: I tensorflow/core/common_runtime/gpu/gpu_device.cc:1532] Created device /job:localhost/replica:0/task:0/device:GPU:0 with 2121 MB memory:  -> device: 0, name: NVIDIA GeForce RTX 3050 Ti Laptop GPU, pci bus id: 0000:01:00.0, compute capability: 8.6\n",
      "2022-10-13 14:48:04.777087: I tensorflow/stream_executor/cuda/cuda_gpu_executor.cc:975] successful NUMA node read from SysFS had negative value (-1), but there must be at least one NUMA node, so returning NUMA node zero\n",
      "2022-10-13 14:48:04.777422: I tensorflow/stream_executor/cuda/cuda_gpu_executor.cc:975] successful NUMA node read from SysFS had negative value (-1), but there must be at least one NUMA node, so returning NUMA node zero\n",
      "2022-10-13 14:48:04.777565: I tensorflow/stream_executor/cuda/cuda_gpu_executor.cc:975] successful NUMA node read from SysFS had negative value (-1), but there must be at least one NUMA node, so returning NUMA node zero\n",
      "2022-10-13 14:48:04.777809: I tensorflow/stream_executor/cuda/cuda_gpu_executor.cc:975] successful NUMA node read from SysFS had negative value (-1), but there must be at least one NUMA node, so returning NUMA node zero\n",
      "2022-10-13 14:48:04.777929: I tensorflow/stream_executor/cuda/cuda_gpu_executor.cc:975] successful NUMA node read from SysFS had negative value (-1), but there must be at least one NUMA node, so returning NUMA node zero\n",
      "2022-10-13 14:48:04.778057: I tensorflow/core/common_runtime/gpu/gpu_device.cc:1532] Created device /job:localhost/replica:0/task:0/device:GPU:0 with 2121 MB memory:  -> device: 0, name: NVIDIA GeForce RTX 3050 Ti Laptop GPU, pci bus id: 0000:01:00.0, compute capability: 8.6\n"
     ]
    },
    {
     "name": "stdout",
     "output_type": "stream",
     "text": [
      "13632\n",
      "Epoch 1/4\n",
      "49/49 [==============================] - 1s 11ms/step - loss: 0.4463 - accuracy: 0.8216\n",
      "Epoch 2/4\n",
      "49/49 [==============================] - 0s 9ms/step - loss: 0.2562 - accuracy: 0.9101\n",
      "Epoch 3/4\n",
      "49/49 [==============================] - 1s 11ms/step - loss: 0.1987 - accuracy: 0.9285\n",
      "Epoch 4/4\n",
      "49/49 [==============================] - 0s 10ms/step - loss: 0.1644 - accuracy: 0.9422\n"
     ]
    },
    {
     "name": "stderr",
     "output_type": "stream",
     "text": [
      "2022-10-13 14:48:07.649264: I tensorflow/stream_executor/cuda/cuda_gpu_executor.cc:975] successful NUMA node read from SysFS had negative value (-1), but there must be at least one NUMA node, so returning NUMA node zero\n",
      "2022-10-13 14:48:07.649628: I tensorflow/stream_executor/cuda/cuda_gpu_executor.cc:975] successful NUMA node read from SysFS had negative value (-1), but there must be at least one NUMA node, so returning NUMA node zero\n",
      "2022-10-13 14:48:07.649865: I tensorflow/stream_executor/cuda/cuda_gpu_executor.cc:975] successful NUMA node read from SysFS had negative value (-1), but there must be at least one NUMA node, so returning NUMA node zero\n",
      "2022-10-13 14:48:07.650106: I tensorflow/stream_executor/cuda/cuda_gpu_executor.cc:975] successful NUMA node read from SysFS had negative value (-1), but there must be at least one NUMA node, so returning NUMA node zero\n",
      "2022-10-13 14:48:07.650279: I tensorflow/stream_executor/cuda/cuda_gpu_executor.cc:975] successful NUMA node read from SysFS had negative value (-1), but there must be at least one NUMA node, so returning NUMA node zero\n",
      "2022-10-13 14:48:07.650426: I tensorflow/core/common_runtime/gpu/gpu_device.cc:1532] Created device /job:localhost/replica:0/task:0/device:GPU:0 with 2121 MB memory:  -> device: 0, name: NVIDIA GeForce RTX 3050 Ti Laptop GPU, pci bus id: 0000:01:00.0, compute capability: 8.6\n"
     ]
    },
    {
     "name": "stdout",
     "output_type": "stream",
     "text": [
      "766\n"
     ]
    },
    {
     "name": "stderr",
     "output_type": "stream",
     "text": [
      "2022-10-13 14:48:07.976484: I tensorflow/stream_executor/cuda/cuda_gpu_executor.cc:975] successful NUMA node read from SysFS had negative value (-1), but there must be at least one NUMA node, so returning NUMA node zero\n",
      "2022-10-13 14:48:07.976776: I tensorflow/stream_executor/cuda/cuda_gpu_executor.cc:975] successful NUMA node read from SysFS had negative value (-1), but there must be at least one NUMA node, so returning NUMA node zero\n",
      "2022-10-13 14:48:07.976891: I tensorflow/stream_executor/cuda/cuda_gpu_executor.cc:975] successful NUMA node read from SysFS had negative value (-1), but there must be at least one NUMA node, so returning NUMA node zero\n",
      "2022-10-13 14:48:07.977066: I tensorflow/stream_executor/cuda/cuda_gpu_executor.cc:975] successful NUMA node read from SysFS had negative value (-1), but there must be at least one NUMA node, so returning NUMA node zero\n",
      "2022-10-13 14:48:07.977167: I tensorflow/stream_executor/cuda/cuda_gpu_executor.cc:975] successful NUMA node read from SysFS had negative value (-1), but there must be at least one NUMA node, so returning NUMA node zero\n",
      "2022-10-13 14:48:07.977264: I tensorflow/core/common_runtime/gpu/gpu_device.cc:1532] Created device /job:localhost/replica:0/task:0/device:GPU:0 with 2121 MB memory:  -> device: 0, name: NVIDIA GeForce RTX 3050 Ti Laptop GPU, pci bus id: 0000:01:00.0, compute capability: 8.6\n"
     ]
    },
    {
     "name": "stdout",
     "output_type": "stream",
     "text": [
      "782/782 [==============================] - 3s 4ms/step - loss: 0.2985 - accuracy: 0.8818\n"
     ]
    }
   ],
   "source": [
    "# retraining a model from scratch\n",
    "model = models.Sequential()\n",
    "model.add(layers.Dense(16, activation='relu', input_shape=(10000,)))\n",
    "model.add(layers.Dense(16, activation='relu'))\n",
    "model.add(layers.Dense(1, activation='sigmoid'))\n",
    "\n",
    "model.compile(optimizer='rmsprop',\n",
    "             loss='binary_crossentropy',\n",
    "             metrics=['accuracy'])\n",
    "\n",
    "reset_keras()\n",
    "model.fit(x_train, y_train, epochs=4, batch_size=512)\n",
    "\n",
    "reset_keras()\n",
    "results = model.evaluate(x_test, y_test)"
   ]
  },
  {
   "cell_type": "code",
   "execution_count": 36,
   "id": "8aceeeac",
   "metadata": {},
   "outputs": [
    {
     "data": {
      "text/plain": [
       "[0.29845038056373596, 0.8818399906158447]"
      ]
     },
     "execution_count": 36,
     "metadata": {},
     "output_type": "execute_result"
    }
   ],
   "source": [
    "results"
   ]
  },
  {
   "cell_type": "markdown",
   "id": "0ff559d0",
   "metadata": {},
   "source": [
    "this fairly naive approach achieves an accuracy of 88%, with state-of-art approoaches, this should be 95%"
   ]
  },
  {
   "cell_type": "markdown",
   "id": "7b3098bd",
   "metadata": {},
   "source": [
    "##### Using a Trained Network to Generate Predictions on New Data"
   ]
  },
  {
   "cell_type": "code",
   "execution_count": 37,
   "id": "65118604",
   "metadata": {},
   "outputs": [
    {
     "name": "stdout",
     "output_type": "stream",
     "text": [
      "782/782 [==============================] - 2s 3ms/step\n"
     ]
    },
    {
     "data": {
      "text/plain": [
       "array([[0.22234401],\n",
       "       [0.9998258 ],\n",
       "       [0.8431338 ],\n",
       "       ...,\n",
       "       [0.1384982 ],\n",
       "       [0.10944142],\n",
       "       [0.81987655]], dtype=float32)"
      ]
     },
     "execution_count": 37,
     "metadata": {},
     "output_type": "execute_result"
    }
   ],
   "source": [
    "model.predict(x_test)"
   ]
  },
  {
   "cell_type": "markdown",
   "id": "3a73bfba",
   "metadata": {},
   "source": [
    "##### Further Experiments"
   ]
  },
  {
   "cell_type": "markdown",
   "id": "8c3254ea",
   "metadata": {},
   "source": [
    "the architecture choices have been fairly reasonable, and some potential improvement:\n",
    "- try one or three hidden layers instead of two and see how affects validation and test accuracy\n",
    "- try using layers with more hidden units or fewer hidden units: 32 units, 64 units and so on\n",
    "- try using the 'mse' loss function instead of 'binary_crossentropy'\n",
    "- try using the 'tanh' activation instead of 'relu'"
   ]
  },
  {
   "cell_type": "markdown",
   "id": "6e962811",
   "metadata": {},
   "source": [
    "![Warpping Up](./w_up_3.4.png)"
   ]
  }
 ],
 "metadata": {
  "kernelspec": {
   "display_name": "Python 3 (ipykernel)",
   "language": "python",
   "name": "python3"
  },
  "language_info": {
   "codemirror_mode": {
    "name": "ipython",
    "version": 3
   },
   "file_extension": ".py",
   "mimetype": "text/x-python",
   "name": "python",
   "nbconvert_exporter": "python",
   "pygments_lexer": "ipython3",
   "version": "3.9.16"
  }
 },
 "nbformat": 4,
 "nbformat_minor": 5
}
