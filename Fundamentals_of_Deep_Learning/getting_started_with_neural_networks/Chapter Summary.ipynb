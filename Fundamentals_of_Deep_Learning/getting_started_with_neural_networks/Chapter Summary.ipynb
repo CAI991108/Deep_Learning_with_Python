{
 "cells": [
  {
   "cell_type": "markdown",
   "id": "5437d86e",
   "metadata": {},
   "source": [
    "- the most common kinds of machine-learning tasks on vector data: binary classification, multiclass classification, and scalar regression (see wrapping up)\n",
    "- usually need to preprocess raw data before feeding it into a neural network\n",
    "- when data has features with different ranges, scale each feature independently as part of preprocessing\n",
    "- as training progresses, neural networks eventually begin to overfit and obtain worse results on never-before-seenn data\n",
    "- if there is few training data, use a small network with only one or two hidden layers, to avoid severe overfitting\n",
    "- if the data is divided into many categories, it may cause information bottlenecks if the intermediate layers too small\n",
    "- regression uses different loss functions and different evaluation metrics than classification\n",
    "- k-fold validation can help reliably evaluate the model when working with little data"
   ]
  }
 ],
 "metadata": {
  "kernelspec": {
   "display_name": "Python 3 (ipykernel)",
   "language": "python",
   "name": "python3"
  },
  "language_info": {
   "codemirror_mode": {
    "name": "ipython",
    "version": 3
   },
   "file_extension": ".py",
   "mimetype": "text/x-python",
   "name": "python",
   "nbconvert_exporter": "python",
   "pygments_lexer": "ipython3",
   "version": "3.10.4"
  }
 },
 "nbformat": 4,
 "nbformat_minor": 5
}
