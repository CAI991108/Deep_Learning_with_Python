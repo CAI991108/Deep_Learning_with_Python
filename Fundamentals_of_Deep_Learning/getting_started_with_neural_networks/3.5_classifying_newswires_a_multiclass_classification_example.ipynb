{
 "cells": [
  {
   "cell_type": "markdown",
   "id": "07049918",
   "metadata": {},
   "source": [
    "另外，使用 Jupyter Notebook 进行长期模型训练时，可能由于 GPU 内存无法及时释放导致该报错"
   ]
  },
  {
   "cell_type": "code",
   "execution_count": 1,
   "id": "7c7b395d",
   "metadata": {},
   "outputs": [
    {
     "name": "stderr",
     "output_type": "stream",
     "text": [
      "2022-10-26 08:13:20.346925: I tensorflow/core/util/util.cc:169] oneDNN custom operations are on. You may see slightly different numerical results due to floating-point round-off errors from different computation orders. To turn them off, set the environment variable `TF_ENABLE_ONEDNN_OPTS=0`.\n"
     ]
    },
    {
     "data": {
      "text/plain": [
       "'\\n\\ndense_layers = [0, 1, 2]\\nlayer_sizes = [32, 64, 128]\\nconv_layers = [1, 2, 3]\\n\\nfor dense_layer in dense_layers:\\n    for layer_size in layer_sizes:\\n        for conv_layer in conv_layers:\\n            reset_keras()\\n            # training your model here\\n            \\n'"
      ]
     },
     "execution_count": 1,
     "metadata": {},
     "output_type": "execute_result"
    }
   ],
   "source": [
    "from keras.backend import set_session\n",
    "from keras.backend import clear_session\n",
    "from keras.backend import get_session\n",
    "import tensorflow as tf\n",
    "import gc\n",
    "\n",
    "# Reset Keras Session\n",
    "def reset_keras():\n",
    "    sess = get_session()\n",
    "    clear_session()\n",
    "    sess.close()\n",
    "    sess = get_session()\n",
    "\n",
    "    try:\n",
    "        del classifier # this is from global space - change this as you need\n",
    "    except:\n",
    "        pass\n",
    "\n",
    "    print(gc.collect()) # if it does something you should see a number as output\n",
    "\n",
    "    # use the same config as you used to create the session\n",
    "    config = tf.compat.v1.ConfigProto()\n",
    "    config.gpu_options.per_process_gpu_memory_fraction = 1\n",
    "    config.gpu_options.visible_device_list = \"0\"\n",
    "    set_session(tf.compat.v1.Session(config=config))\n",
    "    \n",
    "\n",
    "    \n",
    "'''\n",
    "\n",
    "dense_layers = [0, 1, 2]\n",
    "layer_sizes = [32, 64, 128]\n",
    "conv_layers = [1, 2, 3]\n",
    "\n",
    "for dense_layer in dense_layers:\n",
    "    for layer_size in layer_sizes:\n",
    "        for conv_layer in conv_layers:\n",
    "            reset_keras()\n",
    "            # training your model here\n",
    "            \n",
    "'''"
   ]
  },
  {
   "cell_type": "markdown",
   "id": "6bdabfcd",
   "metadata": {},
   "source": [
    "a network to classify Reuters newswires into 46 mutually exclusive topics (single label, multiclass classification)\n",
    "- there also multilabel, multiclass classification"
   ]
  },
  {
   "cell_type": "markdown",
   "id": "4ee6089c",
   "metadata": {},
   "source": [
    "##### The Reuters Dataset"
   ]
  },
  {
   "cell_type": "markdown",
   "id": "3cc7887e",
   "metadata": {},
   "source": [
    "- a set of short newswires and their topics, published by Reuters in 1986\n",
    "- a simple, widely used toy dataset for text classification\n",
    "- 46 different topics, some are more represented than others, but each has at least 10 in the training set"
   ]
  },
  {
   "cell_type": "code",
   "execution_count": 2,
   "id": "76d8b0d3",
   "metadata": {},
   "outputs": [],
   "source": [
    "# loading the Reuters data set\n",
    "from keras.datasets import reuters\n",
    "\n",
    "(train_data, train_labels), (test_data, test_labels) = reuters.load_data(num_words=10000) # most frequently 10000"
   ]
  },
  {
   "cell_type": "code",
   "execution_count": 3,
   "id": "2825d90f",
   "metadata": {},
   "outputs": [
    {
     "data": {
      "text/plain": [
       "8982"
      ]
     },
     "execution_count": 3,
     "metadata": {},
     "output_type": "execute_result"
    }
   ],
   "source": [
    "len(train_data)"
   ]
  },
  {
   "cell_type": "code",
   "execution_count": 4,
   "id": "28ec561d",
   "metadata": {},
   "outputs": [
    {
     "data": {
      "text/plain": [
       "2246"
      ]
     },
     "execution_count": 4,
     "metadata": {},
     "output_type": "execute_result"
    }
   ],
   "source": [
    "len(test_data)"
   ]
  },
  {
   "cell_type": "markdown",
   "id": "037954ad",
   "metadata": {},
   "source": [
    "each example is a list of integers (word indices)"
   ]
  },
  {
   "cell_type": "code",
   "execution_count": 5,
   "id": "b4d647b9",
   "metadata": {},
   "outputs": [
    {
     "name": "stdout",
     "output_type": "stream",
     "text": [
      "[1, 245, 273, 207, 156, 53, 74, 160, 26, 14, 46, 296, 26, 39, 74, 2979, 3554, 14, 46, 4689, 4329, 86, 61, 3499, 4795, 14, 61, 451, 4329, 17, 12]\n"
     ]
    }
   ],
   "source": [
    "print(train_data[10])"
   ]
  },
  {
   "cell_type": "code",
   "execution_count": 6,
   "id": "28381c32",
   "metadata": {},
   "outputs": [],
   "source": [
    "# decoding newswires back to text\n",
    "word_index =reuters.get_word_index()\n",
    "reverse_word_index = dict([(value, key) for (key, value) in word_index.items()])\n",
    "decoded_newswire = ' '.join([reverse_word_index.get(i - 3, ' ') for i in train_data[0]])"
   ]
  },
  {
   "cell_type": "code",
   "execution_count": 7,
   "id": "c9982edf",
   "metadata": {},
   "outputs": [
    {
     "data": {
      "text/plain": [
       "'      said as a result of its december acquisition of space co it expects earnings per share in 1987 of 1 15 to 1 30 dlrs per share up from 70 cts in 1986 the company said pretax net should rise to nine to 10 mln dlrs from six mln dlrs in 1986 and rental operation revenues to 19 to 22 mln dlrs from 12 5 mln dlrs it said cash flow per share this year should be 2 50 to three dlrs reuter 3'"
      ]
     },
     "execution_count": 7,
     "metadata": {},
     "output_type": "execute_result"
    }
   ],
   "source": [
    "decoded_newswire"
   ]
  },
  {
   "cell_type": "markdown",
   "id": "e381c888",
   "metadata": {},
   "source": [
    "and the associated laebl:"
   ]
  },
  {
   "cell_type": "code",
   "execution_count": 7,
   "id": "fe6ab4cf",
   "metadata": {
    "scrolled": true
   },
   "outputs": [
    {
     "data": {
      "text/plain": [
       "3"
      ]
     },
     "execution_count": 7,
     "metadata": {},
     "output_type": "execute_result"
    }
   ],
   "source": [
    "train_labels[0]"
   ]
  },
  {
   "cell_type": "markdown",
   "id": "805c7f40",
   "metadata": {},
   "source": [
    "##### Preparing the Data"
   ]
  },
  {
   "cell_type": "code",
   "execution_count": 8,
   "id": "ff56dd15",
   "metadata": {},
   "outputs": [],
   "source": [
    "# encoding the data\n",
    "import numpy as np\n",
    "\n",
    "def vectorize_sequences(sequences, dimension=10000):\n",
    "    results = np.zeros((len(sequences), dimension))\n",
    "    for i, sequence in enumerate(sequences):\n",
    "        results[i, sequence] = 1\n",
    "    return results\n",
    "    \n",
    "x_train = vectorize_sequences(train_data) # vectorized training data\n",
    "x_test = vectorize_sequences(test_data) # vectorized test data"
   ]
  },
  {
   "cell_type": "markdown",
   "id": "5183390e",
   "metadata": {},
   "source": [
    "one-hot encoding (categorical encoding):\n",
    "- a widely used format for categorical data \n",
    "- consist of embedding each label as an all-zero vector with a 1 in the place of the label index"
   ]
  },
  {
   "cell_type": "code",
   "execution_count": 9,
   "id": "1822b7b2",
   "metadata": {},
   "outputs": [],
   "source": [
    "# here is an example of one-hot encoding\n",
    "def to_one_hot(labels, dimension=46):\n",
    "    results = np.zeros((len(labels), dimension))\n",
    "    for i, label in enumerate(labels):\n",
    "        results[i, label] = 1\n",
    "    return results\n",
    "    \n",
    "one_hot_train_labels = to_one_hot(train_labels) # vectorized train labels\n",
    "one_hot_test_labels = to_one_hot(test_labels) # vectorized test labels"
   ]
  },
  {
   "cell_type": "markdown",
   "id": "8bd3c7ac",
   "metadata": {},
   "source": [
    "alternatively, keras built-in function 'to_categorical':"
   ]
  },
  {
   "cell_type": "code",
   "execution_count": 11,
   "id": "7b5ea7c2",
   "metadata": {},
   "outputs": [],
   "source": [
    "from keras.utils.np_utils import to_categorical\n",
    "\n",
    "one_hot_train_labels = to_categorical(train_labels)\n",
    "one_hot_test_labels = to_categorical(test_labels)"
   ]
  },
  {
   "cell_type": "markdown",
   "id": "5de0a59e",
   "metadata": {},
   "source": [
    "##### Building the Network"
   ]
  },
  {
   "cell_type": "markdown",
   "id": "fa96fb4b",
   "metadata": {},
   "source": [
    "the dimensionality of the output space is larger than binary classification"
   ]
  },
  {
   "cell_type": "markdown",
   "id": "c46fc302",
   "metadata": {},
   "source": [
    "information bottleneck:\n",
    "- each Dense layers can only access informatioin present in the output of the previous layer, if one layer drops some information relevant, then it can never be recovered by later layers\n",
    "- 16-dimensional may work for binary classification, but not for 46 classes"
   ]
  },
  {
   "cell_type": "code",
   "execution_count": 10,
   "id": "f531dbf9",
   "metadata": {
    "scrolled": true
   },
   "outputs": [
    {
     "name": "stderr",
     "output_type": "stream",
     "text": [
      "2022-10-26 08:13:39.967390: I tensorflow/stream_executor/cuda/cuda_gpu_executor.cc:975] successful NUMA node read from SysFS had negative value (-1), but there must be at least one NUMA node, so returning NUMA node zero\n",
      "2022-10-26 08:13:40.035365: I tensorflow/stream_executor/cuda/cuda_gpu_executor.cc:975] successful NUMA node read from SysFS had negative value (-1), but there must be at least one NUMA node, so returning NUMA node zero\n",
      "2022-10-26 08:13:40.035537: I tensorflow/stream_executor/cuda/cuda_gpu_executor.cc:975] successful NUMA node read from SysFS had negative value (-1), but there must be at least one NUMA node, so returning NUMA node zero\n",
      "2022-10-26 08:13:40.036787: I tensorflow/core/platform/cpu_feature_guard.cc:193] This TensorFlow binary is optimized with oneAPI Deep Neural Network Library (oneDNN) to use the following CPU instructions in performance-critical operations:  AVX2 AVX_VNNI FMA\n",
      "To enable them in other operations, rebuild TensorFlow with the appropriate compiler flags.\n",
      "2022-10-26 08:13:40.039792: I tensorflow/stream_executor/cuda/cuda_gpu_executor.cc:975] successful NUMA node read from SysFS had negative value (-1), but there must be at least one NUMA node, so returning NUMA node zero\n",
      "2022-10-26 08:13:40.039983: I tensorflow/stream_executor/cuda/cuda_gpu_executor.cc:975] successful NUMA node read from SysFS had negative value (-1), but there must be at least one NUMA node, so returning NUMA node zero\n",
      "2022-10-26 08:13:40.040107: I tensorflow/stream_executor/cuda/cuda_gpu_executor.cc:975] successful NUMA node read from SysFS had negative value (-1), but there must be at least one NUMA node, so returning NUMA node zero\n"
     ]
    },
    {
     "name": "stdout",
     "output_type": "stream",
     "text": [
      "0\n"
     ]
    },
    {
     "name": "stderr",
     "output_type": "stream",
     "text": [
      "2022-10-26 08:13:40.627262: I tensorflow/stream_executor/cuda/cuda_gpu_executor.cc:975] successful NUMA node read from SysFS had negative value (-1), but there must be at least one NUMA node, so returning NUMA node zero\n",
      "2022-10-26 08:13:40.627454: I tensorflow/stream_executor/cuda/cuda_gpu_executor.cc:975] successful NUMA node read from SysFS had negative value (-1), but there must be at least one NUMA node, so returning NUMA node zero\n",
      "2022-10-26 08:13:40.627561: I tensorflow/stream_executor/cuda/cuda_gpu_executor.cc:975] successful NUMA node read from SysFS had negative value (-1), but there must be at least one NUMA node, so returning NUMA node zero\n",
      "2022-10-26 08:13:40.627684: I tensorflow/core/common_runtime/gpu/gpu_device.cc:1532] Created device /job:localhost/replica:0/task:0/device:GPU:0 with 2123 MB memory:  -> device: 0, name: NVIDIA GeForce RTX 3050 Ti Laptop GPU, pci bus id: 0000:01:00.0, compute capability: 8.6\n",
      "2022-10-26 08:13:40.634536: I tensorflow/stream_executor/cuda/cuda_gpu_executor.cc:975] successful NUMA node read from SysFS had negative value (-1), but there must be at least one NUMA node, so returning NUMA node zero\n",
      "2022-10-26 08:13:40.634694: I tensorflow/stream_executor/cuda/cuda_gpu_executor.cc:975] successful NUMA node read from SysFS had negative value (-1), but there must be at least one NUMA node, so returning NUMA node zero\n",
      "2022-10-26 08:13:40.634798: I tensorflow/stream_executor/cuda/cuda_gpu_executor.cc:975] successful NUMA node read from SysFS had negative value (-1), but there must be at least one NUMA node, so returning NUMA node zero\n",
      "2022-10-26 08:13:40.634942: I tensorflow/stream_executor/cuda/cuda_gpu_executor.cc:975] successful NUMA node read from SysFS had negative value (-1), but there must be at least one NUMA node, so returning NUMA node zero\n",
      "2022-10-26 08:13:40.635045: I tensorflow/stream_executor/cuda/cuda_gpu_executor.cc:975] successful NUMA node read from SysFS had negative value (-1), but there must be at least one NUMA node, so returning NUMA node zero\n",
      "2022-10-26 08:13:40.635129: I tensorflow/core/common_runtime/gpu/gpu_device.cc:1532] Created device /job:localhost/replica:0/task:0/device:GPU:0 with 2123 MB memory:  -> device: 0, name: NVIDIA GeForce RTX 3050 Ti Laptop GPU, pci bus id: 0000:01:00.0, compute capability: 8.6\n",
      "2022-10-26 08:13:40.712584: I tensorflow/stream_executor/cuda/cuda_gpu_executor.cc:975] successful NUMA node read from SysFS had negative value (-1), but there must be at least one NUMA node, so returning NUMA node zero\n",
      "2022-10-26 08:13:40.712804: I tensorflow/stream_executor/cuda/cuda_gpu_executor.cc:975] successful NUMA node read from SysFS had negative value (-1), but there must be at least one NUMA node, so returning NUMA node zero\n",
      "2022-10-26 08:13:40.712907: I tensorflow/stream_executor/cuda/cuda_gpu_executor.cc:975] successful NUMA node read from SysFS had negative value (-1), but there must be at least one NUMA node, so returning NUMA node zero\n",
      "2022-10-26 08:13:40.713057: I tensorflow/stream_executor/cuda/cuda_gpu_executor.cc:975] successful NUMA node read from SysFS had negative value (-1), but there must be at least one NUMA node, so returning NUMA node zero\n",
      "2022-10-26 08:13:40.713152: I tensorflow/stream_executor/cuda/cuda_gpu_executor.cc:975] successful NUMA node read from SysFS had negative value (-1), but there must be at least one NUMA node, so returning NUMA node zero\n",
      "2022-10-26 08:13:40.713266: I tensorflow/core/common_runtime/gpu/gpu_device.cc:1532] Created device /job:localhost/replica:0/task:0/device:GPU:0 with 2123 MB memory:  -> device: 0, name: NVIDIA GeForce RTX 3050 Ti Laptop GPU, pci bus id: 0000:01:00.0, compute capability: 8.6\n",
      "2022-10-26 08:13:40.715420: I tensorflow/stream_executor/cuda/cuda_gpu_executor.cc:975] successful NUMA node read from SysFS had negative value (-1), but there must be at least one NUMA node, so returning NUMA node zero\n",
      "2022-10-26 08:13:40.715576: I tensorflow/stream_executor/cuda/cuda_gpu_executor.cc:975] successful NUMA node read from SysFS had negative value (-1), but there must be at least one NUMA node, so returning NUMA node zero\n",
      "2022-10-26 08:13:40.715651: I tensorflow/stream_executor/cuda/cuda_gpu_executor.cc:975] successful NUMA node read from SysFS had negative value (-1), but there must be at least one NUMA node, so returning NUMA node zero\n",
      "2022-10-26 08:13:40.715745: I tensorflow/stream_executor/cuda/cuda_gpu_executor.cc:975] successful NUMA node read from SysFS had negative value (-1), but there must be at least one NUMA node, so returning NUMA node zero\n",
      "2022-10-26 08:13:40.715815: I tensorflow/stream_executor/cuda/cuda_gpu_executor.cc:975] successful NUMA node read from SysFS had negative value (-1), but there must be at least one NUMA node, so returning NUMA node zero\n",
      "2022-10-26 08:13:40.715875: I tensorflow/core/common_runtime/gpu/gpu_device.cc:1532] Created device /job:localhost/replica:0/task:0/device:GPU:0 with 2123 MB memory:  -> device: 0, name: NVIDIA GeForce RTX 3050 Ti Laptop GPU, pci bus id: 0000:01:00.0, compute capability: 8.6\n"
     ]
    }
   ],
   "source": [
    "# model definition\n",
    "from keras import models\n",
    "from keras import layers\n",
    "\n",
    "reset_keras()\n",
    "model = models.Sequential()\n",
    "model.add(layers.Dense(64, activation='relu', input_shape=(10000,)))\n",
    "model.add(layers.Dense(64, activation='relu'))\n",
    "model.add(layers.Dense(46, activation='softmax'))"
   ]
  },
  {
   "cell_type": "markdown",
   "id": "b262ff8a",
   "metadata": {},
   "source": [
    "note:\n",
    "- the network ends with a Dense layer of size 46, so for each input sample, the network will output a 46-dimensional vector, each dimension will encode a different output class\n",
    "- the last layer uses a 'softmax' activation, which will output a 'probability distribution' over the 46 different output classes -- for every input sample, the network will produce a 46-dimensional output vector, where output[i] is the probability that the sample belongs to class[i], the 46 scores will sum to 1"
   ]
  },
  {
   "cell_type": "markdown",
   "id": "a8928f37",
   "metadata": {},
   "source": [
    "the best lost function for multi-classes classification is 'categorical_crossentropy':\n",
    "- measures the distance between the probability distribution output by the network and the true distribution of the label \n",
    "- by minimising the distance between these two distributions, training the network as close as possible to the true labels"
   ]
  },
  {
   "cell_type": "code",
   "execution_count": 11,
   "id": "a4e13a9c",
   "metadata": {},
   "outputs": [
    {
     "name": "stdout",
     "output_type": "stream",
     "text": [
      "346\n"
     ]
    },
    {
     "name": "stderr",
     "output_type": "stream",
     "text": [
      "2022-10-26 08:13:43.854911: I tensorflow/stream_executor/cuda/cuda_gpu_executor.cc:975] successful NUMA node read from SysFS had negative value (-1), but there must be at least one NUMA node, so returning NUMA node zero\n",
      "2022-10-26 08:13:43.855292: I tensorflow/stream_executor/cuda/cuda_gpu_executor.cc:975] successful NUMA node read from SysFS had negative value (-1), but there must be at least one NUMA node, so returning NUMA node zero\n",
      "2022-10-26 08:13:43.855521: I tensorflow/stream_executor/cuda/cuda_gpu_executor.cc:975] successful NUMA node read from SysFS had negative value (-1), but there must be at least one NUMA node, so returning NUMA node zero\n",
      "2022-10-26 08:13:43.855786: I tensorflow/stream_executor/cuda/cuda_gpu_executor.cc:975] successful NUMA node read from SysFS had negative value (-1), but there must be at least one NUMA node, so returning NUMA node zero\n",
      "2022-10-26 08:13:43.855980: I tensorflow/stream_executor/cuda/cuda_gpu_executor.cc:975] successful NUMA node read from SysFS had negative value (-1), but there must be at least one NUMA node, so returning NUMA node zero\n",
      "2022-10-26 08:13:43.856141: I tensorflow/core/common_runtime/gpu/gpu_device.cc:1532] Created device /job:localhost/replica:0/task:0/device:GPU:0 with 2123 MB memory:  -> device: 0, name: NVIDIA GeForce RTX 3050 Ti Laptop GPU, pci bus id: 0000:01:00.0, compute capability: 8.6\n",
      "2022-10-26 08:13:43.950472: I tensorflow/stream_executor/cuda/cuda_gpu_executor.cc:975] successful NUMA node read from SysFS had negative value (-1), but there must be at least one NUMA node, so returning NUMA node zero\n",
      "2022-10-26 08:13:43.950717: I tensorflow/stream_executor/cuda/cuda_gpu_executor.cc:975] successful NUMA node read from SysFS had negative value (-1), but there must be at least one NUMA node, so returning NUMA node zero\n",
      "2022-10-26 08:13:43.950826: I tensorflow/stream_executor/cuda/cuda_gpu_executor.cc:975] successful NUMA node read from SysFS had negative value (-1), but there must be at least one NUMA node, so returning NUMA node zero\n",
      "2022-10-26 08:13:43.950999: I tensorflow/stream_executor/cuda/cuda_gpu_executor.cc:975] successful NUMA node read from SysFS had negative value (-1), but there must be at least one NUMA node, so returning NUMA node zero\n",
      "2022-10-26 08:13:43.951106: I tensorflow/stream_executor/cuda/cuda_gpu_executor.cc:975] successful NUMA node read from SysFS had negative value (-1), but there must be at least one NUMA node, so returning NUMA node zero\n",
      "2022-10-26 08:13:43.951185: I tensorflow/core/common_runtime/gpu/gpu_device.cc:1532] Created device /job:localhost/replica:0/task:0/device:GPU:0 with 2123 MB memory:  -> device: 0, name: NVIDIA GeForce RTX 3050 Ti Laptop GPU, pci bus id: 0000:01:00.0, compute capability: 8.6\n"
     ]
    }
   ],
   "source": [
    "# compiling the model\n",
    "reset_keras()\n",
    "model.compile(optimizer='rmsprop',\n",
    "             loss='categorical_crossentropy',\n",
    "             metrics=['accuracy'])"
   ]
  },
  {
   "cell_type": "markdown",
   "id": "9b7b0736",
   "metadata": {},
   "source": [
    "##### Validating the Approach"
   ]
  },
  {
   "cell_type": "markdown",
   "id": "fa288ec7",
   "metadata": {},
   "source": [
    "here sets apart 1000 samples in the training data to use as a validation set"
   ]
  },
  {
   "cell_type": "code",
   "execution_count": 12,
   "id": "ae755924",
   "metadata": {},
   "outputs": [],
   "source": [
    "# setting aside a validation set\n",
    "x_val = x_train[:1000]\n",
    "partial_x_train = x_train[1000:]\n",
    "\n",
    "y_val = one_hot_train_labels[:1000]\n",
    "partial_y_train = one_hot_train_labels[1000:]"
   ]
  },
  {
   "cell_type": "code",
   "execution_count": 13,
   "id": "c4701296",
   "metadata": {
    "scrolled": true
   },
   "outputs": [
    {
     "name": "stderr",
     "output_type": "stream",
     "text": [
      "2022-10-26 08:13:47.839648: I tensorflow/stream_executor/cuda/cuda_gpu_executor.cc:975] successful NUMA node read from SysFS had negative value (-1), but there must be at least one NUMA node, so returning NUMA node zero\n",
      "2022-10-26 08:13:47.839955: I tensorflow/stream_executor/cuda/cuda_gpu_executor.cc:975] successful NUMA node read from SysFS had negative value (-1), but there must be at least one NUMA node, so returning NUMA node zero\n",
      "2022-10-26 08:13:47.840137: I tensorflow/stream_executor/cuda/cuda_gpu_executor.cc:975] successful NUMA node read from SysFS had negative value (-1), but there must be at least one NUMA node, so returning NUMA node zero\n",
      "2022-10-26 08:13:47.840388: I tensorflow/stream_executor/cuda/cuda_gpu_executor.cc:975] successful NUMA node read from SysFS had negative value (-1), but there must be at least one NUMA node, so returning NUMA node zero\n",
      "2022-10-26 08:13:47.840575: I tensorflow/stream_executor/cuda/cuda_gpu_executor.cc:975] successful NUMA node read from SysFS had negative value (-1), but there must be at least one NUMA node, so returning NUMA node zero\n",
      "2022-10-26 08:13:47.840728: I tensorflow/core/common_runtime/gpu/gpu_device.cc:1532] Created device /job:localhost/replica:0/task:0/device:GPU:0 with 2123 MB memory:  -> device: 0, name: NVIDIA GeForce RTX 3050 Ti Laptop GPU, pci bus id: 0000:01:00.0, compute capability: 8.6\n",
      "2022-10-26 08:13:47.939405: I tensorflow/stream_executor/cuda/cuda_gpu_executor.cc:975] successful NUMA node read from SysFS had negative value (-1), but there must be at least one NUMA node, so returning NUMA node zero\n",
      "2022-10-26 08:13:47.939630: I tensorflow/stream_executor/cuda/cuda_gpu_executor.cc:975] successful NUMA node read from SysFS had negative value (-1), but there must be at least one NUMA node, so returning NUMA node zero\n",
      "2022-10-26 08:13:47.939732: I tensorflow/stream_executor/cuda/cuda_gpu_executor.cc:975] successful NUMA node read from SysFS had negative value (-1), but there must be at least one NUMA node, so returning NUMA node zero\n",
      "2022-10-26 08:13:47.939904: I tensorflow/stream_executor/cuda/cuda_gpu_executor.cc:975] successful NUMA node read from SysFS had negative value (-1), but there must be at least one NUMA node, so returning NUMA node zero\n",
      "2022-10-26 08:13:47.940002: I tensorflow/stream_executor/cuda/cuda_gpu_executor.cc:975] successful NUMA node read from SysFS had negative value (-1), but there must be at least one NUMA node, so returning NUMA node zero\n",
      "2022-10-26 08:13:47.940089: I tensorflow/core/common_runtime/gpu/gpu_device.cc:1532] Created device /job:localhost/replica:0/task:0/device:GPU:0 with 2123 MB memory:  -> device: 0, name: NVIDIA GeForce RTX 3050 Ti Laptop GPU, pci bus id: 0000:01:00.0, compute capability: 8.6\n"
     ]
    },
    {
     "name": "stdout",
     "output_type": "stream",
     "text": [
      "110\n",
      "Epoch 1/20\n",
      "11/16 [===================>..........] - ETA: 0s - loss: 3.0292 - accuracy: 0.4803"
     ]
    },
    {
     "name": "stderr",
     "output_type": "stream",
     "text": [
      "2022-10-26 08:13:49.623422: I tensorflow/stream_executor/cuda/cuda_blas.cc:1786] TensorFloat-32 will be used for the matrix multiplication. This will only be logged once.\n"
     ]
    },
    {
     "name": "stdout",
     "output_type": "stream",
     "text": [
      "16/16 [==============================] - 2s 22ms/step - loss: 2.7322 - accuracy: 0.5148 - val_loss: 1.7889 - val_accuracy: 0.6370\n",
      "Epoch 2/20\n",
      "16/16 [==============================] - 0s 12ms/step - loss: 1.4609 - accuracy: 0.6898 - val_loss: 1.3555 - val_accuracy: 0.7120\n",
      "Epoch 3/20\n",
      "16/16 [==============================] - 0s 13ms/step - loss: 1.0992 - accuracy: 0.7617 - val_loss: 1.1809 - val_accuracy: 0.7460\n",
      "Epoch 4/20\n",
      "16/16 [==============================] - 0s 12ms/step - loss: 0.8834 - accuracy: 0.8128 - val_loss: 1.0679 - val_accuracy: 0.7680\n",
      "Epoch 5/20\n",
      "16/16 [==============================] - 0s 13ms/step - loss: 0.7128 - accuracy: 0.8485 - val_loss: 1.0095 - val_accuracy: 0.7750\n",
      "Epoch 6/20\n",
      "16/16 [==============================] - 0s 11ms/step - loss: 0.5759 - accuracy: 0.8768 - val_loss: 0.9499 - val_accuracy: 0.7990\n",
      "Epoch 7/20\n",
      "16/16 [==============================] - 0s 11ms/step - loss: 0.4699 - accuracy: 0.9022 - val_loss: 0.9383 - val_accuracy: 0.8040\n",
      "Epoch 8/20\n",
      "16/16 [==============================] - 0s 12ms/step - loss: 0.3823 - accuracy: 0.9207 - val_loss: 0.9364 - val_accuracy: 0.8020\n",
      "Epoch 9/20\n",
      "16/16 [==============================] - 0s 13ms/step - loss: 0.3196 - accuracy: 0.9311 - val_loss: 0.9089 - val_accuracy: 0.8080\n",
      "Epoch 10/20\n",
      "16/16 [==============================] - 0s 11ms/step - loss: 0.2650 - accuracy: 0.9416 - val_loss: 0.9384 - val_accuracy: 0.8000\n",
      "Epoch 11/20\n",
      "16/16 [==============================] - 0s 13ms/step - loss: 0.2303 - accuracy: 0.9465 - val_loss: 0.9484 - val_accuracy: 0.8030\n",
      "Epoch 12/20\n",
      "16/16 [==============================] - 0s 13ms/step - loss: 0.2005 - accuracy: 0.9503 - val_loss: 0.9151 - val_accuracy: 0.8170\n",
      "Epoch 13/20\n",
      "16/16 [==============================] - 0s 14ms/step - loss: 0.1787 - accuracy: 0.9533 - val_loss: 0.9695 - val_accuracy: 0.8090\n",
      "Epoch 14/20\n",
      "16/16 [==============================] - 0s 14ms/step - loss: 0.1588 - accuracy: 0.9534 - val_loss: 0.9606 - val_accuracy: 0.8120\n",
      "Epoch 15/20\n",
      "16/16 [==============================] - 0s 12ms/step - loss: 0.1470 - accuracy: 0.9553 - val_loss: 0.9639 - val_accuracy: 0.8150\n",
      "Epoch 16/20\n",
      "16/16 [==============================] - 0s 13ms/step - loss: 0.1407 - accuracy: 0.9558 - val_loss: 0.9846 - val_accuracy: 0.8110\n",
      "Epoch 17/20\n",
      "16/16 [==============================] - 0s 12ms/step - loss: 0.1300 - accuracy: 0.9570 - val_loss: 0.9985 - val_accuracy: 0.8110\n",
      "Epoch 18/20\n",
      "16/16 [==============================] - 0s 12ms/step - loss: 0.1271 - accuracy: 0.9559 - val_loss: 1.0318 - val_accuracy: 0.8110\n",
      "Epoch 19/20\n",
      "16/16 [==============================] - 0s 13ms/step - loss: 0.1190 - accuracy: 0.9574 - val_loss: 1.0404 - val_accuracy: 0.8040\n",
      "Epoch 20/20\n",
      "16/16 [==============================] - 0s 12ms/step - loss: 0.1167 - accuracy: 0.9567 - val_loss: 1.0641 - val_accuracy: 0.8070\n"
     ]
    }
   ],
   "source": [
    "# training the model\n",
    "reset_keras()\n",
    "history = model.fit(partial_x_train,\n",
    "                    partial_y_train,\n",
    "                    epochs=20,\n",
    "                    batch_size=512,\n",
    "                    validation_data=(x_val, y_val))"
   ]
  },
  {
   "cell_type": "code",
   "execution_count": 14,
   "id": "807a73c3",
   "metadata": {
    "scrolled": true
   },
   "outputs": [
    {
     "data": {
      "image/png": "[encoded data removed]",
      "text/plain": [
       "<Figure size 640x480 with 1 Axes>"
      ]
     },
     "metadata": {},
     "output_type": "display_data"
    }
   ],
   "source": [
    "# plotting the training and validation loss\n",
    "import matplotlib.pyplot as plt\n",
    "\n",
    "loss = history.history['loss']\n",
    "val_loss = history.history['val_loss']\n",
    "\n",
    "epochs = range(1, len(loss) + 1)\n",
    "\n",
    "plt.plot(epochs, loss, 'bo', label='Training loss')\n",
    "plt.plot(epochs, val_loss, 'b', label='Validation loss')\n",
    "plt.title('Training and Validation Loss')\n",
    "plt.xlabel('Epochs')\n",
    "plt.ylabel('Loss')\n",
    "plt.legend()\n",
    "\n",
    "plt.show()"
   ]
  },
  {
   "cell_type": "code",
   "execution_count": 15,
   "id": "2d07ef4b",
   "metadata": {},
   "outputs": [
    {
     "data": {
      "image/png": "[encoded data removed]",
      "text/plain": [
       "<Figure size 640x480 with 1 Axes>"
      ]
     },
     "metadata": {},
     "output_type": "display_data"
    }
   ],
   "source": [
    "# plotting the training and validation accuracy\n",
    "plt.clf()\n",
    "\n",
    "acc = history.history['accuracy']\n",
    "val_acc = history.history['val_accuracy']\n",
    "\n",
    "plt.plot(epochs, acc, 'bo', label='Training acc')\n",
    "plt.plot(epochs, val_acc, 'b', label='Validation acc')\n",
    "plt.title('Training and Validation Accuracy')\n",
    "plt.xlabel('Epochs')\n",
    "plt.ylabel('Loss')\n",
    "plt.legend()\n",
    "\n",
    "plt.show()"
   ]
  },
  {
   "cell_type": "markdown",
   "id": "0dc1565e",
   "metadata": {},
   "source": [
    "the network begins to overfit after about nine epochs, retrain for nine epochs and evaluate"
   ]
  },
  {
   "cell_type": "code",
   "execution_count": 19,
   "id": "ff1554d2",
   "metadata": {},
   "outputs": [
    {
     "name": "stderr",
     "output_type": "stream",
     "text": [
      "2022-10-26 08:20:30.203530: I tensorflow/stream_executor/cuda/cuda_gpu_executor.cc:975] successful NUMA node read from SysFS had negative value (-1), but there must be at least one NUMA node, so returning NUMA node zero\n",
      "2022-10-26 08:20:30.203719: I tensorflow/stream_executor/cuda/cuda_gpu_executor.cc:975] successful NUMA node read from SysFS had negative value (-1), but there must be at least one NUMA node, so returning NUMA node zero\n",
      "2022-10-26 08:20:30.203819: I tensorflow/stream_executor/cuda/cuda_gpu_executor.cc:975] successful NUMA node read from SysFS had negative value (-1), but there must be at least one NUMA node, so returning NUMA node zero\n",
      "2022-10-26 08:20:30.203976: I tensorflow/stream_executor/cuda/cuda_gpu_executor.cc:975] successful NUMA node read from SysFS had negative value (-1), but there must be at least one NUMA node, so returning NUMA node zero\n",
      "2022-10-26 08:20:30.204109: I tensorflow/stream_executor/cuda/cuda_gpu_executor.cc:975] successful NUMA node read from SysFS had negative value (-1), but there must be at least one NUMA node, so returning NUMA node zero\n",
      "2022-10-26 08:20:30.204217: I tensorflow/core/common_runtime/gpu/gpu_device.cc:1532] Created device /job:localhost/replica:0/task:0/device:GPU:0 with 2123 MB memory:  -> device: 0, name: NVIDIA GeForce RTX 3050 Ti Laptop GPU, pci bus id: 0000:01:00.0, compute capability: 8.6\n",
      "2022-10-26 08:20:30.375079: I tensorflow/stream_executor/cuda/cuda_gpu_executor.cc:975] successful NUMA node read from SysFS had negative value (-1), but there must be at least one NUMA node, so returning NUMA node zero\n",
      "2022-10-26 08:20:30.375446: I tensorflow/stream_executor/cuda/cuda_gpu_executor.cc:975] successful NUMA node read from SysFS had negative value (-1), but there must be at least one NUMA node, so returning NUMA node zero\n",
      "2022-10-26 08:20:30.375587: I tensorflow/stream_executor/cuda/cuda_gpu_executor.cc:975] successful NUMA node read from SysFS had negative value (-1), but there must be at least one NUMA node, so returning NUMA node zero\n",
      "2022-10-26 08:20:30.375784: I tensorflow/stream_executor/cuda/cuda_gpu_executor.cc:975] successful NUMA node read from SysFS had negative value (-1), but there must be at least one NUMA node, so returning NUMA node zero\n",
      "2022-10-26 08:20:30.375898: I tensorflow/stream_executor/cuda/cuda_gpu_executor.cc:975] successful NUMA node read from SysFS had negative value (-1), but there must be at least one NUMA node, so returning NUMA node zero\n",
      "2022-10-26 08:20:30.376009: I tensorflow/core/common_runtime/gpu/gpu_device.cc:1532] Created device /job:localhost/replica:0/task:0/device:GPU:0 with 2123 MB memory:  -> device: 0, name: NVIDIA GeForce RTX 3050 Ti Laptop GPU, pci bus id: 0000:01:00.0, compute capability: 8.6\n",
      "2022-10-26 08:20:30.380668: I tensorflow/stream_executor/cuda/cuda_gpu_executor.cc:975] successful NUMA node read from SysFS had negative value (-1), but there must be at least one NUMA node, so returning NUMA node zero\n",
      "2022-10-26 08:20:30.380941: I tensorflow/stream_executor/cuda/cuda_gpu_executor.cc:975] successful NUMA node read from SysFS had negative value (-1), but there must be at least one NUMA node, so returning NUMA node zero\n",
      "2022-10-26 08:20:30.381133: I tensorflow/stream_executor/cuda/cuda_gpu_executor.cc:975] successful NUMA node read from SysFS had negative value (-1), but there must be at least one NUMA node, so returning NUMA node zero\n",
      "2022-10-26 08:20:30.381535: I tensorflow/stream_executor/cuda/cuda_gpu_executor.cc:975] successful NUMA node read from SysFS had negative value (-1), but there must be at least one NUMA node, so returning NUMA node zero\n",
      "2022-10-26 08:20:30.381701: I tensorflow/stream_executor/cuda/cuda_gpu_executor.cc:975] successful NUMA node read from SysFS had negative value (-1), but there must be at least one NUMA node, so returning NUMA node zero\n",
      "2022-10-26 08:20:30.381815: I tensorflow/core/common_runtime/gpu/gpu_device.cc:1532] Created device /job:localhost/replica:0/task:0/device:GPU:0 with 2123 MB memory:  -> device: 0, name: NVIDIA GeForce RTX 3050 Ti Laptop GPU, pci bus id: 0000:01:00.0, compute capability: 8.6\n"
     ]
    },
    {
     "name": "stdout",
     "output_type": "stream",
     "text": [
      "3628\n",
      "110\n",
      "Epoch 1/9\n"
     ]
    },
    {
     "name": "stderr",
     "output_type": "stream",
     "text": [
      "2022-10-26 08:20:30.537051: I tensorflow/stream_executor/cuda/cuda_gpu_executor.cc:975] successful NUMA node read from SysFS had negative value (-1), but there must be at least one NUMA node, so returning NUMA node zero\n",
      "2022-10-26 08:20:30.537272: I tensorflow/stream_executor/cuda/cuda_gpu_executor.cc:975] successful NUMA node read from SysFS had negative value (-1), but there must be at least one NUMA node, so returning NUMA node zero\n",
      "2022-10-26 08:20:30.537412: I tensorflow/stream_executor/cuda/cuda_gpu_executor.cc:975] successful NUMA node read from SysFS had negative value (-1), but there must be at least one NUMA node, so returning NUMA node zero\n",
      "2022-10-26 08:20:30.537595: I tensorflow/stream_executor/cuda/cuda_gpu_executor.cc:975] successful NUMA node read from SysFS had negative value (-1), but there must be at least one NUMA node, so returning NUMA node zero\n",
      "2022-10-26 08:20:30.537728: I tensorflow/stream_executor/cuda/cuda_gpu_executor.cc:975] successful NUMA node read from SysFS had negative value (-1), but there must be at least one NUMA node, so returning NUMA node zero\n",
      "2022-10-26 08:20:30.537844: I tensorflow/core/common_runtime/gpu/gpu_device.cc:1532] Created device /job:localhost/replica:0/task:0/device:GPU:0 with 2123 MB memory:  -> device: 0, name: NVIDIA GeForce RTX 3050 Ti Laptop GPU, pci bus id: 0000:01:00.0, compute capability: 8.6\n"
     ]
    },
    {
     "name": "stdout",
     "output_type": "stream",
     "text": [
      "16/16 [==============================] - 1s 27ms/step - loss: 2.6081 - accuracy: 0.4793 - val_loss: 1.7620 - val_accuracy: 0.6160\n",
      "Epoch 2/9\n",
      "16/16 [==============================] - 0s 18ms/step - loss: 1.4436 - accuracy: 0.6989 - val_loss: 1.3059 - val_accuracy: 0.7190\n",
      "Epoch 3/9\n",
      "16/16 [==============================] - 0s 21ms/step - loss: 1.0594 - accuracy: 0.7746 - val_loss: 1.1355 - val_accuracy: 0.7610\n",
      "Epoch 4/9\n",
      "16/16 [==============================] - 0s 14ms/step - loss: 0.8274 - accuracy: 0.8245 - val_loss: 1.0266 - val_accuracy: 0.7920\n",
      "Epoch 5/9\n",
      "16/16 [==============================] - 0s 13ms/step - loss: 0.6563 - accuracy: 0.8657 - val_loss: 0.9665 - val_accuracy: 0.7950\n",
      "Epoch 6/9\n",
      "16/16 [==============================] - 0s 12ms/step - loss: 0.5244 - accuracy: 0.8918 - val_loss: 0.9223 - val_accuracy: 0.8150\n",
      "Epoch 7/9\n",
      "16/16 [==============================] - 0s 12ms/step - loss: 0.4223 - accuracy: 0.9124 - val_loss: 0.8941 - val_accuracy: 0.8190\n",
      "Epoch 8/9\n",
      "16/16 [==============================] - 0s 13ms/step - loss: 0.3400 - accuracy: 0.9293 - val_loss: 0.8963 - val_accuracy: 0.8150\n",
      "Epoch 9/9\n",
      "16/16 [==============================] - 0s 17ms/step - loss: 0.2862 - accuracy: 0.9375 - val_loss: 0.8701 - val_accuracy: 0.8240\n",
      "71/71 [==============================] - 0s 4ms/step - loss: 0.9814 - accuracy: 0.7903\n"
     ]
    }
   ],
   "source": [
    "# retraining a model from scratch\n",
    "model = models.Sequential()\n",
    "model.add(layers.Dense(64, activation='relu', input_shape=(10000,)))\n",
    "model.add(layers.Dense(64, activation='relu'))\n",
    "model.add(layers.Dense(46, activation='softmax'))\n",
    "\n",
    "reset_keras()\n",
    "model.compile(optimizer='rmsprop',\n",
    "              loss='categorical_crossentropy',\n",
    "              metrics=['accuracy'])\n",
    "\n",
    "reset_keras()\n",
    "model.fit(partial_x_train,\n",
    "          partial_y_train, \n",
    "          epochs=9, \n",
    "          batch_size=512,\n",
    "          validation_data=(x_val, y_val))\n",
    "\n",
    "results = model.evaluate(x_test, one_hot_test_labels)"
   ]
  },
  {
   "cell_type": "code",
   "execution_count": 20,
   "id": "4d0f48ac",
   "metadata": {},
   "outputs": [
    {
     "data": {
      "text/plain": [
       "[0.9814120531082153, 0.7902938723564148]"
      ]
     },
     "execution_count": 20,
     "metadata": {},
     "output_type": "execute_result"
    }
   ],
   "source": [
    "results"
   ]
  },
  {
   "cell_type": "markdown",
   "id": "bc5f7975",
   "metadata": {},
   "source": [
    "the ~80% accuracy seem pretty good compared to a random baseline:"
   ]
  },
  {
   "cell_type": "code",
   "execution_count": 21,
   "id": "f002c92d",
   "metadata": {},
   "outputs": [
    {
     "data": {
      "text/plain": [
       "0.18432769367764915"
      ]
     },
     "execution_count": 21,
     "metadata": {},
     "output_type": "execute_result"
    }
   ],
   "source": [
    "import copy\n",
    "\n",
    "test_labels_copy = copy.copy(test_labels)\n",
    "np.random.shuffle(test_labels_copy)\n",
    "hist_array = np.array(test_labels) == np.array(test_labels_copy)\n",
    "float(np.sum(hist_array)) / len(test_labels)"
   ]
  },
  {
   "cell_type": "markdown",
   "id": "09feac71",
   "metadata": {},
   "source": [
    "##### Generating Predictions on New Data"
   ]
  },
  {
   "cell_type": "code",
   "execution_count": 22,
   "id": "51b1ea80",
   "metadata": {},
   "outputs": [
    {
     "name": "stdout",
     "output_type": "stream",
     "text": [
      "71/71 [==============================] - 0s 3ms/step\n"
     ]
    }
   ],
   "source": [
    "# generating predictions for new data\n",
    "predictions = model.predict(x_test)"
   ]
  },
  {
   "cell_type": "markdown",
   "id": "1540382b",
   "metadata": {},
   "source": [
    "it can verify taht the predict method returns a probability distribution over all 46 topics"
   ]
  },
  {
   "cell_type": "code",
   "execution_count": 23,
   "id": "49963433",
   "metadata": {},
   "outputs": [
    {
     "data": {
      "text/plain": [
       "(46,)"
      ]
     },
     "execution_count": 23,
     "metadata": {},
     "output_type": "execute_result"
    }
   ],
   "source": [
    "predictions[0].shape"
   ]
  },
  {
   "cell_type": "markdown",
   "id": "8910c37b",
   "metadata": {},
   "source": [
    "the coefficients sum to 1"
   ]
  },
  {
   "cell_type": "code",
   "execution_count": 24,
   "id": "aed82e6f",
   "metadata": {},
   "outputs": [
    {
     "data": {
      "text/plain": [
       "1.0"
      ]
     },
     "execution_count": 24,
     "metadata": {},
     "output_type": "execute_result"
    }
   ],
   "source": [
    "np.sum(predictions[0])"
   ]
  },
  {
   "cell_type": "markdown",
   "id": "ea7889dc",
   "metadata": {},
   "source": [
    "the largest entry is the predict class (with the highest probability)"
   ]
  },
  {
   "cell_type": "code",
   "execution_count": 25,
   "id": "e800e4f3",
   "metadata": {},
   "outputs": [
    {
     "data": {
      "text/plain": [
       "3"
      ]
     },
     "execution_count": 25,
     "metadata": {},
     "output_type": "execute_result"
    }
   ],
   "source": [
    "np.argmax(predictions[0])"
   ]
  },
  {
   "cell_type": "code",
   "execution_count": 27,
   "id": "2874f587",
   "metadata": {},
   "outputs": [
    {
     "data": {
      "text/plain": [
       "array([2.77604322e-05, 2.29418161e-04, 7.65095174e-05, 9.17226911e-01,\n",
       "       7.09773675e-02, 2.95153077e-05, 5.89625153e-04, 1.90551891e-05,\n",
       "       1.05417881e-03, 5.95202164e-06, 1.05358129e-04, 4.88023879e-03,\n",
       "       2.31124814e-05, 4.19611169e-05, 3.26625232e-05, 1.06193261e-06,\n",
       "       5.42310998e-04, 9.16291247e-05, 1.74159595e-05, 9.15308774e-04,\n",
       "       1.01012748e-03, 3.97061696e-04, 6.44585998e-06, 1.83992626e-04,\n",
       "       8.50554570e-05, 1.92613734e-05, 4.21285813e-06, 1.40811871e-05,\n",
       "       1.87046453e-06, 1.24528771e-04, 3.74343974e-04, 2.17259498e-04,\n",
       "       1.74470381e-06, 5.82039002e-06, 1.92766893e-04, 2.95118866e-06,\n",
       "       2.56132946e-04, 2.84403304e-05, 1.21150815e-05, 7.54756475e-05,\n",
       "       1.55770176e-05, 4.21950645e-05, 2.26030606e-05, 5.79895914e-06,\n",
       "       5.38958943e-07, 1.23225882e-05], dtype=float32)"
      ]
     },
     "execution_count": 27,
     "metadata": {},
     "output_type": "execute_result"
    }
   ],
   "source": [
    "predictions[0]"
   ]
  },
  {
   "cell_type": "markdown",
   "id": "79d44602",
   "metadata": {},
   "source": [
    "##### A Different Way to Handle the Labels and the Loss"
   ]
  },
  {
   "cell_type": "markdown",
   "id": "2fdc9353",
   "metadata": {},
   "source": [
    "another way to encode the labels would be to cast them as an integer tensor, such as:"
   ]
  },
  {
   "cell_type": "code",
   "execution_count": 28,
   "id": "e7d9466d",
   "metadata": {},
   "outputs": [],
   "source": [
    "y_train = np.array(train_labels)\n",
    "y_test = np.array(test_labels)"
   ]
  },
  {
   "cell_type": "markdown",
   "id": "a13db973",
   "metadata": {},
   "source": [
    "the integer labels would only change the choice of the loss function, using 'sparse_categorical_crossentropy' instead the 'categorical_crossentropy':"
   ]
  },
  {
   "cell_type": "code",
   "execution_count": 31,
   "id": "37a854b6",
   "metadata": {},
   "outputs": [],
   "source": [
    "model.compile(optimizer='rmsprop',\n",
    "              loss='sparse_categorical_crossentropy',\n",
    "              metrics=['acc'])"
   ]
  },
  {
   "cell_type": "code",
   "execution_count": 44,
   "id": "e59883da",
   "metadata": {},
   "outputs": [
    {
     "name": "stderr",
     "output_type": "stream",
     "text": [
      "2022-10-26 09:01:06.722590: I tensorflow/stream_executor/cuda/cuda_gpu_executor.cc:975] successful NUMA node read from SysFS had negative value (-1), but there must be at least one NUMA node, so returning NUMA node zero\n",
      "2022-10-26 09:01:06.723151: I tensorflow/stream_executor/cuda/cuda_gpu_executor.cc:975] successful NUMA node read from SysFS had negative value (-1), but there must be at least one NUMA node, so returning NUMA node zero\n",
      "2022-10-26 09:01:06.723595: I tensorflow/stream_executor/cuda/cuda_gpu_executor.cc:975] successful NUMA node read from SysFS had negative value (-1), but there must be at least one NUMA node, so returning NUMA node zero\n",
      "2022-10-26 09:01:06.723861: I tensorflow/stream_executor/cuda/cuda_gpu_executor.cc:975] successful NUMA node read from SysFS had negative value (-1), but there must be at least one NUMA node, so returning NUMA node zero\n",
      "2022-10-26 09:01:06.724062: I tensorflow/stream_executor/cuda/cuda_gpu_executor.cc:975] successful NUMA node read from SysFS had negative value (-1), but there must be at least one NUMA node, so returning NUMA node zero\n",
      "2022-10-26 09:01:06.724268: I tensorflow/core/common_runtime/gpu/gpu_device.cc:1532] Created device /job:localhost/replica:0/task:0/device:GPU:0 with 2123 MB memory:  -> device: 0, name: NVIDIA GeForce RTX 3050 Ti Laptop GPU, pci bus id: 0000:01:00.0, compute capability: 8.6\n"
     ]
    },
    {
     "name": "stdout",
     "output_type": "stream",
     "text": [
      "3472\n"
     ]
    },
    {
     "name": "stderr",
     "output_type": "stream",
     "text": [
      "2022-10-26 09:01:06.999449: I tensorflow/stream_executor/cuda/cuda_gpu_executor.cc:975] successful NUMA node read from SysFS had negative value (-1), but there must be at least one NUMA node, so returning NUMA node zero\n",
      "2022-10-26 09:01:07.000064: I tensorflow/stream_executor/cuda/cuda_gpu_executor.cc:975] successful NUMA node read from SysFS had negative value (-1), but there must be at least one NUMA node, so returning NUMA node zero\n",
      "2022-10-26 09:01:07.000308: I tensorflow/stream_executor/cuda/cuda_gpu_executor.cc:975] successful NUMA node read from SysFS had negative value (-1), but there must be at least one NUMA node, so returning NUMA node zero\n",
      "2022-10-26 09:01:07.000553: I tensorflow/stream_executor/cuda/cuda_gpu_executor.cc:975] successful NUMA node read from SysFS had negative value (-1), but there must be at least one NUMA node, so returning NUMA node zero\n",
      "2022-10-26 09:01:07.000724: I tensorflow/stream_executor/cuda/cuda_gpu_executor.cc:975] successful NUMA node read from SysFS had negative value (-1), but there must be at least one NUMA node, so returning NUMA node zero\n",
      "2022-10-26 09:01:07.000850: I tensorflow/core/common_runtime/gpu/gpu_device.cc:1532] Created device /job:localhost/replica:0/task:0/device:GPU:0 with 2123 MB memory:  -> device: 0, name: NVIDIA GeForce RTX 3050 Ti Laptop GPU, pci bus id: 0000:01:00.0, compute capability: 8.6\n",
      "2022-10-26 09:01:07.010119: I tensorflow/stream_executor/cuda/cuda_gpu_executor.cc:975] successful NUMA node read from SysFS had negative value (-1), but there must be at least one NUMA node, so returning NUMA node zero\n",
      "2022-10-26 09:01:07.010770: I tensorflow/stream_executor/cuda/cuda_gpu_executor.cc:975] successful NUMA node read from SysFS had negative value (-1), but there must be at least one NUMA node, so returning NUMA node zero\n",
      "2022-10-26 09:01:07.011157: I tensorflow/stream_executor/cuda/cuda_gpu_executor.cc:975] successful NUMA node read from SysFS had negative value (-1), but there must be at least one NUMA node, so returning NUMA node zero\n",
      "2022-10-26 09:01:07.011625: I tensorflow/stream_executor/cuda/cuda_gpu_executor.cc:975] successful NUMA node read from SysFS had negative value (-1), but there must be at least one NUMA node, so returning NUMA node zero\n",
      "2022-10-26 09:01:07.011940: I tensorflow/stream_executor/cuda/cuda_gpu_executor.cc:975] successful NUMA node read from SysFS had negative value (-1), but there must be at least one NUMA node, so returning NUMA node zero\n",
      "2022-10-26 09:01:07.012234: I tensorflow/core/common_runtime/gpu/gpu_device.cc:1532] Created device /job:localhost/replica:0/task:0/device:GPU:0 with 2123 MB memory:  -> device: 0, name: NVIDIA GeForce RTX 3050 Ti Laptop GPU, pci bus id: 0000:01:00.0, compute capability: 8.6\n"
     ]
    },
    {
     "name": "stdout",
     "output_type": "stream",
     "text": [
      "110\n"
     ]
    },
    {
     "name": "stderr",
     "output_type": "stream",
     "text": [
      "2022-10-26 09:01:07.269124: I tensorflow/stream_executor/cuda/cuda_gpu_executor.cc:975] successful NUMA node read from SysFS had negative value (-1), but there must be at least one NUMA node, so returning NUMA node zero\n",
      "2022-10-26 09:01:07.269375: I tensorflow/stream_executor/cuda/cuda_gpu_executor.cc:975] successful NUMA node read from SysFS had negative value (-1), but there must be at least one NUMA node, so returning NUMA node zero\n",
      "2022-10-26 09:01:07.269486: I tensorflow/stream_executor/cuda/cuda_gpu_executor.cc:975] successful NUMA node read from SysFS had negative value (-1), but there must be at least one NUMA node, so returning NUMA node zero\n",
      "2022-10-26 09:01:07.269683: I tensorflow/stream_executor/cuda/cuda_gpu_executor.cc:975] successful NUMA node read from SysFS had negative value (-1), but there must be at least one NUMA node, so returning NUMA node zero\n",
      "2022-10-26 09:01:07.269926: I tensorflow/stream_executor/cuda/cuda_gpu_executor.cc:975] successful NUMA node read from SysFS had negative value (-1), but there must be at least one NUMA node, so returning NUMA node zero\n",
      "2022-10-26 09:01:07.270072: I tensorflow/core/common_runtime/gpu/gpu_device.cc:1532] Created device /job:localhost/replica:0/task:0/device:GPU:0 with 2123 MB memory:  -> device: 0, name: NVIDIA GeForce RTX 3050 Ti Laptop GPU, pci bus id: 0000:01:00.0, compute capability: 8.6\n"
     ]
    },
    {
     "name": "stdout",
     "output_type": "stream",
     "text": [
      "Epoch 1/10\n",
      "18/18 [==============================] - 1s 15ms/step - loss: 2.7274 - acc: 0.5151\n",
      "Epoch 2/10\n",
      "18/18 [==============================] - 0s 15ms/step - loss: 1.3908 - acc: 0.7152\n",
      "Epoch 3/10\n",
      "18/18 [==============================] - 0s 14ms/step - loss: 1.0065 - acc: 0.7892\n",
      "Epoch 4/10\n",
      "18/18 [==============================] - 0s 13ms/step - loss: 0.7885 - acc: 0.8350\n",
      "Epoch 5/10\n",
      "18/18 [==============================] - 0s 11ms/step - loss: 0.6266 - acc: 0.8670\n",
      "Epoch 6/10\n",
      "18/18 [==============================] - 0s 11ms/step - loss: 0.5047 - acc: 0.8936\n",
      "Epoch 7/10\n",
      "18/18 [==============================] - 0s 12ms/step - loss: 0.4078 - acc: 0.9132\n",
      "Epoch 8/10\n",
      "18/18 [==============================] - 0s 12ms/step - loss: 0.3358 - acc: 0.9287\n",
      "Epoch 9/10\n",
      "18/18 [==============================] - 0s 11ms/step - loss: 0.2861 - acc: 0.9364\n",
      "Epoch 10/10\n",
      "18/18 [==============================] - 0s 11ms/step - loss: 0.2411 - acc: 0.9452\n",
      "71/71 [==============================] - 1s 6ms/step - loss: 0.9641 - acc: 0.7925\n"
     ]
    }
   ],
   "source": [
    "model = models.Sequential()\n",
    "model.add(layers.Dense(64, activation='relu', input_shape=(10000,)))\n",
    "model.add(layers.Dense(64, activation='relu'))\n",
    "model.add(layers.Dense(46, activation='softmax'))\n",
    "\n",
    "reset_keras()\n",
    "model.compile(optimizer='rmsprop',\n",
    "              loss='sparse_categorical_crossentropy',\n",
    "              metrics=['acc'])\n",
    "\n",
    "reset_keras()\n",
    "model.fit(x_train,\n",
    "          y_train, \n",
    "          epochs=10, \n",
    "          batch_size=512)\n",
    "\n",
    "results = model.evaluate(x_test, y_test)"
   ]
  },
  {
   "cell_type": "code",
   "execution_count": 45,
   "id": "381ef863",
   "metadata": {},
   "outputs": [
    {
     "data": {
      "text/plain": [
       "[0.9641454815864563, 0.7925200462341309]"
      ]
     },
     "execution_count": 45,
     "metadata": {},
     "output_type": "execute_result"
    }
   ],
   "source": [
    "results"
   ]
  },
  {
   "cell_type": "markdown",
   "id": "cbccde70",
   "metadata": {},
   "source": [
    "this is mathematically the same as 'categorical_crossentropy' but different interface"
   ]
  },
  {
   "cell_type": "markdown",
   "id": "21fca8c9",
   "metadata": {},
   "source": [
    "##### The Importance of Having Suffficiently Large Intermediate Layers"
   ]
  },
  {
   "cell_type": "markdown",
   "id": "81022b1b",
   "metadata": {},
   "source": [
    "as mentioned above, the model should avoid intermediate layers with any fewer than 46 hidden units"
   ]
  },
  {
   "cell_type": "code",
   "execution_count": 46,
   "id": "19f7e6db",
   "metadata": {},
   "outputs": [
    {
     "name": "stdout",
     "output_type": "stream",
     "text": [
      "Epoch 1/20\n",
      "63/63 [==============================] - 1s 9ms/step - loss: 2.6939 - accuracy: 0.5163 - val_loss: 1.9481 - val_accuracy: 0.5400\n",
      "Epoch 2/20\n",
      "63/63 [==============================] - 0s 8ms/step - loss: 1.7825 - accuracy: 0.5462 - val_loss: 1.6697 - val_accuracy: 0.5470\n",
      "Epoch 3/20\n",
      "63/63 [==============================] - 0s 8ms/step - loss: 1.5276 - accuracy: 0.5774 - val_loss: 1.5408 - val_accuracy: 0.5710\n",
      "Epoch 4/20\n",
      "63/63 [==============================] - 1s 9ms/step - loss: 1.3667 - accuracy: 0.5879 - val_loss: 1.4603 - val_accuracy: 0.5760\n",
      "Epoch 5/20\n",
      "63/63 [==============================] - 1s 10ms/step - loss: 1.2405 - accuracy: 0.6094 - val_loss: 1.4252 - val_accuracy: 0.6000\n",
      "Epoch 6/20\n",
      "63/63 [==============================] - 1s 9ms/step - loss: 1.1347 - accuracy: 0.6720 - val_loss: 1.4010 - val_accuracy: 0.6470\n",
      "Epoch 7/20\n",
      "63/63 [==============================] - 0s 7ms/step - loss: 1.0507 - accuracy: 0.7114 - val_loss: 1.4207 - val_accuracy: 0.6590\n",
      "Epoch 8/20\n",
      "63/63 [==============================] - 0s 7ms/step - loss: 0.9805 - accuracy: 0.7294 - val_loss: 1.4215 - val_accuracy: 0.6610\n",
      "Epoch 9/20\n",
      "63/63 [==============================] - 0s 8ms/step - loss: 0.9241 - accuracy: 0.7393 - val_loss: 1.4394 - val_accuracy: 0.6680\n",
      "Epoch 10/20\n",
      "63/63 [==============================] - 1s 10ms/step - loss: 0.8781 - accuracy: 0.7489 - val_loss: 1.4896 - val_accuracy: 0.6660\n",
      "Epoch 11/20\n",
      "63/63 [==============================] - 0s 7ms/step - loss: 0.8381 - accuracy: 0.7621 - val_loss: 1.5166 - val_accuracy: 0.6720\n",
      "Epoch 12/20\n",
      "63/63 [==============================] - 0s 8ms/step - loss: 0.8030 - accuracy: 0.7700 - val_loss: 1.5593 - val_accuracy: 0.6620\n",
      "Epoch 13/20\n",
      "63/63 [==============================] - 0s 8ms/step - loss: 0.7716 - accuracy: 0.7790 - val_loss: 1.6142 - val_accuracy: 0.6600\n",
      "Epoch 14/20\n",
      "63/63 [==============================] - 1s 9ms/step - loss: 0.7452 - accuracy: 0.7825 - val_loss: 1.6510 - val_accuracy: 0.6570\n",
      "Epoch 15/20\n",
      "63/63 [==============================] - 1s 8ms/step - loss: 0.7225 - accuracy: 0.7863 - val_loss: 1.7035 - val_accuracy: 0.6540\n",
      "Epoch 16/20\n",
      "63/63 [==============================] - 0s 8ms/step - loss: 0.6989 - accuracy: 0.7864 - val_loss: 1.7782 - val_accuracy: 0.6550\n",
      "Epoch 17/20\n",
      "63/63 [==============================] - 1s 9ms/step - loss: 0.6821 - accuracy: 0.7895 - val_loss: 1.8176 - val_accuracy: 0.6570\n",
      "Epoch 18/20\n",
      "63/63 [==============================] - 1s 8ms/step - loss: 0.6631 - accuracy: 0.7904 - val_loss: 1.9235 - val_accuracy: 0.6460\n",
      "Epoch 19/20\n",
      "63/63 [==============================] - 1s 8ms/step - loss: 0.6468 - accuracy: 0.7963 - val_loss: 1.9683 - val_accuracy: 0.6490\n",
      "Epoch 20/20\n",
      "63/63 [==============================] - 0s 7ms/step - loss: 0.6315 - accuracy: 0.8066 - val_loss: 1.9596 - val_accuracy: 0.6470\n"
     ]
    },
    {
     "data": {
      "text/plain": [
       "<keras.callbacks.History at 0x7ef9f0428160>"
      ]
     },
     "execution_count": 46,
     "metadata": {},
     "output_type": "execute_result"
    }
   ],
   "source": [
    "# a model with an information bottleneck\n",
    "reset_keras()\n",
    "model = models.Sequential()\n",
    "model.add(layers.Dense(64, activation='relu', input_shape=(10000,)))\n",
    "model.add(layers.Dense(4, activation='relu'))\n",
    "model.add(layers.Dense(46, activation='softmax'))\n",
    "\n",
    "reset_keras()\n",
    "model.compile(optimizer='rmsprop',\n",
    "              loss='categorical_crossentropy',\n",
    "              metrics=['accuracy'])\n",
    "\n",
    "reset_keras()\n",
    "model.fit(partial_x_train,\n",
    "          partial_y_train,\n",
    "          epochs=20,\n",
    "          batch_size=128,\n",
    "          validation_data=(x_val, y_val))"
   ]
  },
  {
   "cell_type": "markdown",
   "id": "6f72ca58",
   "metadata": {},
   "source": [
    "the network peaks at only ~67% validation accuracy, this mostly due to the fact that the model is trying to compress a lot of information (enough information to recover the separation hyperplanes of 46 classes) into an intermediate space that is too low-dimensional, the network is able to cram most of the necessary informaion, but not all of it"
   ]
  },
  {
   "cell_type": "markdown",
   "id": "5f2bfef6",
   "metadata": {},
   "source": [
    "##### Further Experiments"
   ]
  },
  {
   "cell_type": "markdown",
   "id": "bd6ce428",
   "metadata": {},
   "source": [
    "- try larger or smaller layers: 32 units, 128 units and so on\n",
    "- try a single hidden layer, or three hidden layers"
   ]
  },
  {
   "cell_type": "markdown",
   "id": "8133236b",
   "metadata": {},
   "source": [
    "##### Wrapping Up"
   ]
  },
  {
   "cell_type": "markdown",
   "id": "628ea06d",
   "metadata": {},
   "source": [
    "- classification data points among N classes, the network should end with a Dense layer of size N\n",
    "- In a single-label, multiclass classification problem, the network should end with a 'softmax' activation so that it will output a probability distribution over the N output classes\n",
    "- Categorical crossentropy is almost always the loss function for such problem, it minimizes the ditance between the probability distributions output by the network and the true distribution of the targets\n",
    "- two ways to handle labels in multiclass classification:\n",
    "    - encoding the labels via categorical encoding (one-hot-encoding) and use 'categorical_crossentropy' as loss function\n",
    "    - encoding the labels as integers and using the 'spare_categorical_crossentropy' loss function\n",
    "- for classify data into a large number of categories, we should avoid creating information bottlenecks due to intermediate layers that are too small"
   ]
  }
 ],
 "metadata": {
  "kernelspec": {
   "display_name": "Python 3 (ipykernel)",
   "language": "python",
   "name": "python3"
  },
  "language_info": {
   "codemirror_mode": {
    "name": "ipython",
    "version": 3
   },
   "file_extension": ".py",
   "mimetype": "text/x-python",
   "name": "python",
   "nbconvert_exporter": "python",
   "pygments_lexer": "ipython3",
   "version": "3.10.4"
  }
 },
 "nbformat": 4,
 "nbformat_minor": 5
}
