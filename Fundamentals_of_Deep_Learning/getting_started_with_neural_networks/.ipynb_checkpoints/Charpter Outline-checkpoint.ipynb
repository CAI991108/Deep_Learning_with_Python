{
 "cells": [
  {
   "cell_type": "markdown",
   "id": "22aa7d13",
   "metadata": {},
   "source": [
    "This chapter covers\n",
    "- Core components of neural networks\n",
    "- An introduction to Keras\n",
    "- Setting up a deep-learning workstation\n",
    "- Using neural networks to solve basic classification and regression problems"
   ]
  },
  {
   "cell_type": "markdown",
   "id": "39e1f2b7",
   "metadata": {},
   "source": [
    "starting with using networks to solve real problem, and consolidate the knowledge gained from previous charpter, and apply to three new problems covering the three most common use cases of neural networks: binary classification, multiclass classification, and scalar regression"
   ]
  },
  {
   "cell_type": "markdown",
   "id": "fa8c17ca",
   "metadata": {},
   "source": [
    "a closer look at the core components of neural networks: layers, networks, objective functions, and optimisers"
   ]
  },
  {
   "cell_type": "markdown",
   "id": "64c433a0",
   "metadata": {},
   "source": [
    "a quick introduction to Keras, the python deep-learning library throughout the book"
   ]
  },
  {
   "cell_type": "markdown",
   "id": "ae5027f6",
   "metadata": {},
   "source": [
    "setting up deep-learning workstation, with TensorFlow, Keras, and GPU support"
   ]
  },
  {
   "cell_type": "markdown",
   "id": "d312df6a",
   "metadata": {},
   "source": [
    "three introductory examples:\n",
    "- classifying movie reviews as positive or negative (binary classification)\n",
    "- classifying news wires by topic (multicalss classification)\n",
    "- estimating the price of a house, given real-estate data (regression)"
   ]
  }
 ],
 "metadata": {
  "kernelspec": {
   "display_name": "Python 3 (ipykernel)",
   "language": "python",
   "name": "python3"
  },
  "language_info": {
   "codemirror_mode": {
    "name": "ipython",
    "version": 3
   },
   "file_extension": ".py",
   "mimetype": "text/x-python",
   "name": "python",
   "nbconvert_exporter": "python",
   "pygments_lexer": "ipython3",
   "version": "3.10.4"
  }
 },
 "nbformat": 4,
 "nbformat_minor": 5
}
