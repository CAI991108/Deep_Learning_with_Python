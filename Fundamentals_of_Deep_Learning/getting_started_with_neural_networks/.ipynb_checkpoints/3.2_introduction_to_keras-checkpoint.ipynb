{
 "cells": [
  {
   "cell_type": "markdown",
   "id": "afa9e602",
   "metadata": {},
   "source": [
    "Keras (https://keras.io) and some features:\n",
    "- it allows the same code to run seamlessly on CPU and GPU\n",
    "- it has a user-friendly API that easily to prototype deep_learning models\n",
    "- it has built-in support for convolutional networks (for computer vision), recurrent networks(for sequence processing), and any combination of both\n",
    "- it supports arbitrary network architectures: multi-input or multi-output models, layer sharing, model sharing, and so on"
   ]
  },
  {
   "cell_type": "markdown",
   "id": "e5ede72e",
   "metadata": {},
   "source": [
    "keras is distributed under the permissive MIT license, which means it can be freely used in commercial projects"
   ]
  },
  {
   "cell_type": "markdown",
   "id": "5db19750",
   "metadata": {},
   "source": [
    "![Deep-Learning Frameworks Over Time](./dl_fwks_ts.png)"
   ]
  },
  {
   "cell_type": "markdown",
   "id": "cbbea954",
   "metadata": {},
   "source": [
    "##### Keras, TensorFlow, Theano, and CNTK"
   ]
  },
  {
   "cell_type": "markdown",
   "id": "58746e5b",
   "metadata": {},
   "source": [
    "Keras is a mode-level library, it doesn't handle low-level operations such as tensor manipulation and differentiation, instead, it relies on a specialised, well-optimised tensorlibrary to do so, serving as the 'backend engine' of Keras"
   ]
  },
  {
   "cell_type": "markdown",
   "id": "70b4c34d",
   "metadata": {},
   "source": [
    "Keras handles the problem in a modular way"
   ]
  },
  {
   "cell_type": "markdown",
   "id": "5785a6ce",
   "metadata": {},
   "source": [
    "![The Deep-Learning Software and Hardware Stack](./dl_sfw_hdw_stack.png)"
   ]
  },
  {
   "cell_type": "markdown",
   "id": "c4119904",
   "metadata": {},
   "source": [
    "- Theano (http://deeplearning.net/software/theano) -- by MILA lab at Universite de Montreal\n",
    "- Tensorflow (www.tensorflow.org) -- by google\n",
    "- CNTK (https://github.com/Microsoft/CNTK) -- by Microsoft"
   ]
  },
  {
   "cell_type": "markdown",
   "id": "449a5710",
   "metadata": {},
   "source": [
    "Keras is able to run seamlessly on both CPUs and GPUs\n",
    "- when running on CPU, Tensorflow is itself wrapping a low-level library for tensor operations called Eigen (http://eigen.tuxfamily.org)\n",
    "- on GPU, Tensorflow wraps a library of well-optimised deep-learning operations called the NVIDIA CUDA Deep Neural Network library (cuDNN)"
   ]
  },
  {
   "cell_type": "markdown",
   "id": "8eac8059",
   "metadata": {},
   "source": [
    "##### Developing with Keras: A Quick View"
   ]
  },
  {
   "cell_type": "markdown",
   "id": "0d986073",
   "metadata": {},
   "source": [
    "typical Keras workflow:\n",
    "- define training data: input tensors and target tensors\n",
    "- define a network of layers (or 'model') that maps inputs to targets\n",
    "- configure the learning process by choosing a loss function, an optimiser, and some metrics to monitor\n",
    "- iterate on training data by calling the 'fit()' method of the model"
   ]
  },
  {
   "cell_type": "markdown",
   "id": "61b0ba44",
   "metadata": {},
   "source": [
    "two ways to define a model:\n",
    "- using the 'Sequential' class (only for linear stacks of layers, the most common network architecture by far)\n",
    "- 'functional API' (for directed acyclic graphs of layers, which lets you build completely arbitrary architectures)"
   ]
  },
  {
   "cell_type": "markdown",
   "id": "281e8f6d",
   "metadata": {},
   "source": [
    "example model defined using the 'Sequential' class:"
   ]
  },
  {
   "cell_type": "code",
   "execution_count": 2,
   "id": "da1a8ccc",
   "metadata": {},
   "outputs": [],
   "source": [
    "from keras import models\n",
    "from keras import layers\n",
    "\n",
    "model = models.Sequential()\n",
    "model.add(layers.Dense(32, activation='relu', input_shape=(784,)))\n",
    "model.add(layers.Dense(10, activation='softmax'))"
   ]
  },
  {
   "cell_type": "markdown",
   "id": "519e40bb",
   "metadata": {},
   "source": [
    "same example model defined using the functional API:"
   ]
  },
  {
   "cell_type": "code",
   "execution_count": null,
   "id": "2962c37a",
   "metadata": {},
   "outputs": [],
   "source": [
    "input_tesor = layers.Input(shape=(784,))\n",
    "x = layers.Dense(32, activation='relu')(input_tesor)\n",
    "output_tensor = layers.Dense(10, activation='softmax')(x)\n",
    "\n",
    "model = models.Model(inputs=input_tesor, outputs=output_tensor)"
   ]
  },
  {
   "cell_type": "markdown",
   "id": "c0ea9c39",
   "metadata": {},
   "source": [
    "Once the model architecture is defined, the following steps are the same"
   ]
  },
  {
   "cell_type": "markdown",
   "id": "d11a532e",
   "metadata": {},
   "source": [
    "the learning process is configured in the compilation step, where to specify the optimiser and loss fucntion(s) that the model should use, as well as the metrics to monitor during the training"
   ]
  },
  {
   "cell_type": "markdown",
   "id": "52d3612f",
   "metadata": {},
   "source": [
    "an example with a single loss function (by far the most common):"
   ]
  },
  {
   "cell_type": "code",
   "execution_count": 3,
   "id": "ebc1c228",
   "metadata": {},
   "outputs": [],
   "source": [
    "from keras import optimizers\n",
    "\n",
    "model.compile(optimizer=optimizers.RMSprop(lr=0.001),\n",
    "             loss='mse',\n",
    "             metrics=['accuracy'])"
   ]
  },
  {
   "cell_type": "markdown",
   "id": "d8e864a7",
   "metadata": {},
   "source": [
    "finally the learning process consists of passing Numpy arrays of input data (and the corresponding target data) to the model via the 'fit()' method, similar to in Scikit-Learn and several other machine-learning libraries"
   ]
  },
  {
   "cell_type": "code",
   "execution_count": null,
   "id": "c0e0b721",
   "metadata": {},
   "outputs": [],
   "source": [
    "model.fit(input_tensor, target_tensor, batch_size=128, epochs=10)"
   ]
  }
 ],
 "metadata": {
  "kernelspec": {
   "display_name": "Python 3 (ipykernel)",
   "language": "python",
   "name": "python3"
  },
  "language_info": {
   "codemirror_mode": {
    "name": "ipython",
    "version": 3
   },
   "file_extension": ".py",
   "mimetype": "text/x-python",
   "name": "python",
   "nbconvert_exporter": "python",
   "pygments_lexer": "ipython3",
   "version": "3.10.4"
  }
 },
 "nbformat": 4,
 "nbformat_minor": 5
}
