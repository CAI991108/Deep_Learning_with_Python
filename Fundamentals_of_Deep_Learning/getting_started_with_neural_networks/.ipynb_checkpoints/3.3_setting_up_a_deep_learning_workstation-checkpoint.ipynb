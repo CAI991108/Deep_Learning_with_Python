{
 "cells": [
  {
   "cell_type": "markdown",
   "id": "2407144e",
   "metadata": {},
   "source": [
    "setting up workstation requires modern NVIDIA GPU\n",
    "- image processing with convolutoinal networs and seuence processing with recurrent neural networks will be excruciatingly slow on CPU, even a fast multicore CPU\n",
    "- alternatively, AWS EC2 GPU or Google Cloud Platform (cloud GPU can be expensive over time)"
   ]
  },
  {
   "cell_type": "markdown",
   "id": "451703e9",
   "metadata": {},
   "source": [
    "it is better to use a Unix work-station, and consider a Ubuntu machine, saving your time and trouble in the long run"
   ]
  },
  {
   "cell_type": "markdown",
   "id": "e46680eb",
   "metadata": {},
   "source": [
    "##### Jupyter Notebooks: the Preferred Way to Run Deep-Learning Experiments"
   ]
  },
  {
   "cell_type": "markdown",
   "id": "e5e06ad0",
   "metadata": {},
   "source": [
    "https://jupyter.org\n",
    "- Jupyter Notebook mixes the ability to execute python code with rich text-editing capabilities for annotating\n",
    "- allows to break up long experiments into smaller pieces that can be excuted independetly"
   ]
  },
  {
   "cell_type": "markdown",
   "id": "cedfe26a",
   "metadata": {},
   "source": [
    "the digital books website: www.manning.com/books/deep-learning-with-python"
   ]
  },
  {
   "cell_type": "markdown",
   "id": "03415ea1",
   "metadata": {},
   "source": [
    "##### Getting Keras Running: Two Options"
   ]
  },
  {
   "cell_type": "markdown",
   "id": "7cc96fc6",
   "metadata": {},
   "source": [
    "Appendix B:\n",
    "- EC2 Deep Learning AMI (https://aws.amazon.com/amazon-ai/amis)"
   ]
  },
  {
   "cell_type": "markdown",
   "id": "f95b75b6",
   "metadata": {},
   "source": [
    "Appendix A:\n",
    "- NVIDIA GPU (ubuntu-specific, step-by-step guide)\n",
    "- NVIDIA is the only graphics computing company that has invested heavily in deep learning so far, and modern deep-learning frameworks can only run on NVIDIA cards"
   ]
  },
  {
   "cell_type": "markdown",
   "id": "03648f40",
   "metadata": {},
   "source": [
    "![Cloud_GPU_Pro_Con](./cloud_gpu_pro_con.png)"
   ]
  }
 ],
 "metadata": {
  "kernelspec": {
   "display_name": "Python 3 (ipykernel)",
   "language": "python",
   "name": "python3"
  },
  "language_info": {
   "codemirror_mode": {
    "name": "ipython",
    "version": 3
   },
   "file_extension": ".py",
   "mimetype": "text/x-python",
   "name": "python",
   "nbconvert_exporter": "python",
   "pygments_lexer": "ipython3",
   "version": "3.10.4"
  }
 },
 "nbformat": 4,
 "nbformat_minor": 5
}
