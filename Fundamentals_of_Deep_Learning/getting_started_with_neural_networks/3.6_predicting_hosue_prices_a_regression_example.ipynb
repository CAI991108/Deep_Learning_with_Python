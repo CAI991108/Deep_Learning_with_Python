{
 "cells": [
  {
   "cell_type": "markdown",
   "id": "e1812d8d",
   "metadata": {},
   "source": [
    "另外，使用 Jupyter Notebook 进行长期模型训练时，可能由于 GPU 内存无法及时释放导致该报错"
   ]
  },
  {
   "cell_type": "code",
   "execution_count": 17,
   "id": "8dce6085",
   "metadata": {},
   "outputs": [
    {
     "data": {
      "text/plain": [
       "'\\n\\ndense_layers = [0, 1, 2]\\nlayer_sizes = [32, 64, 128]\\nconv_layers = [1, 2, 3]\\n\\nfor dense_layer in dense_layers:\\n    for layer_size in layer_sizes:\\n        for conv_layer in conv_layers:\\n            reset_keras()\\n            # training your model here\\n            \\n'"
      ]
     },
     "execution_count": 17,
     "metadata": {},
     "output_type": "execute_result"
    }
   ],
   "source": [
    "from keras.backend import set_session\n",
    "from keras.backend import clear_session\n",
    "from keras.backend import get_session\n",
    "import tensorflow as tf\n",
    "import gc\n",
    "\n",
    "# Reset Keras Session\n",
    "def reset_keras():\n",
    "    sess = get_session()\n",
    "    clear_session()\n",
    "    sess.close()\n",
    "    sess = get_session()\n",
    "\n",
    "    try:\n",
    "        del classifier # this is from global space - change this as you need\n",
    "    except:\n",
    "        pass\n",
    "\n",
    "    print(gc.collect()) # if it does something you should see a number as output\n",
    "\n",
    "    # use the same config as you used to create the session\n",
    "    config = tf.compat.v1.ConfigProto()\n",
    "    config.gpu_options.per_process_gpu_memory_fraction = 1\n",
    "    config.gpu_options.visible_device_list = \"0\"\n",
    "    set_session(tf.compat.v1.Session(config=config))\n",
    "    \n",
    "\n",
    "    \n",
    "'''\n",
    "\n",
    "dense_layers = [0, 1, 2]\n",
    "layer_sizes = [32, 64, 128]\n",
    "conv_layers = [1, 2, 3]\n",
    "\n",
    "for dense_layer in dense_layers:\n",
    "    for layer_size in layer_sizes:\n",
    "        for conv_layer in conv_layers:\n",
    "            reset_keras()\n",
    "            # training your model here\n",
    "            \n",
    "'''"
   ]
  },
  {
   "cell_type": "markdown",
   "id": "9db54f4e",
   "metadata": {},
   "source": [
    "the classification problem is to predict a single discrete label of an input data point, another common type of machine-learning problem is regression, which consists of predicting a continuous value instead of a discrete label: for instance, predicting the temperature tomorrow, given meteorological data; or predicting the time that a software project will take to complete, given its specifications"
   ]
  },
  {
   "cell_type": "markdown",
   "id": "7ffd996e",
   "metadata": {},
   "source": [
    "note: confusingly, logistic regression isn't a regression algorithm -- it's a classification algorithm"
   ]
  },
  {
   "cell_type": "markdown",
   "id": "f09ca206",
   "metadata": {},
   "source": [
    "##### The Boston Housing Price Dataset"
   ]
  },
  {
   "cell_type": "markdown",
   "id": "a5ca57e9",
   "metadata": {},
   "source": [
    "attempt to predict the median price of homes in a given Boston suburb in the mid-1970s, given data points about the suburb at the time, such as the crime rate, the local property tax rate and so on"
   ]
  },
  {
   "cell_type": "markdown",
   "id": "47c255ca",
   "metadata": {},
   "source": [
    "relatively fewer data points -- 506\n",
    "- split between 404 training samples and 102 test samples"
   ]
  },
  {
   "cell_type": "markdown",
   "id": "61bee9f1",
   "metadata": {},
   "source": [
    "each feature in the input data has a different scale:\n",
    "- some values are proportions, which take values between 0 and 1\n",
    "- others are categorical, take values between 1 and 12\n",
    "- others between 0 and 100, and so on"
   ]
  },
  {
   "cell_type": "code",
   "execution_count": 1,
   "id": "60c59b9b",
   "metadata": {},
   "outputs": [
    {
     "name": "stderr",
     "output_type": "stream",
     "text": [
      "2024-04-02 14:42:03.179606: I tensorflow/core/util/port.cc:110] oneDNN custom operations are on. You may see slightly different numerical results due to floating-point round-off errors from different computation orders. To turn them off, set the environment variable `TF_ENABLE_ONEDNN_OPTS=0`.\n",
      "2024-04-02 14:42:03.485712: I tensorflow/core/platform/cpu_feature_guard.cc:182] This TensorFlow binary is optimized to use available CPU instructions in performance-critical operations.\n",
      "To enable the following instructions: AVX2 AVX_VNNI FMA, in other operations, rebuild TensorFlow with the appropriate compiler flags.\n",
      "2024-04-02 14:42:04.221495: W tensorflow/compiler/tf2tensorrt/utils/py_utils.cc:38] TF-TRT Warning: Could not find TensorRT\n"
     ]
    },
    {
     "name": "stdout",
     "output_type": "stream",
     "text": [
      "Downloading data from https://storage.googleapis.com/tensorflow/tf-keras-datasets/boston_housing.npz\n",
      "57026/57026 [==============================] - 0s 0us/step\n"
     ]
    }
   ],
   "source": [
    "# loading the Boston housing dataset\n",
    "from keras.datasets import boston_housing\n",
    "\n",
    "(train_data, train_targets), (test_data, test_targets) = boston_housing.load_data()"
   ]
  },
  {
   "cell_type": "code",
   "execution_count": 3,
   "id": "a6b33381",
   "metadata": {},
   "outputs": [
    {
     "data": {
      "text/plain": [
       "array([[1.23247e+00, 0.00000e+00, 8.14000e+00, ..., 2.10000e+01,\n",
       "        3.96900e+02, 1.87200e+01],\n",
       "       [2.17700e-02, 8.25000e+01, 2.03000e+00, ..., 1.47000e+01,\n",
       "        3.95380e+02, 3.11000e+00],\n",
       "       [4.89822e+00, 0.00000e+00, 1.81000e+01, ..., 2.02000e+01,\n",
       "        3.75520e+02, 3.26000e+00],\n",
       "       ...,\n",
       "       [3.46600e-02, 3.50000e+01, 6.06000e+00, ..., 1.69000e+01,\n",
       "        3.62250e+02, 7.83000e+00],\n",
       "       [2.14918e+00, 0.00000e+00, 1.95800e+01, ..., 1.47000e+01,\n",
       "        2.61950e+02, 1.57900e+01],\n",
       "       [1.43900e-02, 6.00000e+01, 2.93000e+00, ..., 1.56000e+01,\n",
       "        3.76700e+02, 4.38000e+00]])"
      ]
     },
     "execution_count": 3,
     "metadata": {},
     "output_type": "execute_result"
    }
   ],
   "source": [
    "train_data.shape"
   ]
  },
  {
   "cell_type": "code",
   "execution_count": 3,
   "id": "86125871",
   "metadata": {},
   "outputs": [
    {
     "data": {
      "text/plain": [
       "(102, 13)"
      ]
     },
     "execution_count": 3,
     "metadata": {},
     "output_type": "execute_result"
    }
   ],
   "source": [
    "test_data.shape"
   ]
  },
  {
   "cell_type": "markdown",
   "id": "14c79086",
   "metadata": {},
   "source": [
    "each input consists with 13 numerical features, such as  percapita crime rate, average number of rooms per dwelling, accessibility to highways and so on"
   ]
  },
  {
   "cell_type": "markdown",
   "id": "c79112f1",
   "metadata": {},
   "source": [
    "the targets are the median values of owner-occupied homes: (per thousand adjusted)"
   ]
  },
  {
   "cell_type": "code",
   "execution_count": 4,
   "id": "3a3264f0",
   "metadata": {},
   "outputs": [
    {
     "data": {
      "text/plain": [
       "array([ 7.2, 18.8, 19. , 27. , 22.2, 24.5, 31.2, 22.9, 20.5, 23.2, 18.6,\n",
       "       14.5, 17.8, 50. , 20.8, 24.3, 24.2, 19.8, 19.1, 22.7, 12. , 10.2,\n",
       "       20. , 18.5, 20.9, 23. , 27.5, 30.1,  9.5, 22. , 21.2, 14.1, 33.1,\n",
       "       23.4, 20.1,  7.4, 15.4, 23.8, 20.1, 24.5, 33. , 28.4, 14.1, 46.7,\n",
       "       32.5, 29.6, 28.4, 19.8, 20.2, 25. , 35.4, 20.3,  9.7, 14.5, 34.9,\n",
       "       26.6,  7.2, 50. , 32.4, 21.6, 29.8, 13.1, 27.5, 21.2, 23.1, 21.9,\n",
       "       13. , 23.2,  8.1,  5.6, 21.7, 29.6, 19.6,  7. , 26.4, 18.9, 20.9,\n",
       "       28.1, 35.4, 10.2, 24.3, 43.1, 17.6, 15.4, 16.2, 27.1, 21.4, 21.5,\n",
       "       22.4, 25. , 16.6, 18.6, 22. , 42.8, 35.1, 21.5, 36. , 21.9, 24.1,\n",
       "       50. , 26.7, 25. ])"
      ]
     },
     "execution_count": 4,
     "metadata": {},
     "output_type": "execute_result"
    }
   ],
   "source": [
    "test_targets"
   ]
  },
  {
   "cell_type": "markdown",
   "id": "06ab4d66",
   "metadata": {},
   "source": [
    "##### Preparing the Data"
   ]
  },
  {
   "cell_type": "markdown",
   "id": "bdb93301",
   "metadata": {},
   "source": [
    "it would be problematic to feed into a neural network values that all take wildly different rages, the network might be able to automatically adapt to such heterogeneous data, but it would definitely make learning more difficult"
   ]
  },
  {
   "cell_type": "markdown",
   "id": "1533049a",
   "metadata": {},
   "source": [
    "feature-wise normalization:\n",
    "- for each feature in the input data (a column in the input data matrix), subtract teh mean of the feature and divide by the standard deviation, so that the feature is centered around 0 and has a unit standard deviation\n",
    "- this can easily done in numpy:"
   ]
  },
  {
   "cell_type": "code",
   "execution_count": 5,
   "id": "329cd029",
   "metadata": {},
   "outputs": [],
   "source": [
    "# normalizing the data\n",
    "mean = train_data.mean(axis=0)\n",
    "train_data -= mean\n",
    "std = train_data.std(axis=0)\n",
    "train_data /= std\n",
    "\n",
    "test_data -= mean\n",
    "test_data /= std"
   ]
  },
  {
   "cell_type": "markdown",
   "id": "f6e6079e",
   "metadata": {},
   "source": [
    "note that the quantities used for normalizing the test data are computed using the training data, never use any quantity computed on the test data in the work flow"
   ]
  },
  {
   "cell_type": "markdown",
   "id": "e2cded75",
   "metadata": {},
   "source": [
    "##### Building the Network"
   ]
  },
  {
   "cell_type": "markdown",
   "id": "39a4c9f6",
   "metadata": {},
   "source": [
    "in general, the less training data, the worse overfitting will be, and using a small network is one way to mitigate overfitting, so we use only two hidden layers here, each with 64 units"
   ]
  },
  {
   "cell_type": "code",
   "execution_count": 8,
   "id": "94256276",
   "metadata": {},
   "outputs": [],
   "source": [
    "# model definition\n",
    "from keras import models\n",
    "from keras import layers\n",
    "\n",
    "def build_model():\n",
    "    model = models.Sequential()\n",
    "    model.add(layers.Dense(64, activation='relu',\n",
    "                           input_shape=(train_data.shape[1],)))\n",
    "    model.add(layers.Dense(64, activation='relu'))\n",
    "    model.add(layers.Dense(1))\n",
    "    model.compile(optimizer='rmsprop', loss='mse', metrics=['mae'])\n",
    "    return model"
   ]
  },
  {
   "cell_type": "markdown",
   "id": "9c87f7c9",
   "metadata": {},
   "source": [
    "- the network ends with a single unit and no activation (it will be a linear layer), this is a typical setup for scalar regression (a regression where you're trying to predict a single continuous value)\n",
    "- applying an activation function would constraint the range of the output"
   ]
  },
  {
   "cell_type": "markdown",
   "id": "9db751dc",
   "metadata": {},
   "source": [
    "the network is compiled with the 'mse' loss function -- mean square error\n",
    "- the square of the difference between the predictions and the targets\n",
    "- mse is a widely used loss function for regression problem"
   ]
  },
  {
   "cell_type": "markdown",
   "id": "4b5d0723",
   "metadata": {},
   "source": [
    "metric monitoring during training with 'mae' -- mean absolut error\n",
    "- the absolute value of the difference between the predictions and the targets"
   ]
  },
  {
   "cell_type": "markdown",
   "id": "11e82540",
   "metadata": {},
   "source": [
    "##### Validating the Approach Using K-Fold Validation"
   ]
  },
  {
   "cell_type": "markdown",
   "id": "ab90b1c4",
   "metadata": {},
   "source": [
    "split the data into a training set and a validation to evaluate the network while keeping adjusting its parameters, but because so few data points, the validation set would being very small, and as a consequence, the validation scores might change alot depending on the sets chosen:\n",
    "- the validation scores might have a high variance with regard to the validation split"
   ]
  },
  {
   "cell_type": "markdown",
   "id": "9ec34fd6",
   "metadata": {},
   "source": [
    "k-fold cross-validation:\n",
    "- splitting the available data into k partitions (typically 4 or 5)\n",
    "- instantiating k identical models\n",
    "- training each one on k-1 partitions while evaluating on the remaining\n",
    "- the validation score for the model used is then the average of the k validation scores obtained"
   ]
  },
  {
   "cell_type": "markdown",
   "id": "a7a6aa10",
   "metadata": {},
   "source": [
    "![3-Fold Cross-Validation](./3_fold_cross_val.png)"
   ]
  },
  {
   "cell_type": "code",
   "execution_count": 12,
   "id": "743e6ee4",
   "metadata": {},
   "outputs": [
    {
     "name": "stdout",
     "output_type": "stream",
     "text": [
      "processing fold # 0\n",
      "processing fold # 1\n",
      "processing fold # 2\n",
      "processing fold # 3\n"
     ]
    }
   ],
   "source": [
    "# k-fold validation\n",
    "\n",
    "import numpy as np\n",
    "\n",
    "k = 4\n",
    "num_val_samples = len(train_data) // k\n",
    "num_epochs = 100\n",
    "all_scores = []\n",
    "\n",
    "for i in range(k):\n",
    "    print('processing fold #', i) # prepares the validation data: data from partition #k\n",
    "    val_data = train_data[i * num_val_samples: (i + 1) * num_val_samples] \n",
    "    val_targets = train_targets[i * num_val_samples: (i + 1) * num_val_samples]\n",
    "    \n",
    "    partial_train_data = np.concatenate( # prepares the training data: data from all other partitions\n",
    "         [train_data[:i * num_val_samples],\n",
    "          train_data[(i + 1) * num_val_samples:]],\n",
    "         axis=0)\n",
    "    \n",
    "    partial_train_targets = np.concatenate(\n",
    "         [train_targets[:i * num_val_samples],\n",
    "          train_targets[(i + 1) * num_val_samples:]],\n",
    "         axis=0)\n",
    "    \n",
    "    model = build_model() # build keras model (done previously)\n",
    "    model.fit(partial_train_data, partial_train_targets,\n",
    "             epochs=num_epochs, batch_size=1, verbose=0) # train the model in silent mode (verbose=0)\n",
    "    val_mse, val_mae = model.evaluate(val_data, val_targets, verbose=0) # evaluate on the validation data\n",
    "    all_scores.append(val_mae)"
   ]
  },
  {
   "cell_type": "code",
   "execution_count": 13,
   "id": "af090408",
   "metadata": {},
   "outputs": [
    {
     "data": {
      "text/plain": [
       "[2.1939947605133057, 2.658371925354004, 2.8256330490112305, 2.5617427825927734]"
      ]
     },
     "execution_count": 13,
     "metadata": {},
     "output_type": "execute_result"
    }
   ],
   "source": [
    "all_scores"
   ]
  },
  {
   "cell_type": "code",
   "execution_count": 14,
   "id": "6a73247f",
   "metadata": {},
   "outputs": [
    {
     "data": {
      "text/plain": [
       "2.5599356293678284"
      ]
     },
     "execution_count": 14,
     "metadata": {},
     "output_type": "execute_result"
    }
   ],
   "source": [
    "np.mean(all_scores)"
   ]
  },
  {
   "cell_type": "markdown",
   "id": "f616f6cf",
   "metadata": {},
   "source": [
    "the average is a much reliable metric than any single score -- that's the entire point for k-fold validation"
   ]
  },
  {
   "cell_type": "markdown",
   "id": "32d7633b",
   "metadata": {},
   "source": [
    "train the network a bit longer: 500 epochs\n",
    "- keeping a record of how well the model does at each epoch,\n",
    "- modify the training loop to save the per epoch validation score log"
   ]
  },
  {
   "cell_type": "code",
   "execution_count": 25,
   "id": "2559be86",
   "metadata": {},
   "outputs": [
    {
     "name": "stderr",
     "output_type": "stream",
     "text": [
      "2022-11-02 09:26:49.079754: I tensorflow/stream_executor/cuda/cuda_gpu_executor.cc:975] successful NUMA node read from SysFS had negative value (-1), but there must be at least one NUMA node, so returning NUMA node zero\n",
      "2022-11-02 09:26:49.081485: I tensorflow/stream_executor/cuda/cuda_gpu_executor.cc:975] successful NUMA node read from SysFS had negative value (-1), but there must be at least one NUMA node, so returning NUMA node zero\n",
      "2022-11-02 09:26:49.082027: I tensorflow/stream_executor/cuda/cuda_gpu_executor.cc:975] successful NUMA node read from SysFS had negative value (-1), but there must be at least one NUMA node, so returning NUMA node zero\n",
      "2022-11-02 09:26:49.082241: I tensorflow/stream_executor/cuda/cuda_gpu_executor.cc:975] successful NUMA node read from SysFS had negative value (-1), but there must be at least one NUMA node, so returning NUMA node zero\n",
      "2022-11-02 09:26:49.082397: I tensorflow/stream_executor/cuda/cuda_gpu_executor.cc:975] successful NUMA node read from SysFS had negative value (-1), but there must be at least one NUMA node, so returning NUMA node zero\n",
      "2022-11-02 09:26:49.082832: I tensorflow/core/common_runtime/gpu/gpu_device.cc:1532] Created device /job:localhost/replica:0/task:0/device:GPU:0 with 2062 MB memory:  -> device: 0, name: NVIDIA GeForce RTX 3050 Ti Laptop GPU, pci bus id: 0000:01:00.0, compute capability: 8.6\n"
     ]
    },
    {
     "name": "stdout",
     "output_type": "stream",
     "text": [
      "8425\n",
      "processing fold # 0\n"
     ]
    },
    {
     "name": "stderr",
     "output_type": "stream",
     "text": [
      "2022-11-02 09:26:49.305703: I tensorflow/stream_executor/cuda/cuda_gpu_executor.cc:975] successful NUMA node read from SysFS had negative value (-1), but there must be at least one NUMA node, so returning NUMA node zero\n",
      "2022-11-02 09:26:49.307834: I tensorflow/stream_executor/cuda/cuda_gpu_executor.cc:975] successful NUMA node read from SysFS had negative value (-1), but there must be at least one NUMA node, so returning NUMA node zero\n",
      "2022-11-02 09:26:49.309425: I tensorflow/stream_executor/cuda/cuda_gpu_executor.cc:975] successful NUMA node read from SysFS had negative value (-1), but there must be at least one NUMA node, so returning NUMA node zero\n",
      "2022-11-02 09:26:49.311235: I tensorflow/stream_executor/cuda/cuda_gpu_executor.cc:975] successful NUMA node read from SysFS had negative value (-1), but there must be at least one NUMA node, so returning NUMA node zero\n",
      "2022-11-02 09:26:49.311975: I tensorflow/stream_executor/cuda/cuda_gpu_executor.cc:975] successful NUMA node read from SysFS had negative value (-1), but there must be at least one NUMA node, so returning NUMA node zero\n",
      "2022-11-02 09:26:49.312079: I tensorflow/core/common_runtime/gpu/gpu_device.cc:1532] Created device /job:localhost/replica:0/task:0/device:GPU:0 with 2062 MB memory:  -> device: 0, name: NVIDIA GeForce RTX 3050 Ti Laptop GPU, pci bus id: 0000:01:00.0, compute capability: 8.6\n"
     ]
    },
    {
     "name": "stdout",
     "output_type": "stream",
     "text": [
      "processing fold # 1\n",
      "processing fold # 2\n",
      "processing fold # 3\n"
     ]
    }
   ],
   "source": [
    "# saving the validation logs at each fold\n",
    "num_epochs = 500\n",
    "all_mae_histories = []\n",
    "\n",
    "reset_keras()\n",
    "\n",
    "for i in range(k): # prepare the validation data: data from partition # k\n",
    "    print('processing fold #', i)\n",
    "    val_data = train_data[i * num_val_samples: (i + 1) * num_val_samples]\n",
    "    val_targets = train_targets[i * num_val_samples: (i + 1) * num_val_samples]\n",
    "    \n",
    "    partial_train_data = np.concatenate( # prepares the training data: data from all other partitions\n",
    "         [train_data[:i * num_val_samples],\n",
    "          train_data[(i + 1) * num_val_samples:]],\n",
    "         axis=0)\n",
    "    \n",
    "    partial_train_targets = np.concatenate(\n",
    "         [train_targets[:i * num_val_samples],\n",
    "          train_targets[(i + 1) * num_val_samples:]],\n",
    "         axis=0)\n",
    "    \n",
    "    model = build_model()\n",
    "    history = model.fit(partial_train_data, partial_train_targets,\n",
    "                        validation_data=(val_data, val_targets),\n",
    "                        epochs=num_epochs, batch_size=1, verbose=0) # train the model in slient mode (verbose = 0)\n",
    "    mae_history = history.history['val_mae']\n",
    "    all_mae_histories.append(mae_history)"
   ]
  },
  {
   "cell_type": "code",
   "execution_count": 26,
   "id": "f027fdeb",
   "metadata": {},
   "outputs": [],
   "source": [
    "# building the history of successive mean k-fold validation scores\n",
    "average_mae_history = [\n",
    "    np.mean([x[i] for x in all_mae_histories]) for i in range (num_epochs)\n",
    "]"
   ]
  },
  {
   "cell_type": "code",
   "execution_count": 28,
   "id": "c81a969f",
   "metadata": {},
   "outputs": [
    {
     "data": {
      "image/png": "[encoded data removed]",
      "text/plain": [
       "<Figure size 640x480 with 1 Axes>"
      ]
     },
     "metadata": {},
     "output_type": "display_data"
    }
   ],
   "source": [
    "# plotting validation scores\n",
    "import matplotlib.pyplot as plt\n",
    "\n",
    "plt.plot(range(1, len(average_mae_history) + 1), average_mae_history)\n",
    "plt.xlabel('Epochs')\n",
    "plt.ylabel('Validation MAE')\n",
    "plt.show()"
   ]
  },
  {
   "cell_type": "markdown",
   "id": "c8bb71bc",
   "metadata": {},
   "source": [
    "the plot is visually hard due to scaling issues and relatively high variance:\n",
    "- omit the first 10 data points\n",
    "- replace with an exponential moving average of the previous points, to obtain a smooth curve"
   ]
  },
  {
   "cell_type": "code",
   "execution_count": 30,
   "id": "b0b06f59",
   "metadata": {},
   "outputs": [
    {
     "data": {
      "image/png": "[encoded data removed]",
      "text/plain": [
       "<Figure size 640x480 with 1 Axes>"
      ]
     },
     "metadata": {},
     "output_type": "display_data"
    }
   ],
   "source": [
    "# plotting validation scores, excluding the first 10 data points\n",
    "def smooth_curve(points, factor=0.9):\n",
    "    smoothed_points = []\n",
    "    for point in points:\n",
    "        if smoothed_points:\n",
    "            previous = smoothed_points[-1]\n",
    "            smoothed_points.append(previous * factor + point * (1 - factor))\n",
    "        else:\n",
    "            smoothed_points.append(point)\n",
    "    return smoothed_points\n",
    "    \n",
    "smooth_mae_history = smooth_curve(average_mae_history[10:])\n",
    "\n",
    "plt.plot(range(1, len(smooth_mae_history) + 1), smooth_mae_history)\n",
    "plt.xlabel('Epochs')\n",
    "plt.ylabel('Validation MAE')\n",
    "plt.show()"
   ]
  },
  {
   "cell_type": "markdown",
   "id": "6b68cdb6",
   "metadata": {},
   "source": [
    "accroding to the plot, valiation MAE stop improving significantly after 80 epochs, then overfitting"
   ]
  },
  {
   "cell_type": "markdown",
   "id": "b5b6f68f",
   "metadata": {},
   "source": [
    "once finishing tuning other parameters of the model (the size of hidden layers, etc), then can train a final production model, with the best parameters"
   ]
  },
  {
   "cell_type": "code",
   "execution_count": 32,
   "id": "f69ae26e",
   "metadata": {},
   "outputs": [
    {
     "name": "stderr",
     "output_type": "stream",
     "text": [
      "2022-11-02 10:31:02.112595: I tensorflow/stream_executor/cuda/cuda_gpu_executor.cc:975] successful NUMA node read from SysFS had negative value (-1), but there must be at least one NUMA node, so returning NUMA node zero\n",
      "2022-11-02 10:31:02.114862: I tensorflow/stream_executor/cuda/cuda_gpu_executor.cc:975] successful NUMA node read from SysFS had negative value (-1), but there must be at least one NUMA node, so returning NUMA node zero\n",
      "2022-11-02 10:31:02.115274: I tensorflow/stream_executor/cuda/cuda_gpu_executor.cc:975] successful NUMA node read from SysFS had negative value (-1), but there must be at least one NUMA node, so returning NUMA node zero\n",
      "2022-11-02 10:31:02.115550: I tensorflow/stream_executor/cuda/cuda_gpu_executor.cc:975] successful NUMA node read from SysFS had negative value (-1), but there must be at least one NUMA node, so returning NUMA node zero\n",
      "2022-11-02 10:31:02.115764: I tensorflow/stream_executor/cuda/cuda_gpu_executor.cc:975] successful NUMA node read from SysFS had negative value (-1), but there must be at least one NUMA node, so returning NUMA node zero\n",
      "2022-11-02 10:31:02.115927: I tensorflow/core/common_runtime/gpu/gpu_device.cc:1532] Created device /job:localhost/replica:0/task:0/device:GPU:0 with 2062 MB memory:  -> device: 0, name: NVIDIA GeForce RTX 3050 Ti Laptop GPU, pci bus id: 0000:01:00.0, compute capability: 8.6\n"
     ]
    },
    {
     "name": "stdout",
     "output_type": "stream",
     "text": [
      "1252\n"
     ]
    },
    {
     "name": "stderr",
     "output_type": "stream",
     "text": [
      "2022-11-02 10:31:02.323666: I tensorflow/stream_executor/cuda/cuda_gpu_executor.cc:975] successful NUMA node read from SysFS had negative value (-1), but there must be at least one NUMA node, so returning NUMA node zero\n",
      "2022-11-02 10:31:02.323929: I tensorflow/stream_executor/cuda/cuda_gpu_executor.cc:975] successful NUMA node read from SysFS had negative value (-1), but there must be at least one NUMA node, so returning NUMA node zero\n",
      "2022-11-02 10:31:02.324084: I tensorflow/stream_executor/cuda/cuda_gpu_executor.cc:975] successful NUMA node read from SysFS had negative value (-1), but there must be at least one NUMA node, so returning NUMA node zero\n",
      "2022-11-02 10:31:02.324295: I tensorflow/stream_executor/cuda/cuda_gpu_executor.cc:975] successful NUMA node read from SysFS had negative value (-1), but there must be at least one NUMA node, so returning NUMA node zero\n",
      "2022-11-02 10:31:02.324441: I tensorflow/stream_executor/cuda/cuda_gpu_executor.cc:975] successful NUMA node read from SysFS had negative value (-1), but there must be at least one NUMA node, so returning NUMA node zero\n",
      "2022-11-02 10:31:02.324559: I tensorflow/core/common_runtime/gpu/gpu_device.cc:1532] Created device /job:localhost/replica:0/task:0/device:GPU:0 with 2062 MB memory:  -> device: 0, name: NVIDIA GeForce RTX 3050 Ti Laptop GPU, pci bus id: 0000:01:00.0, compute capability: 8.6\n"
     ]
    },
    {
     "name": "stdout",
     "output_type": "stream",
     "text": [
      "4/4 [==============================] - 0s 4ms/step - loss: 18.1535 - mae: 2.7122\n"
     ]
    }
   ],
   "source": [
    "# training the final model\n",
    "\n",
    "reset_keras()\n",
    "\n",
    "model = build_model() # get a fresh, compiled model\n",
    "model.fit(train_data, train_targets, # train on the entirety of data\n",
    "          epochs=80, batch_size=16, verbose=0)\n",
    "test_mse_score, test_mae_score = model.evaluate(test_data, test_targets)"
   ]
  },
  {
   "cell_type": "code",
   "execution_count": 33,
   "id": "4517088b",
   "metadata": {},
   "outputs": [
    {
     "data": {
      "text/plain": [
       "2.7122342586517334"
      ]
     },
     "execution_count": 33,
     "metadata": {},
     "output_type": "execute_result"
    }
   ],
   "source": [
    "test_mae_score"
   ]
  },
  {
   "cell_type": "markdown",
   "id": "4adde891",
   "metadata": {},
   "source": [
    "##### Wrapping up"
   ]
  },
  {
   "cell_type": "markdown",
   "id": "c1027023",
   "metadata": {},
   "source": [
    "- regression is done using different loss functions than classification, MAE is a loss function commonly one\n",
    "- similarly, evaluation metrics to be used for regression differ from those used for classification. naturally, the concept of accuracy doesn't apply for regression, the common regression metric is MAE\n",
    "- when features in the input data have values in different ranges, each feature should be scaled independently as a preprocessing setp\n",
    "- when there is little data available, using k-fold validation is a great way to reliably evaluate a model\n",
    "- when little training data is abailable, it's preferable to use a small network with few hidden layers (typically only one or two), in order to avoid severe overfitting"
   ]
  }
 ],
 "metadata": {
  "kernelspec": {
   "display_name": "Python 3 (ipykernel)",
   "language": "python",
   "name": "python3"
  },
  "language_info": {
   "codemirror_mode": {
    "name": "ipython",
    "version": 3
   },
   "file_extension": ".py",
   "mimetype": "text/x-python",
   "name": "python",
   "nbconvert_exporter": "python",
   "pygments_lexer": "ipython3",
   "version": "3.10.9"
  }
 },
 "nbformat": 4,
 "nbformat_minor": 5
}
