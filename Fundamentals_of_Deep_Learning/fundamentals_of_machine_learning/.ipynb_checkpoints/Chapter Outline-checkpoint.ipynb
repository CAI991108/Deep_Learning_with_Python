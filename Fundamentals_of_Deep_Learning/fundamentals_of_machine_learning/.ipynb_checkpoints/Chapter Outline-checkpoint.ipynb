{
 "cells": [
  {
   "cell_type": "markdown",
   "id": "6f414b0c",
   "metadata": {},
   "source": [
    "This chapter covers:\n",
    "- forms of machine learning beyond classification and regression\n",
    "- formal evaluation procedures for machine-learning models\n",
    "- preparing data for deep learning\n",
    "- feature engineering\n",
    "- tackling overfitting\n",
    "- the universal workflow for approaching machine-learning problem"
   ]
  },
  {
   "cell_type": "markdown",
   "id": "3b0a6bdc",
   "metadata": {},
   "source": [
    "the centeral problem of machine learning: overfitting, this chapter will formalize some of the new intuition into a solid conceptual framework for attacking and solving deep-learning problems"
   ]
  },
  {
   "cell_type": "markdown",
   "id": "b16fdb3a",
   "metadata": {},
   "source": [
    "consolidate concepts of:\n",
    "- model evaluation\n",
    "- data preprocessing\n",
    "- feature engineering\n",
    "- tackling overfitting"
   ]
  },
  {
   "cell_type": "markdown",
   "id": "6d5c3208",
   "metadata": {},
   "source": [
    "a detailed seven-step workflow for tackling any machine-learning task"
   ]
  }
 ],
 "metadata": {
  "kernelspec": {
   "display_name": "Python 3 (ipykernel)",
   "language": "python",
   "name": "python3"
  },
  "language_info": {
   "codemirror_mode": {
    "name": "ipython",
    "version": 3
   },
   "file_extension": ".py",
   "mimetype": "text/x-python",
   "name": "python",
   "nbconvert_exporter": "python",
   "pygments_lexer": "ipython3",
   "version": "3.10.4"
  }
 },
 "nbformat": 4,
 "nbformat_minor": 5
}
