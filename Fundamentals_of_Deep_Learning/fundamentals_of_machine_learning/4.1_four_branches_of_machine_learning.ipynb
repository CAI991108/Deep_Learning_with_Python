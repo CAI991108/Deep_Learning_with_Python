{
 "cells": [
  {
   "cell_type": "markdown",
   "id": "09ea126e",
   "metadata": {},
   "source": [
    "all previous instances are 'supervised learning', where the goal is to learn the relationship between training inputs and training targets"
   ]
  },
  {
   "cell_type": "markdown",
   "id": "a72789f2",
   "metadata": {},
   "source": [
    "supervised learning is just the tip of the iceberg -- machine learning is a vast field with a complex subfield taxonomy, machine-learning algorithms generally fall into four broad categories, described in the following sections"
   ]
  },
  {
   "cell_type": "markdown",
   "id": "af04acd4",
   "metadata": {},
   "source": [
    "##### Supervised Learning"
   ]
  },
  {
   "cell_type": "markdown",
   "id": "de617ac6",
   "metadata": {},
   "source": [
    "by far the most common"
   ]
  },
  {
   "cell_type": "markdown",
   "id": "afbb347e",
   "metadata": {},
   "source": [
    "consists of learning to map input data to known targets (annotations), given a set of examples (often annotated by huamns)"
   ]
  },
  {
   "cell_type": "markdown",
   "id": "d75e3e99",
   "metadata": {},
   "source": [
    "generally almost all applications of deep learning such as optical character recognition, speech recognition, image classification, and language translation"
   ]
  },
  {
   "cell_type": "markdown",
   "id": "8998023e",
   "metadata": {},
   "source": [
    "although supervised learning mostly consists of classification and regression, there are more exotic variants as well, including the following (with examples):\n",
    "- sequence generation \n",
    "    - given a picture, predict a caption describing it\n",
    "    - sequence generation can sometimes be reformulated as a series of classififcation problems (such as repeatedly predicting a word or token in a sequence)\n",
    "- syntax tree prediction\n",
    "    - given a sentence, predict its decomposition into a syntax tree\n",
    "- objection detection\n",
    "    - given a sentence, draw a bounding box around certain objects inside the picture\n",
    "    - this can also be expressed as a classification problem (given many candidate bounding boxes, classify the contents of each one) or as a joint classification and regression problem, where the bounding-box coordinates are predicted via vector regression\n",
    "- image segmentation\n",
    "    - given a picture, draw a pixel-level mash on a specific object"
   ]
  },
  {
   "cell_type": "markdown",
   "id": "607667b9",
   "metadata": {},
   "source": [
    "##### Unsupervised Learning"
   ]
  },
  {
   "cell_type": "markdown",
   "id": "07ebe5b1",
   "metadata": {},
   "source": [
    "this branch of machine learning consists of finding interesting transformations of the input data without the help of any targets, for the purposes of data visualization, data compression, or data denoising, or better understand the correlations present in teh data at hand"
   ]
  },
  {
   "cell_type": "markdown",
   "id": "ed7c9c4e",
   "metadata": {},
   "source": [
    "unsupervised learning is the bread and butter of data analytics, and it's often a necessary step in better understanding a dataset before attempting to solve a supervised learning problem"
   ]
  },
  {
   "cell_type": "markdown",
   "id": "075a1a71",
   "metadata": {},
   "source": [
    "'Dimensionality Reduction' and 'Clustering' are well-known categories of unsupervised learning"
   ]
  },
  {
   "cell_type": "markdown",
   "id": "63440ea0",
   "metadata": {},
   "source": [
    "##### Self-Supervised Learning"
   ]
  },
  {
   "cell_type": "markdown",
   "id": "a349d5f6",
   "metadata": {},
   "source": [
    "self-supervised learning is supervised learning without human-annoted labels -- learning without any humans in the loop"
   ]
  },
  {
   "cell_type": "markdown",
   "id": "60c390e4",
   "metadata": {},
   "source": [
    "there are still labels involved (because the leraning has to be supervised by something) but they're generated from the input data, typically using a heuristic algorithm"
   ]
  },
  {
   "cell_type": "markdown",
   "id": "c91bf5c0",
   "metadata": {},
   "source": [
    "- for instance, utoencoders are a well-known instance of self-supervised learning, where the generated targets are the input, unmodified\n",
    "- in the same way, trying to predict the next frame in a video, given past grames, or the next word in a text, given previous words, are instances of self-supervised learning (temporally supervised learning, in this case: supervision comes from future input data)\n",
    "- note that the distinction between supervised, self-supervised, and unsupervised learning can be blurry sometimes -- these categories are more of a continuum without solid borders\n",
    "- self-supervised learning can be reinterpreted as either supervised or unsupervised learning, depending o nwhether you pay attention to the learning mechanism or tot the context of its application\n"
   ]
  },
  {
   "cell_type": "markdown",
   "id": "2edca787",
   "metadata": {},
   "source": [
    "supervised learning it's by far the dominant form of deep learning today, with a wide range of industry applications"
   ]
  },
  {
   "cell_type": "markdown",
   "id": "91bb4515",
   "metadata": {},
   "source": [
    "##### Reinforcement Learning"
   ]
  },
  {
   "cell_type": "markdown",
   "id": "bb01e401",
   "metadata": {},
   "source": [
    "Google DeepMind play Atari games"
   ]
  },
  {
   "cell_type": "markdown",
   "id": "36a8b36d",
   "metadata": {},
   "source": [
    "in reinforcement learning, an agent receives information about its environment and learns to choose actions that will maximize some reward, for instance, a neural network that \"looks\" at a videogame screen and outputs game actions in order to maximize its score can be trained via reinforcement learning"
   ]
  },
  {
   "cell_type": "markdown",
   "id": "99a0d37f",
   "metadata": {},
   "source": [
    "currently, reinforcement learning is mostly a research area, in time, however, it is expected to take over such as self-driving cars, robotics, resource management, education, and son on"
   ]
  },
  {
   "cell_type": "markdown",
   "id": "47d2621d",
   "metadata": {},
   "source": [
    "##### Classification and Regression Glossary"
   ]
  },
  {
   "cell_type": "markdown",
   "id": "ded2f22d",
   "metadata": {},
   "source": [
    "- sample or input -- one data point taht goes into model\n",
    "- prediction or output -- what comes out of model\n",
    "- target -- the truth, what model should ideally have predicted, according to an external source of data\n",
    "- prediction error or loss value -- a measure of the distance between model's prediction and target\n",
    "- classes -- a set of possible labels to choose from in a classification problem \n",
    "- label -- a specific instance of a class annotation in a classification problem\n",
    "- ground-truth or annotations -- all targets for dataset, typically collected by human\n",
    "- binary classification -- a classification task where each input sample should be categorized into more than two categories\n",
    "- multiclass classification -- a classification task where each input sample should be categorized into more than two categories\n",
    "- multilabel classification -- a classification task where each input sample can be assigned multiple labels\n",
    "- scalar regression -- a task where the target is a continuous scalar value\n",
    "- vector regression -- a task where the target is a set of continuous values, for example, continuous vector, i.e., the coordinates of a bounding box in an image\n",
    "- mini-batch or batch -- a small set of samples (typically between 8 and 128) that are processed simultaneously by the model, the model of samples is often a power of 2, to facilitate memory allocation on GPU. when training, a mini-batch is used to compute a single gradient -descent update applied to the weights of the model"
   ]
  }
 ],
 "metadata": {
  "kernelspec": {
   "display_name": "Python 3 (ipykernel)",
   "language": "python",
   "name": "python3"
  },
  "language_info": {
   "codemirror_mode": {
    "name": "ipython",
    "version": 3
   },
   "file_extension": ".py",
   "mimetype": "text/x-python",
   "name": "python",
   "nbconvert_exporter": "python",
   "pygments_lexer": "ipython3",
   "version": "3.10.4"
  }
 },
 "nbformat": 4,
 "nbformat_minor": 5
}
