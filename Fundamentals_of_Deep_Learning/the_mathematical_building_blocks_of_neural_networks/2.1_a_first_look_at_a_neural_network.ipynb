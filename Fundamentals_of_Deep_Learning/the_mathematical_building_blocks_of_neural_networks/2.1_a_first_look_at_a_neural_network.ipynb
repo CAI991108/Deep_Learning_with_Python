{
 "cells": [
  {
   "cell_type": "markdown",
   "id": "7c79e303",
   "metadata": {},
   "source": [
    "##### Loading the MNIST dataset in Keras"
   ]
  },
  {
   "cell_type": "code",
   "execution_count": 1,
   "id": "83c54aaf",
   "metadata": {},
   "outputs": [],
   "source": [
    "from keras.datasets import mnist\n",
    "(train_images, train_labels), (test_images, test_labels) = mnist.load_data()"
   ]
  },
  {
   "cell_type": "markdown",
   "id": "2fcdd235",
   "metadata": {},
   "source": [
    "The images are encoded as Numpy arrays, and the labels are an array of digits, ranging from 0 to 9. The images and labels have a one-to-one correspondence"
   ]
  },
  {
   "cell_type": "markdown",
   "id": "eb8e2627",
   "metadata": {},
   "source": [
    "A look at the training data:"
   ]
  },
  {
   "cell_type": "code",
   "execution_count": 2,
   "id": "4263dbb6",
   "metadata": {},
   "outputs": [
    {
     "data": {
      "text/plain": [
       "(60000, 28, 28)"
      ]
     },
     "execution_count": 2,
     "metadata": {},
     "output_type": "execute_result"
    }
   ],
   "source": [
    "train_images.shape"
   ]
  },
  {
   "cell_type": "code",
   "execution_count": 3,
   "id": "a5891f21",
   "metadata": {},
   "outputs": [
    {
     "data": {
      "text/plain": [
       "60000"
      ]
     },
     "execution_count": 3,
     "metadata": {},
     "output_type": "execute_result"
    }
   ],
   "source": [
    "len(train_labels)"
   ]
  },
  {
   "cell_type": "code",
   "execution_count": 4,
   "id": "68943021",
   "metadata": {},
   "outputs": [
    {
     "data": {
      "text/plain": [
       "array([5, 0, 4, ..., 5, 6, 8], dtype=uint8)"
      ]
     },
     "execution_count": 4,
     "metadata": {},
     "output_type": "execute_result"
    }
   ],
   "source": [
    "train_labels"
   ]
  },
  {
   "cell_type": "markdown",
   "id": "f587f66f",
   "metadata": {},
   "source": [
    "And here's the tests data"
   ]
  },
  {
   "cell_type": "code",
   "execution_count": 5,
   "id": "d9a0b17b",
   "metadata": {},
   "outputs": [
    {
     "data": {
      "text/plain": [
       "(10000, 28, 28)"
      ]
     },
     "execution_count": 5,
     "metadata": {},
     "output_type": "execute_result"
    }
   ],
   "source": [
    "test_images.shape"
   ]
  },
  {
   "cell_type": "code",
   "execution_count": 6,
   "id": "7beafbc7",
   "metadata": {},
   "outputs": [
    {
     "data": {
      "text/plain": [
       "10000"
      ]
     },
     "execution_count": 6,
     "metadata": {},
     "output_type": "execute_result"
    }
   ],
   "source": [
    "len(test_labels)"
   ]
  },
  {
   "cell_type": "code",
   "execution_count": 7,
   "id": "86698fca",
   "metadata": {},
   "outputs": [
    {
     "data": {
      "text/plain": [
       "array([7, 2, 1, ..., 4, 5, 6], dtype=uint8)"
      ]
     },
     "execution_count": 7,
     "metadata": {},
     "output_type": "execute_result"
    }
   ],
   "source": [
    "test_labels"
   ]
  },
  {
   "cell_type": "markdown",
   "id": "5f9f5412",
   "metadata": {},
   "source": [
    "Workflow: firstly feed the neural network with the training data ('train_images' and 'train_labels'), then ask the network to produce predictions for 'test_images', and lastly verify whether these predictions match the labels from 'test_labels'"
   ]
  },
  {
   "cell_type": "markdown",
   "id": "c2de57e0",
   "metadata": {},
   "source": [
    "##### The network architecture"
   ]
  },
  {
   "cell_type": "code",
   "execution_count": 8,
   "id": "5b7d67f7",
   "metadata": {},
   "outputs": [
    {
     "name": "stderr",
     "output_type": "stream",
     "text": [
      "2022-03-27 21:43:45.458743: I tensorflow/stream_executor/cuda/cuda_gpu_executor.cc:936] successful NUMA node read from SysFS had negative value (-1), but there must be at least one NUMA node, so returning NUMA node zero\n",
      "2022-03-27 21:43:45.478086: I tensorflow/stream_executor/cuda/cuda_gpu_executor.cc:936] successful NUMA node read from SysFS had negative value (-1), but there must be at least one NUMA node, so returning NUMA node zero\n",
      "2022-03-27 21:43:45.478235: I tensorflow/stream_executor/cuda/cuda_gpu_executor.cc:936] successful NUMA node read from SysFS had negative value (-1), but there must be at least one NUMA node, so returning NUMA node zero\n",
      "2022-03-27 21:43:45.479228: I tensorflow/core/platform/cpu_feature_guard.cc:151] This TensorFlow binary is optimized with oneAPI Deep Neural Network Library (oneDNN) to use the following CPU instructions in performance-critical operations:  AVX2 FMA\n",
      "To enable them in other operations, rebuild TensorFlow with the appropriate compiler flags.\n",
      "2022-03-27 21:43:45.521166: I tensorflow/stream_executor/cuda/cuda_gpu_executor.cc:936] successful NUMA node read from SysFS had negative value (-1), but there must be at least one NUMA node, so returning NUMA node zero\n",
      "2022-03-27 21:43:45.521783: I tensorflow/stream_executor/cuda/cuda_gpu_executor.cc:936] successful NUMA node read from SysFS had negative value (-1), but there must be at least one NUMA node, so returning NUMA node zero\n",
      "2022-03-27 21:43:45.522143: I tensorflow/stream_executor/cuda/cuda_gpu_executor.cc:936] successful NUMA node read from SysFS had negative value (-1), but there must be at least one NUMA node, so returning NUMA node zero\n",
      "2022-03-27 21:43:45.832571: I tensorflow/stream_executor/cuda/cuda_gpu_executor.cc:936] successful NUMA node read from SysFS had negative value (-1), but there must be at least one NUMA node, so returning NUMA node zero\n",
      "2022-03-27 21:43:45.832833: I tensorflow/stream_executor/cuda/cuda_gpu_executor.cc:936] successful NUMA node read from SysFS had negative value (-1), but there must be at least one NUMA node, so returning NUMA node zero\n",
      "2022-03-27 21:43:45.832941: I tensorflow/stream_executor/cuda/cuda_gpu_executor.cc:936] successful NUMA node read from SysFS had negative value (-1), but there must be at least one NUMA node, so returning NUMA node zero\n",
      "2022-03-27 21:43:45.833042: I tensorflow/core/common_runtime/gpu/gpu_device.cc:1525] Created device /job:localhost/replica:0/task:0/device:GPU:0 with 4053 MB memory:  -> device: 0, name: NVIDIA GeForce RTX 3060 Laptop GPU, pci bus id: 0000:01:00.0, compute capability: 8.6\n"
     ]
    }
   ],
   "source": [
    "from keras import models\n",
    "from keras import layers\n",
    "\n",
    "network = models.Sequential()\n",
    "network.add(layers.Dense(512, activation = 'relu', input_shape = (28 * 28, )))\n",
    "network.add(layers.Dense(10, activation = 'softmax'))"
   ]
  },
  {
   "cell_type": "code",
   "execution_count": 9,
   "id": "9e0c317d",
   "metadata": {},
   "outputs": [
    {
     "name": "stdout",
     "output_type": "stream",
     "text": [
      "Model: \"sequential\"\n",
      "_________________________________________________________________\n",
      " Layer (type)                Output Shape              Param #   \n",
      "=================================================================\n",
      " dense (Dense)               (None, 512)               401920    \n",
      "                                                                 \n",
      " dense_1 (Dense)             (None, 10)                5130      \n",
      "                                                                 \n",
      "=================================================================\n",
      "Total params: 407,050\n",
      "Trainable params: 407,050\n",
      "Non-trainable params: 0\n",
      "_________________________________________________________________\n"
     ]
    }
   ],
   "source": [
    "network.summary()"
   ]
  },
  {
   "cell_type": "markdown",
   "id": "b9f2734a",
   "metadata": {},
   "source": [
    "The core building block of neural networks is the 'layer'. Specifically, layers extract representations out of the data, representations that are more meaningful for the problem at hand. Most of deep learning consists of chaining together simple layers that will implement a form of progressive data distillation. A deep-learning model is like a sieve for data processing, made of a succession of increasingly refinded data filters - the layers. "
   ]
  },
  {
   "cell_type": "markdown",
   "id": "b2ba5ce4",
   "metadata": {},
   "source": [
    "Here the network consists of a sequence of two 'Dense' layers, which are denseely connected (also called fully connected) neural layers. The second (last) layer is a 10-way 'softmax' layer, which means it will return an array of 10 probability scores (summing to 1). Each score will be the probability that the current digit image belongs to one of our 110 digit classes. "
   ]
  },
  {
   "cell_type": "markdown",
   "id": "fa341aec",
   "metadata": {},
   "source": [
    "##### The compilation step"
   ]
  },
  {
   "cell_type": "markdown",
   "id": "536ab216",
   "metadata": {},
   "source": [
    "The 'compilation' step for training:"
   ]
  },
  {
   "cell_type": "code",
   "execution_count": 10,
   "id": "9213a0f8",
   "metadata": {},
   "outputs": [],
   "source": [
    "network.compile(optimizer = 'rmsprop', \n",
    "               loss = 'categorical_crossentropy', \n",
    "               metrics = ('accuracy'))"
   ]
  },
  {
   "cell_type": "markdown",
   "id": "cac1657c",
   "metadata": {},
   "source": [
    " - A 'loss function' -- how the network will be able to measure its performance on the training data, and thus how it will be able to steer itself in the right direction "
   ]
  },
  {
   "cell_type": "markdown",
   "id": "02d22831",
   "metadata": {},
   "source": [
    " - A 'optimizer' -- the mechanism through which the network will update itself based on the data it sees and its loss function"
   ]
  },
  {
   "cell_type": "markdown",
   "id": "ff3b28b7",
   "metadata": {},
   "source": [
    " - 'Metrics to monitor during training and testing' -- here only cares about accuracy (the fraction of the images that were correctly classified)"
   ]
  },
  {
   "cell_type": "markdown",
   "id": "720e9347",
   "metadata": {},
   "source": [
    "##### Preparing the image data"
   ]
  },
  {
   "cell_type": "markdown",
   "id": "5ade3628",
   "metadata": {},
   "source": [
    "preprocess the data by reshaping it into the shape the network expects and scaling it so that all values are in the [0, 1] interval"
   ]
  },
  {
   "cell_type": "code",
   "execution_count": 11,
   "id": "61b2f099",
   "metadata": {},
   "outputs": [],
   "source": [
    "train_images = train_images.reshape((60000, 28 * 28))\n",
    "train_images = train_images.astype('float32') / 255\n",
    "\n",
    "test_images = test_images.reshape((10000, 28 * 28))\n",
    "test_images = test_images.astype('float32') / 255"
   ]
  },
  {
   "cell_type": "code",
   "execution_count": 12,
   "id": "44d66501",
   "metadata": {},
   "outputs": [
    {
     "data": {
      "text/plain": [
       "(60000, 784)"
      ]
     },
     "execution_count": 12,
     "metadata": {},
     "output_type": "execute_result"
    }
   ],
   "source": [
    "train_images.shape"
   ]
  },
  {
   "cell_type": "code",
   "execution_count": 13,
   "id": "c0214ad0",
   "metadata": {},
   "outputs": [
    {
     "data": {
      "text/plain": [
       "(10000, 784)"
      ]
     },
     "execution_count": 13,
     "metadata": {},
     "output_type": "execute_result"
    }
   ],
   "source": [
    "test_images.shape"
   ]
  },
  {
   "cell_type": "markdown",
   "id": "4a7a56a5",
   "metadata": {},
   "source": [
    "Original training images were sorted in an array of shape (60000, 28, 28) of type 'uint8' with values in the [0, 255] interval. We transform it into a 'float32' array of shape (60000, 28, 28) with values between 0 and 1"
   ]
  },
  {
   "cell_type": "markdown",
   "id": "fb338c85",
   "metadata": {},
   "source": [
    "##### Preparing the labels"
   ]
  },
  {
   "cell_type": "markdown",
   "id": "af90a9ba",
   "metadata": {},
   "source": [
    "for the most recent version of keras: 'from keras.utils import' is now 'from tensorflow.keras.utils import'"
   ]
  },
  {
   "cell_type": "code",
   "execution_count": 14,
   "id": "89c2d8d0",
   "metadata": {},
   "outputs": [],
   "source": [
    "from tensorflow.keras.utils import to_categorical\n",
    "\n",
    "train_labels = to_categorical(train_labels)\n",
    "test_labels = to_categorical(test_labels)"
   ]
  },
  {
   "cell_type": "code",
   "execution_count": 15,
   "id": "4678bdfb",
   "metadata": {},
   "outputs": [
    {
     "data": {
      "text/plain": [
       "array([[0., 0., 0., ..., 0., 0., 0.],\n",
       "       [1., 0., 0., ..., 0., 0., 0.],\n",
       "       [0., 0., 0., ..., 0., 0., 0.],\n",
       "       ...,\n",
       "       [0., 0., 0., ..., 0., 0., 0.],\n",
       "       [0., 0., 0., ..., 0., 0., 0.],\n",
       "       [0., 0., 0., ..., 0., 1., 0.]], dtype=float32)"
      ]
     },
     "execution_count": 15,
     "metadata": {},
     "output_type": "execute_result"
    }
   ],
   "source": [
    "train_labels"
   ]
  },
  {
   "cell_type": "code",
   "execution_count": 16,
   "id": "f3adf92f",
   "metadata": {},
   "outputs": [
    {
     "data": {
      "text/plain": [
       "array([[0., 0., 0., ..., 1., 0., 0.],\n",
       "       [0., 0., 1., ..., 0., 0., 0.],\n",
       "       [0., 1., 0., ..., 0., 0., 0.],\n",
       "       ...,\n",
       "       [0., 0., 0., ..., 0., 0., 0.],\n",
       "       [0., 0., 0., ..., 0., 0., 0.],\n",
       "       [0., 0., 0., ..., 0., 0., 0.]], dtype=float32)"
      ]
     },
     "execution_count": 16,
     "metadata": {},
     "output_type": "execute_result"
    }
   ],
   "source": [
    "test_labels"
   ]
  },
  {
   "cell_type": "markdown",
   "id": "732f93aa",
   "metadata": {},
   "source": [
    "##### Train the model "
   ]
  },
  {
   "cell_type": "markdown",
   "id": "0ec25776",
   "metadata": {},
   "source": [
    "keras trains the network via a call to the network's 'fit' method"
   ]
  },
  {
   "cell_type": "code",
   "execution_count": 17,
   "id": "3de1b948",
   "metadata": {},
   "outputs": [
    {
     "name": "stdout",
     "output_type": "stream",
     "text": [
      "Epoch 1/5\n",
      " 54/469 [==>...........................] - ETA: 1s - loss: 0.6398 - accuracy: 0.8196"
     ]
    },
    {
     "name": "stderr",
     "output_type": "stream",
     "text": [
      "2022-03-27 21:43:47.048140: I tensorflow/stream_executor/cuda/cuda_blas.cc:1786] TensorFloat-32 will be used for the matrix multiplication. This will only be logged once.\n"
     ]
    },
    {
     "name": "stdout",
     "output_type": "stream",
     "text": [
      "469/469 [==============================] - 2s 3ms/step - loss: 0.2583 - accuracy: 0.9257\n",
      "Epoch 2/5\n",
      "469/469 [==============================] - 1s 3ms/step - loss: 0.1033 - accuracy: 0.9687\n",
      "Epoch 3/5\n",
      "469/469 [==============================] - 1s 3ms/step - loss: 0.0687 - accuracy: 0.9794\n",
      "Epoch 4/5\n",
      "469/469 [==============================] - 1s 3ms/step - loss: 0.0506 - accuracy: 0.9850\n",
      "Epoch 5/5\n",
      "469/469 [==============================] - 1s 3ms/step - loss: 0.0378 - accuracy: 0.9890\n"
     ]
    },
    {
     "data": {
      "text/plain": [
       "<keras.callbacks.History at 0x7f55ce5f3a30>"
      ]
     },
     "execution_count": 17,
     "metadata": {},
     "output_type": "execute_result"
    }
   ],
   "source": [
    "network.fit(train_images, \n",
    "            train_labels, \n",
    "            epochs = 5, \n",
    "            batch_size = 128)"
   ]
  },
  {
   "cell_type": "markdown",
   "id": "63ff1d63",
   "metadata": {},
   "source": [
    "two quantities are displayed during training: the loss and the accuracy of the network over the training data"
   ]
  },
  {
   "cell_type": "markdown",
   "id": "4486e987",
   "metadata": {},
   "source": [
    "The accuracy achieved 0.9887 (98.87%) on the training data"
   ]
  },
  {
   "cell_type": "markdown",
   "id": "8b3d77d4",
   "metadata": {},
   "source": [
    "Now check the model performance on the test set:"
   ]
  },
  {
   "cell_type": "code",
   "execution_count": 18,
   "id": "6d7bbf2d",
   "metadata": {},
   "outputs": [
    {
     "name": "stdout",
     "output_type": "stream",
     "text": [
      "313/313 [==============================] - 1s 2ms/step - loss: 0.0664 - accuracy: 0.9789\n",
      "test_acc: 0.9789000153541565\n"
     ]
    }
   ],
   "source": [
    "test_loss, test_acc = network.evaluate(test_images, test_labels)\n",
    "print('test_acc:', test_acc)"
   ]
  },
  {
   "cell_type": "markdown",
   "id": "1b24d9cd",
   "metadata": {},
   "source": [
    "The gap between training accuracy and test accuracy is an example of 'overfitting', the fact that machine-learning models tend to perform worse on new data than on their training data"
   ]
  }
 ],
 "metadata": {
  "kernelspec": {
   "display_name": "Python 3 (ipykernel)",
   "language": "python",
   "name": "python3"
  },
  "language_info": {
   "codemirror_mode": {
    "name": "ipython",
    "version": 3
   },
   "file_extension": ".py",
   "mimetype": "text/x-python",
   "name": "python",
   "nbconvert_exporter": "python",
   "pygments_lexer": "ipython3",
   "version": "3.8.10"
  }
 },
 "nbformat": 4,
 "nbformat_minor": 5
}
