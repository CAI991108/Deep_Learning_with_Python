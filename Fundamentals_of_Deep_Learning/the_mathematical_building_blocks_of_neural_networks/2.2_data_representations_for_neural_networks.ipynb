{
 "cells": [
  {
   "cell_type": "markdown",
   "id": "8afc8638",
   "metadata": {},
   "source": [
    "##### Scalars (0D tensors)"
   ]
  },
  {
   "cell_type": "markdown",
   "id": "c7066dcd",
   "metadata": {},
   "source": [
    "A tensor that contains only one number is called a 'scalar' (or scalar tensor, or 0-dimensional tensor, or 0D tensor). In Numpy, a 'float32' or 'float64' number is a scalar tensor (or scalar array). "
   ]
  },
  {
   "cell_type": "markdown",
   "id": "be2f6cab",
   "metadata": {},
   "source": [
    "We can display the number of axes of a Numpy tensor via 'ndim' attribute"
   ]
  },
  {
   "cell_type": "markdown",
   "id": "1b0b077b",
   "metadata": {},
   "source": [
    "The number of axes of a tensor is also called its rank "
   ]
  },
  {
   "cell_type": "code",
   "execution_count": 2,
   "id": "26fd4e05",
   "metadata": {},
   "outputs": [
    {
     "data": {
      "text/plain": [
       "array(12)"
      ]
     },
     "execution_count": 2,
     "metadata": {},
     "output_type": "execute_result"
    }
   ],
   "source": [
    "import numpy as np\n",
    "x = np.array(12)\n",
    "x"
   ]
  },
  {
   "cell_type": "code",
   "execution_count": 3,
   "id": "49341961",
   "metadata": {},
   "outputs": [
    {
     "data": {
      "text/plain": [
       "0"
      ]
     },
     "execution_count": 3,
     "metadata": {},
     "output_type": "execute_result"
    }
   ],
   "source": [
    "x.ndim"
   ]
  },
  {
   "cell_type": "markdown",
   "id": "ab5e9760",
   "metadata": {},
   "source": [
    "##### Vectors (1D tensors)"
   ]
  },
  {
   "cell_type": "markdown",
   "id": "b4f2c21e",
   "metadata": {},
   "source": [
    "An array of numbers is caleld a vector, or 1D tensor. A 1D tensor is said to have exactly one axis"
   ]
  },
  {
   "cell_type": "code",
   "execution_count": 4,
   "id": "405a3651",
   "metadata": {},
   "outputs": [
    {
     "data": {
      "text/plain": [
       "array([12,  3,  6, 14])"
      ]
     },
     "execution_count": 4,
     "metadata": {},
     "output_type": "execute_result"
    }
   ],
   "source": [
    "x = np.array([12, 3, 6, 14])\n",
    "x"
   ]
  },
  {
   "cell_type": "code",
   "execution_count": 5,
   "id": "5fafcf7d",
   "metadata": {},
   "outputs": [
    {
     "data": {
      "text/plain": [
       "1"
      ]
     },
     "execution_count": 5,
     "metadata": {},
     "output_type": "execute_result"
    }
   ],
   "source": [
    "x.ndim"
   ]
  },
  {
   "cell_type": "markdown",
   "id": "94ee3f64",
   "metadata": {},
   "source": [
    "##### Matrices (2D tensors)"
   ]
  },
  {
   "cell_type": "markdown",
   "id": "6fd6043f",
   "metadata": {},
   "source": [
    "An array of vectors is a matrix, or 2D tensor. It can be visually interpret as a rectangular grid of numbers"
   ]
  },
  {
   "cell_type": "code",
   "execution_count": 7,
   "id": "69bdc223",
   "metadata": {},
   "outputs": [
    {
     "data": {
      "text/plain": [
       "2"
      ]
     },
     "execution_count": 7,
     "metadata": {},
     "output_type": "execute_result"
    }
   ],
   "source": [
    "x = np.array([[5, 78, 2, 34, 0], \n",
    "             [6, 79, 3, 35, 1],\n",
    "             [7, 80, 4, 36, 2]])\n",
    "x.ndim"
   ]
  },
  {
   "cell_type": "markdown",
   "id": "b180559b",
   "metadata": {},
   "source": [
    "##### 3D tensors and higher-dimensional tensors"
   ]
  },
  {
   "cell_type": "markdown",
   "id": "b892e032",
   "metadata": {},
   "source": [
    "A 3D tensor packs such matrices in a new array, which can visually interpret as a cube of numbers"
   ]
  },
  {
   "cell_type": "code",
   "execution_count": 8,
   "id": "45910a2d",
   "metadata": {},
   "outputs": [
    {
     "data": {
      "text/plain": [
       "3"
      ]
     },
     "execution_count": 8,
     "metadata": {},
     "output_type": "execute_result"
    }
   ],
   "source": [
    "x = np.array([[[5, 78, 2, 34, 0],\n",
    "               [6, 79, 3, 35, 1],\n",
    "               [7, 80, 4, 36, 2]], \n",
    "              [[5, 78, 2, 34, 0], \n",
    "               [6, 79, 3, 35, 1],\n",
    "               [7, 80, 4, 36, 2]],\n",
    "              [[5, 78, 2, 34, 0],\n",
    "               [6, 79, 3, 35, 1],\n",
    "               [7, 80, 4, 36, 2]]])\n",
    "x.ndim"
   ]
  },
  {
   "cell_type": "markdown",
   "id": "5f2a15f1",
   "metadata": {},
   "source": [
    "By packing 3D tensors in an array, we can create a 4D tensor, and so on. In deep learning, we generally manipulate tensors taht are 0D to 4D, although there can be 5D for processing video data"
   ]
  },
  {
   "cell_type": "markdown",
   "id": "218062e6",
   "metadata": {},
   "source": [
    "##### Key attributes"
   ]
  },
  {
   "cell_type": "markdown",
   "id": "becc8caa",
   "metadata": {},
   "source": [
    "A tensor is defined by three key attributes:"
   ]
  },
  {
   "cell_type": "markdown",
   "id": "5b36bfec",
   "metadata": {},
   "source": [
    "'Number of axes (rank)' -- this is alos called the tensor's 'ndim' in Python libraries such as Numpy"
   ]
  },
  {
   "cell_type": "markdown",
   "id": "4ae59b0b",
   "metadata": {},
   "source": [
    "'Shape' -- this is a tuple of integers taht describes how many dimensions the tensor has along each axies"
   ]
  },
  {
   "cell_type": "markdown",
   "id": "15a5ab89",
   "metadata": {},
   "source": [
    "'Data type (usually called 'dtype' in Python libraries)' -- this is the type of the data contained in the tensor; for instance, a tensor's type could be 'float32', 'uint8', 'float64', and so on. On rare occasions, there may be a 'char' tensor. Note that string tensorrs don't exist in Numpy (or in most other libraries), because tensors live in preallocated, contiguous memory segments: and strings, being variable length, would preclude the use of this implementation. "
   ]
  },
  {
   "cell_type": "markdown",
   "id": "e0e7cd58",
   "metadata": {},
   "source": [
    "to make this more concrete, for the MNIST exmple"
   ]
  },
  {
   "cell_type": "markdown",
   "id": "d7240191",
   "metadata": {},
   "source": [
    "load the MNIST dataset"
   ]
  },
  {
   "cell_type": "code",
   "execution_count": 1,
   "id": "fd0d5262",
   "metadata": {},
   "outputs": [],
   "source": [
    "from keras.datasets import mnist\n",
    "(train_images, train_labels), (test_images, test_labels) = mnist.load_data()"
   ]
  },
  {
   "cell_type": "markdown",
   "id": "a1328ee8",
   "metadata": {},
   "source": [
    "display the number of axes of the tensor 'train_images', the ndim attribute:"
   ]
  },
  {
   "cell_type": "code",
   "execution_count": 2,
   "id": "46b87ff0",
   "metadata": {},
   "outputs": [
    {
     "name": "stdout",
     "output_type": "stream",
     "text": [
      "3\n"
     ]
    }
   ],
   "source": [
    "print(train_images.ndim)"
   ]
  },
  {
   "cell_type": "markdown",
   "id": "79d1926a",
   "metadata": {},
   "source": [
    "here's its shape:"
   ]
  },
  {
   "cell_type": "code",
   "execution_count": 3,
   "id": "a3222491",
   "metadata": {},
   "outputs": [
    {
     "name": "stdout",
     "output_type": "stream",
     "text": [
      "(60000, 28, 28)\n"
     ]
    }
   ],
   "source": [
    "print(train_images.shape)"
   ]
  },
  {
   "cell_type": "markdown",
   "id": "4aea40a7",
   "metadata": {},
   "source": [
    "and this is its data type, the 'dtype' attribute:"
   ]
  },
  {
   "cell_type": "code",
   "execution_count": 4,
   "id": "fa929343",
   "metadata": {},
   "outputs": [
    {
     "name": "stdout",
     "output_type": "stream",
     "text": [
      "uint8\n"
     ]
    }
   ],
   "source": [
    "print(train_images.dtype)"
   ]
  },
  {
   "cell_type": "markdown",
   "id": "1b0e85ab",
   "metadata": {},
   "source": [
    "So here is a 3D tensor of 8-bit integers. More precisely, it's an arry of 60,000 matrices of 28 x 8 integers. Each such matrix is a grayscale image, with coefficients between 0 and 255"
   ]
  },
  {
   "cell_type": "markdown",
   "id": "d56f1228",
   "metadata": {},
   "source": [
    "display the fourth digit (using the library Matplotlib)"
   ]
  },
  {
   "cell_type": "code",
   "execution_count": 5,
   "id": "cedd26b6",
   "metadata": {},
   "outputs": [
    {
     "data": {
      "image/png": "[encoded data removed]",
      "text/plain": [
       "<Figure size 432x288 with 1 Axes>"
      ]
     },
     "metadata": {
      "needs_background": "light"
     },
     "output_type": "display_data"
    }
   ],
   "source": [
    "digit = train_images[4]\n",
    "\n",
    "import matplotlib.pyplot as plt\n",
    "plt.imshow(digit, cmap = plt.cm.binary)\n",
    "plt.show()"
   ]
  },
  {
   "cell_type": "markdown",
   "id": "8fcf810e",
   "metadata": {},
   "source": [
    "##### Manipulating tensors in Numpy"
   ]
  },
  {
   "cell_type": "markdown",
   "id": "494099d6",
   "metadata": {},
   "source": [
    "Previously, we selected a specific digit alongside the first axis using the syntax 'train_images[i]'. Selecting specific elements in a tensor is called tensor slicing"
   ]
  },
  {
   "cell_type": "markdown",
   "id": "91ffd1d8",
   "metadata": {},
   "source": [
    "the following selects digits #10 to #100 (#100 isn't included) and put them in an array of shape (90, 28, 28):"
   ]
  },
  {
   "cell_type": "code",
   "execution_count": 6,
   "id": "e39b16ab",
   "metadata": {},
   "outputs": [
    {
     "name": "stdout",
     "output_type": "stream",
     "text": [
      "(90, 28, 28)\n"
     ]
    }
   ],
   "source": [
    "my_slice = train_images[10:100]\n",
    "print(my_slice.shape)"
   ]
  },
  {
   "cell_type": "markdown",
   "id": "9b38e49f",
   "metadata": {},
   "source": [
    "it's equivalen to following more detailed notation, which specifies a start index and stop index for the slice along each tensor axis. Note that ':' is equivalen to selecting the entire axis:"
   ]
  },
  {
   "cell_type": "code",
   "execution_count": 7,
   "id": "65f15851",
   "metadata": {},
   "outputs": [
    {
     "data": {
      "text/plain": [
       "(90, 28, 28)"
      ]
     },
     "execution_count": 7,
     "metadata": {},
     "output_type": "execute_result"
    }
   ],
   "source": [
    "my_slice = train_images[10:100, :, :]\n",
    "my_slice.shape"
   ]
  },
  {
   "cell_type": "code",
   "execution_count": 8,
   "id": "28b5da6c",
   "metadata": {},
   "outputs": [
    {
     "data": {
      "text/plain": [
       "(90, 28, 28)"
      ]
     },
     "execution_count": 8,
     "metadata": {},
     "output_type": "execute_result"
    }
   ],
   "source": [
    "my_slice = train_images[10:100, 0:28, 0:28]\n",
    "my_slice.shape"
   ]
  },
  {
   "cell_type": "markdown",
   "id": "fdf1b1be",
   "metadata": {},
   "source": [
    "For select between any two indices along each tensor axis, for instance, select 14 x 14 pixels in the bottom-right corner of all images:"
   ]
  },
  {
   "cell_type": "code",
   "execution_count": 13,
   "id": "880e73dc",
   "metadata": {},
   "outputs": [
    {
     "data": {
      "image/png": "[encoded data removed]",
      "text/plain": [
       "<Figure size 432x288 with 1 Axes>"
      ]
     },
     "metadata": {
      "needs_background": "light"
     },
     "output_type": "display_data"
    }
   ],
   "source": [
    "my_slice = train_images[:, 14:, 14:]\n",
    "plt.imshow(my_slice[4], cmap = plt.cm.binary)\n",
    "plt.show()"
   ]
  },
  {
   "cell_type": "markdown",
   "id": "27d797c4",
   "metadata": {},
   "source": [
    "it's also possible to use negative indices. Much like negative indices in python lists, they indicate a position relative to the end of the current axis. In order to crop the images to patches of 14 x 14 pixels centered in the middle: "
   ]
  },
  {
   "cell_type": "code",
   "execution_count": 12,
   "id": "e4e1483e",
   "metadata": {},
   "outputs": [
    {
     "data": {
      "image/png": "[encoded data removed]",
      "text/plain": [
       "<Figure size 432x288 with 1 Axes>"
      ]
     },
     "metadata": {
      "needs_background": "light"
     },
     "output_type": "display_data"
    }
   ],
   "source": [
    "my_slice = train_images[:, 7:-7, 7:-7]\n",
    "plt.imshow(my_slice[4], cmap = plt.cm.binary)\n",
    "plt.show()"
   ]
  },
  {
   "cell_type": "markdown",
   "id": "1613650a",
   "metadata": {},
   "source": [
    "##### The notion of data batches"
   ]
  },
  {
   "cell_type": "markdown",
   "id": "0728cc5b",
   "metadata": {},
   "source": [
    "In general, the first axis (axis 0, because indexing starts at 0) in all data tensor in deep learning will be the samples axis (sometimes called the samples dimension). In ths MNIST example, samples are images of digits."
   ]
  },
  {
   "cell_type": "markdown",
   "id": "c652b10c",
   "metadata": {},
   "source": [
    "In addition, deep-learning models don't process an entire dataset at once; rather, they break the data into small batches. Concretely, here's one batch of our MNIST digits, with batch size of 128:"
   ]
  },
  {
   "cell_type": "code",
   "execution_count": null,
   "id": "7877b8ef",
   "metadata": {},
   "outputs": [],
   "source": [
    "batch = train_images[;128]"
   ]
  },
  {
   "cell_type": "markdown",
   "id": "d29db76f",
   "metadata": {},
   "source": [
    "and here's the next batch"
   ]
  },
  {
   "cell_type": "code",
   "execution_count": null,
   "id": "3260eac3",
   "metadata": {},
   "outputs": [],
   "source": [
    "batch = train_images[128:256]"
   ]
  },
  {
   "cell_type": "markdown",
   "id": "8e051499",
   "metadata": {},
   "source": [
    "and the 'n'th batch:"
   ]
  },
  {
   "cell_type": "code",
   "execution_count": null,
   "id": "ccb68fcc",
   "metadata": {},
   "outputs": [],
   "source": [
    "batch = train_images[128 * n:128 * (n + 1)]"
   ]
  },
  {
   "cell_type": "markdown",
   "id": "1fa1c6bf",
   "metadata": {},
   "source": [
    "when considering such a batch tensor, the first axis (axis 0) is called the batch axis or batch dimension. This is a term frequently encounter when using Keras and other deep-learning library"
   ]
  },
  {
   "cell_type": "markdown",
   "id": "06b4540d",
   "metadata": {},
   "source": [
    "##### Real-world examples of data tensors"
   ]
  },
  {
   "cell_type": "markdown",
   "id": "3fd08f87",
   "metadata": {},
   "source": [
    "To be more concretely, the data manipulated will almost always fall into on of the following categories:"
   ]
  },
  {
   "cell_type": "markdown",
   "id": "1a58a1cd",
   "metadata": {},
   "source": [
    "- 'Vector data' -- 2D tensors of shape (samples, features)"
   ]
  },
  {
   "cell_type": "markdown",
   "id": "e9f2831f",
   "metadata": {},
   "source": [
    "- 'Timeseries data or sequence data' -- 3D tensors of shape (samples, timesteps, features)"
   ]
  },
  {
   "cell_type": "markdown",
   "id": "af9b222f",
   "metadata": {},
   "source": [
    "- 'Images' -- 4D tensors of shape (samples, height, width, channels) or (samples, channels, height, width)"
   ]
  },
  {
   "cell_type": "markdown",
   "id": "6fc3e8d1",
   "metadata": {},
   "source": [
    "- 'Video' -- 5D tensors of shape (samples, frames, height, width, channels) or (samples, frames, channels, height, width)"
   ]
  },
  {
   "cell_type": "markdown",
   "id": "bb47d821",
   "metadata": {},
   "source": [
    "##### Vector data"
   ]
  },
  {
   "cell_type": "markdown",
   "id": "bb66e11b",
   "metadata": {},
   "source": [
    "This is  the most common case. In such a dataset, each single data point can be encoded as a vector, and thus a batch of data will be encoded as a 2D tensor (that is, an array of vectors), where the first axis is the samples axis and the second axis is the features axis."
   ]
  },
  {
   "cell_type": "markdown",
   "id": "49fb9b2b",
   "metadata": {},
   "source": [
    "- An actuarial dataset of people, where we consider each person’s age, ZIP code, and income. Each person can be characterized as a vector of 3 values, and thus an entire dataset of 100,000 people can be stored in a 2D tensor of shape (100000, 3) ."
   ]
  },
  {
   "cell_type": "markdown",
   "id": "213caf9f",
   "metadata": {},
   "source": [
    "- A dataset of text documents, where we represent each document by the counts of how many times each word appears in it (out of a dictionary of 20,000 common words). Each document can be encoded as a vector of 20,000 values (onecount per word in the dictionary), and thus an entire dataset of 500 documents can be stored in a tensor of shape (500, 20000) ."
   ]
  },
  {
   "cell_type": "markdown",
   "id": "d82c1fb2",
   "metadata": {},
   "source": [
    "##### Timeseries data or sequence data"
   ]
  },
  {
   "cell_type": "markdown",
   "id": "5c435b41",
   "metadata": {},
   "source": [
    "Whenever time matters in the data (or the notion of sequence order), it makes sense to store it in a 3D tensor wit an explicit time axis. Each sample can be encoded as a sequence of vectors (a 2D tensor), and thus a batch of data will be encoded as a 3D tensor"
   ]
  },
  {
   "cell_type": "markdown",
   "id": "e0f1a51e",
   "metadata": {},
   "source": [
    "The time axis is always the second axis (axis of index 1)"
   ]
  },
  {
   "cell_type": "markdown",
   "id": "79d6d6e4",
   "metadata": {},
   "source": [
    "- A dataset of stock prices. Every minute, we store the current price of the stock, the highest price in the past minute, and the lowest price in the past minute. Thus every minute is encoded as a 3D vector, an entire day of trading is encoded as a 2D tensor of shape (390, 3) (there are 390 minutes in a trading day), and 250 days’ worth of data can be stored in a 3D tensor of shape (250, 390, 3) . Here, each sample would be one day’s worth of data."
   ]
  },
  {
   "cell_type": "markdown",
   "id": "e8ccd02c",
   "metadata": {},
   "source": [
    "- A dataset of tweets, where we encode each tweet as a sequence of 280 characters out of an alphabet of 128 unique characters. In this setting, each character can be encoded as a binary vector of size 128 (an all-zeros vector except for a 1 entry at the index corresponding to the character). Then each tweet can be encoded as a 2D tensor of shape (280, 128) , and a dataset of 1 million tweets can be stored in a tensor of shape (1000000, 280, 128)."
   ]
  },
  {
   "cell_type": "markdown",
   "id": "39360058",
   "metadata": {},
   "source": [
    "##### Image data"
   ]
  },
  {
   "cell_type": "markdown",
   "id": "bdcc4db2",
   "metadata": {},
   "source": [
    "Images typically have three dimensions: height, width, and color depth. Although grayscale images (like our MNIST digits) have only a single color channel and could thus be stored in 2D tensors, by convention image tensors are always 3D , with a one-dimensional color channel for grayscale images. A batch of 128 grayscale images of size 256 × 256 could thus be stored in a tensor of shape (128, 256, 256, 1) , and a batch of 128 color images could be stored in a tensor of shape (128, 256, 256, 3)"
   ]
  },
  {
   "cell_type": "markdown",
   "id": "236e7a44",
   "metadata": {},
   "source": [
    "There are two conventions for shapes of images tensors: the channels-last convention (used by TensorFlow) and the channels-first convention (used by Theano). The TensorFlow machine-learning framework, from Google, places the color-depth axis at the end: (samples, height, width, color_depth) . Meanwhile, Theano places the color depth axis right after the batch axis: (samples, color_depth, height, width). With the Theano convention, the previous examples would become (128, 1, 256, 256) and (128, 3, 256, 256) . The Keras framework provides support for both formats."
   ]
  },
  {
   "cell_type": "markdown",
   "id": "d7dc32fe",
   "metadata": {},
   "source": [
    "##### Video data"
   ]
  },
  {
   "cell_type": "markdown",
   "id": "a0a33d8d",
   "metadata": {},
   "source": [
    "Video data is one of the few types of real-world data for which you’ll need 5D tensors. A video can be understood as a sequence of frames, each frame being a color image. Because each frame can be stored in a 3D tensor (height, width, color_depth) , a sequence of frames can be stored in a 4D tensor (frames, height, width, color_depth) , and thus a batch of different videos can be stored in a 5D tensor of shape (samples, frames, height, width, color_depth) ."
   ]
  },
  {
   "cell_type": "markdown",
   "id": "1dd232de",
   "metadata": {},
   "source": [
    "For instance, a 60-second, 144 × 256 YouTube video clip sampled at 4 frames per second would have 240 frames. A batch of four such video clips would be stored in a tensor of shape (4, 240, 144, 256, 3) . That’s a total of 106,168,320 values! If the dtype of the tensor was float32 , then each value would be stored in 32 bits, so the tensor would represent 405 MB. Heavy! Videos you encounter in real life are much lighter, because they aren’t stored in float32 , and they’re typically compressed by a large factor (such as in the MPEG format)."
   ]
  }
 ],
 "metadata": {
  "kernelspec": {
   "display_name": "Python 3 (ipykernel)",
   "language": "python",
   "name": "python3"
  },
  "language_info": {
   "codemirror_mode": {
    "name": "ipython",
    "version": 3
   },
   "file_extension": ".py",
   "mimetype": "text/x-python",
   "name": "python",
   "nbconvert_exporter": "python",
   "pygments_lexer": "ipython3",
   "version": "3.8.10"
  }
 },
 "nbformat": 4,
 "nbformat_minor": 5
}
