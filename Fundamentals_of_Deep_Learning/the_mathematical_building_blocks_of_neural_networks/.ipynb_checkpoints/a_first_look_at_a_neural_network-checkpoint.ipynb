version https://git-lfs.github.com/spec/v1
oid sha256:5b463707edef8549982ea87d7d97fe79fdb0e2647af4b33784ce2ce913a14278
size 17472
