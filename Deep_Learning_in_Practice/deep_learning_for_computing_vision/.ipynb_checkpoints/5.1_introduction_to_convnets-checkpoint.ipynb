version https://git-lfs.github.com/spec/v1
oid sha256:31f9d09662079629d73f44fec97f999e79fd1f50bf277f65683097f519ae2017
size 7440
