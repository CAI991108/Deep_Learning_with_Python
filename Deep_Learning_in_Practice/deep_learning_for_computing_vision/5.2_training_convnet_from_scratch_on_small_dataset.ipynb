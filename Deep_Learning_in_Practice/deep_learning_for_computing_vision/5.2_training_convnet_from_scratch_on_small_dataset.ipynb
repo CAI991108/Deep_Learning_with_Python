version https://git-lfs.github.com/spec/v1
oid sha256:503a457715996ba5d1130090110c456ece18aca995675b89180c64009d9eb085
size 1131511
