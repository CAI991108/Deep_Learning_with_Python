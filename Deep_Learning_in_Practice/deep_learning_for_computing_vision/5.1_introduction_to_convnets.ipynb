version https://git-lfs.github.com/spec/v1
oid sha256:07383c644030c5d51a2da05b1f5155e25457566f568a0f535e528a35cb9f68b7
size 43599
