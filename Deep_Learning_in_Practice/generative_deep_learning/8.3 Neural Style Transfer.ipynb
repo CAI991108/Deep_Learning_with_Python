{
 "cells": [
  {
   "cell_type": "markdown",
   "id": "ac74a080",
   "metadata": {},
   "source": [
    "neural style transfer consists of applying the style of a reference image to a target image while conserving the content of the target image"
   ]
  },
  {
   "cell_type": "markdown",
   "id": "af0fe83b",
   "metadata": {},
   "source": [
    "![A Style Transfer Example](./style_trans.png)"
   ]
  },
  {
   "cell_type": "markdown",
   "id": "afdbf440",
   "metadata": {},
   "source": [
    "the key notion behind implement style transfer is the same idea that's central to all deep-learning algorithms: define a loss function to specify what to achieve, and minimize this loss: conserving the content of the original image while adopting the style of the reference image"
   ]
  },
  {
   "cell_type": "markdown",
   "id": "d21fc722",
   "metadata": {},
   "source": [
    "mathematrically for [content] and [style], an appropriate loss function to minimize:"
   ]
  },
  {
   "cell_type": "markdown",
   "id": "25923f42",
   "metadata": {},
   "source": [
    "loss = distance(style(reference_image) - style(generated_iamge)) + distance(content(origial_image) - content(generated_image))"
   ]
  },
  {
   "cell_type": "markdown",
   "id": "be5d256b",
   "metadata": {},
   "source": [
    "### The Content Loss"
   ]
  },
  {
   "cell_type": "markdown",
   "id": "d50c2496",
   "metadata": {},
   "source": [
    "activations from earlier layers in a network contain local informaiton about the image, whereas activations from higher layers contain increasingly global, abstract information; the activations of the different layers of a convnet provide a decomposition of the contents of an image over different spatial scales; the content of an image, which is more global and abstract. to be captured by the representations of the upper layers in a convnet"
   ]
  },
  {
   "cell_type": "markdown",
   "id": "7fc72f48",
   "metadata": {},
   "source": [
    "a good candidate for content loss is thus the L2 norm between the activations of an upper layer in a pretrained convnet, computed over the target image, and the activations of teh same layer computed over the generated image; this guarantees that the generated image will look similar to the original target image; assmuing taht the upper layers of a convnet see is really the content of their input images, then this works as a wy to preserve image content "
   ]
  },
  {
   "cell_type": "markdown",
   "id": "391da6b1",
   "metadata": {},
   "source": [
    "### The Style Loss"
   ]
  },
  {
   "cell_type": "markdown",
   "id": "1902365a",
   "metadata": {},
   "source": [
    "capture the apperance of the sylte reference image at all spatial scales extracted by the convnet, not just a single scale; the inner product of the feature maps of a given layer; this inner product can be understaood as representing a map of the correlations between the layer's features; these featrue correlations capture the statistics of the patterns of a particular spatial scale, which empirically correspond to the apperance of the extures found at this scale"
   ]
  },
  {
   "cell_type": "markdown",
   "id": "c2a47747",
   "metadata": {},
   "source": [
    "the style loss aims to preserve similar internal correaltions within the activations of different layers, across the style-reference image and the generated image ; this guarantees that the textures found at different spatial scales look similar across the style-reference image and the generated image"
   ]
  },
  {
   "cell_type": "markdown",
   "id": "a19875a5",
   "metadata": {},
   "source": [
    "in short, use a pretrained convnet to define a loss that will do the following:\n",
    "- preserve content by maintaining similar high-level layer activations between the target content image and the genenrated image as containing the same things\n",
    "- preserve style by maintaining similar correlations within activations for both low level layers and high-level layers; feature correlations capture textures: the generated image and teh style-reference image should share the same textures at different spatial scales"
   ]
  },
  {
   "cell_type": "markdown",
   "id": "42c7910b",
   "metadata": {},
   "source": [
    "### Neural Style Transfer in Keras"
   ]
  },
  {
   "cell_type": "markdown",
   "id": "39225121",
   "metadata": {},
   "source": [
    "neural style transfer can be implemented using any pretrained convnet; VGG19 is a simple variant of the VGG16 network, with three more convolutional layers; the general process:\n",
    "- set up a network that computes VGG19 layer activations for the style-reference image, the target image, and the generated image at the same time\n",
    "- use the layer activations computed over these three images to define the loss function described earlier, which minimize in order to achieve tyle transfer \n",
    "- set up a gradient-descent process to minimize the loss function"
   ]
  },
  {
   "cell_type": "code",
   "execution_count": 1,
   "id": "8990f006",
   "metadata": {},
   "outputs": [
    {
     "name": "stdout",
     "output_type": "stream",
     "text": [
      "Downloading data from https://img-datasets.s3.amazonaws.com/sf.jpg\n",
      "575046/575046 [==============================] - 1s 2us/step\n",
      "Downloading data from https://img-datasets.s3.amazonaws.com/starry_night.jpg\n",
      "943128/943128 [==============================] - 1s 1us/step\n"
     ]
    }
   ],
   "source": [
    "# getting the style and content images\n",
    "from tensorflow import keras\n",
    "\n",
    "base_image_path = keras.utils.get_file(\n",
    "    \"sf.jpg\", origin=\"https://img-datasets.s3.amazonaws.com/sf.jpg\")\n",
    "style_reference_image_path = keras.utils.get_file(\n",
    "    \"starry_night.jpg\", origin=\"https://img-datasets.s3.amazonaws.com/starry_night.jpg\")\n",
    "\n",
    "original_width, original_height = keras.utils.load_img(base_image_path).size\n",
    "img_height = 400\n",
    "img_width = round(original_width * img_height / original_height)"
   ]
  },
  {
   "cell_type": "code",
   "execution_count": 2,
   "id": "1e8ba683",
   "metadata": {},
   "outputs": [],
   "source": [
    "# auxiliary function\n",
    "import numpy as np\n",
    "\n",
    "def preprocess_image(image_path):\n",
    "    img = keras.utils.load_img(\n",
    "        image_path, target_size=(img_height, img_width))\n",
    "    img = keras.utils.img_to_array(img)\n",
    "    img = np.expand_dims(img, axis=0)\n",
    "    img = keras.applications.vgg19.preprocess_input(img)\n",
    "    return img\n",
    "\n",
    "def deprocess_image(img):\n",
    "    img = img.reshape((img_height, img_width, 3))\n",
    "    img[:, :, 0] += 103.939\n",
    "    img[:, :, 1] += 116.779\n",
    "    img[:, :, 2] += 123.68\n",
    "    img = img[:, :, ::-1]\n",
    "    img = np.clip(img, 0, 255).astype(\"uint8\")\n",
    "    return img"
   ]
  },
  {
   "cell_type": "code",
   "execution_count": 3,
   "id": "a2298c5d",
   "metadata": {},
   "outputs": [
    {
     "name": "stdout",
     "output_type": "stream",
     "text": [
      "Downloading data from https://storage.googleapis.com/tensorflow/keras-applications/vgg19/vgg19_weights_tf_dim_ordering_tf_kernels_notop.h5\n",
      "80134624/80134624 [==============================] - 18s 0us/step\n"
     ]
    }
   ],
   "source": [
    "# using a pretrained VGG19 model to create a feature extractor\n",
    "model = keras.applications.vgg19.VGG19(weights=\"imagenet\", include_top=False)\n",
    "\n",
    "outputs_dict = dict([(layer.name, layer.output) for layer in model.layers])\n",
    "feature_extractor = keras.Model(inputs=model.inputs, outputs=outputs_dict)"
   ]
  },
  {
   "cell_type": "code",
   "execution_count": 4,
   "id": "5f3bea36",
   "metadata": {},
   "outputs": [],
   "source": [
    "# content loss\n",
    "def content_loss(base_img, combination_img):\n",
    "    return tf.reduce_sum(tf.square(combination_img - base_img))"
   ]
  },
  {
   "cell_type": "code",
   "execution_count": 5,
   "id": "8e68f553",
   "metadata": {},
   "outputs": [],
   "source": [
    "# style loss\n",
    "def gram_matrix(x):\n",
    "    x = tf.transpose(x, (2, 0, 1))\n",
    "    features = tf.reshape(x, (tf.shape(x)[0], -1))\n",
    "    gram = tf.matmul(features, tf.transpose(features))\n",
    "    return gram\n",
    "\n",
    "def style_loss(style_img, combination_img):\n",
    "    S = gram_matrix(style_img)\n",
    "    C = gram_matrix(combination_img)\n",
    "    channels = 3\n",
    "    size = img_height * img_width\n",
    "    return tf.reduce_sum(tf.square(S - C)) / (4.0 * (channels ** 2) * (size ** 2))"
   ]
  },
  {
   "cell_type": "code",
   "execution_count": 6,
   "id": "55faf33a",
   "metadata": {},
   "outputs": [],
   "source": [
    "# total variation loss\n",
    "def total_variation_loss(x):\n",
    "    a = tf.square(\n",
    "        x[:, : img_height - 1, : img_width - 1, :] - x[:, 1:, : img_width - 1, :]\n",
    "    )\n",
    "    b = tf.square(\n",
    "        x[:, : img_height - 1, : img_width - 1, :] - x[:, : img_height - 1, 1:, :]\n",
    "    )\n",
    "    return tf.reduce_sum(tf.pow(a + b, 1.25))"
   ]
  },
  {
   "cell_type": "code",
   "execution_count": 7,
   "id": "ff754d93",
   "metadata": {},
   "outputs": [],
   "source": [
    "# defining the final loss minimized\n",
    "\n",
    "style_layer_names = [\n",
    "    \"block1_conv1\",\n",
    "    \"block2_conv1\",\n",
    "    \"block3_conv1\",\n",
    "    \"block4_conv1\",\n",
    "    \"block5_conv1\",\n",
    "]\n",
    "content_layer_name = \"block5_conv2\"\n",
    "total_variation_weight = 1e-6\n",
    "style_weight = 1e-6\n",
    "content_weight = 2.5e-8\n",
    "\n",
    "def compute_loss(combination_image, base_image, style_reference_image):\n",
    "    input_tensor = tf.concat(\n",
    "        [base_image, style_reference_image, combination_image], axis=0\n",
    "    )\n",
    "    features = feature_extractor(input_tensor)\n",
    "    loss = tf.zeros(shape=())\n",
    "    layer_features = features[content_layer_name]\n",
    "    base_image_features = layer_features[0, :, :, :]\n",
    "    combination_features = layer_features[2, :, :, :]\n",
    "    loss = loss + content_weight * content_loss(\n",
    "        base_image_features, combination_features\n",
    "    )\n",
    "    for layer_name in style_layer_names:\n",
    "        layer_features = features[layer_name]\n",
    "        style_reference_features = layer_features[1, :, :, :]\n",
    "        combination_features = layer_features[2, :, :, :]\n",
    "        style_loss_value = style_loss(\n",
    "          style_reference_features, combination_features)\n",
    "        loss += (style_weight / len(style_layer_names)) * style_loss_value\n",
    "\n",
    "    loss += total_variation_weight * total_variation_loss(combination_image)\n",
    "    return loss"
   ]
  },
  {
   "cell_type": "code",
   "execution_count": null,
   "id": "010ee141",
   "metadata": {},
   "outputs": [],
   "source": [
    "# setting up the gradient-descent process\n",
    "import tensorflow as tf\n",
    "\n",
    "@tf.function\n",
    "def compute_loss_and_grads(combination_image, base_image, style_reference_image):\n",
    "    with tf.GradientTape() as tape:\n",
    "        loss = compute_loss(combination_image, base_image, style_reference_image)\n",
    "    grads = tape.gradient(loss, combination_image)\n",
    "    return loss, grads\n",
    "\n",
    "optimizer = keras.optimizers.SGD(\n",
    "    keras.optimizers.schedules.ExponentialDecay(\n",
    "        initial_learning_rate=100.0, decay_steps=100, decay_rate=0.96\n",
    "    )\n",
    ")\n",
    "\n",
    "base_image = preprocess_image(base_image_path)\n",
    "style_reference_image = preprocess_image(style_reference_image_path)\n",
    "combination_image = tf.Variable(preprocess_image(base_image_path))\n",
    "\n",
    "iterations = 4000\n",
    "for i in range(1, iterations + 1):\n",
    "    loss, grads = compute_loss_and_grads(\n",
    "        combination_image, base_image, style_reference_image\n",
    "    )\n",
    "    optimizer.apply_gradients([(grads, combination_image)])\n",
    "    if i % 100 == 0:\n",
    "        print(f\"Iteration {i}: loss={loss:.2f}\")\n",
    "        img = deprocess_image(combination_image.numpy())\n",
    "        fname = f\"combination_image_at_iteration_{i}.png\"\n",
    "        keras.utils.save_img(fname, img)"
   ]
  }
 ],
 "metadata": {
  "kernelspec": {
   "display_name": "Python 3 (ipykernel)",
   "language": "python",
   "name": "python3"
  },
  "language_info": {
   "codemirror_mode": {
    "name": "ipython",
    "version": 3
   },
   "file_extension": ".py",
   "mimetype": "text/x-python",
   "name": "python",
   "nbconvert_exporter": "python",
   "pygments_lexer": "ipython3",
   "version": "3.9.16"
  }
 },
 "nbformat": 4,
 "nbformat_minor": 5
}
