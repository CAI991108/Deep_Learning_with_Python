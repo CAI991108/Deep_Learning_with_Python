{
 "cells": [
  {
   "cell_type": "markdown",
   "id": "24e1978f",
   "metadata": {},
   "source": [
    "text is one of the most widespread forms of sequence data, it can be understood as either a sequence of characters or a sequence of words, but it's most common to work at the level of words"
   ]
  },
  {
   "cell_type": "markdown",
   "id": "4ef8b201",
   "metadata": {},
   "source": [
    "deep-learning models don't take as input raw text: they only work with numeric tensors. Vectorizing text is the process of transforming text into numeric tensors, this can be done in multiple ways:\n",
    "- segment text into words, and transform each word into a vector\n",
    "- segment text into characters, and transform each character into a vector\n",
    "- extract n-grams of words or characters, and transform each n-gram into a vector (n-grams are overlapping groups of multiple consectuive words or characters)"
   ]
  },
  {
   "cell_type": "markdown",
   "id": "2d71370c",
   "metadata": {},
   "source": [
    "- collectively, the different units into which you can break down text (words, characters, or n-grams) are called 'tokens', and breaking text into such tokens is called tokenization\n",
    "- all text-vectorization process consist of applying some tokenization scheme and then associating numeric vectors with the generated tokens\n",
    "- these vectors, packed into sequence tensors, are fed into deep neural networks"
   ]
  },
  {
   "cell_type": "markdown",
   "id": "88721a9f",
   "metadata": {},
   "source": [
    "two major ones: \n",
    "- one-hot encoding of tokens\n",
    "- token embedding (typically used exclusively for words, and called word embedding)"
   ]
  },
  {
   "cell_type": "markdown",
   "id": "b758d32a",
   "metadata": {},
   "source": [
    "![From Text to Tokens to Vector](./text_to_tokens_to_vectors.png)"
   ]
  },
  {
   "cell_type": "markdown",
   "id": "3097385a",
   "metadata": {},
   "source": [
    "##### Understanding N-Grams and Bag-of-words"
   ]
  },
  {
   "cell_type": "markdown",
   "id": "e162965d",
   "metadata": {},
   "source": [
    "word n-grams are group of N (or fewer) consecutive words that you can extract from a sentence, the same concept may also be applied to characters instead of words"
   ]
  },
  {
   "cell_type": "markdown",
   "id": "54a0e9eb",
   "metadata": {},
   "source": [
    "![n-grams and bag-of-words](./n_grams_example.png)"
   ]
  },
  {
   "cell_type": "markdown",
   "id": "8c483c93",
   "metadata": {},
   "source": [
    "- because bag-of-words isn't and order-preserving tokenization method (the tokens generated are understood as a set, not a sequence, and the general structure of teh sentences is lost), it tends to be used in shallow language-processing models rather than in deep learning models\n",
    "- extracting n-grams is a form of feature engineering, and deep learning does away with this kind of rigid, brittle approcah, replacing it with hierarchical feature learning\n",
    "- n-grams are a powerful, unavoidable feature-engineering tool when using lightweight, shallow text-processing models such as logistic regression and random forests"
   ]
  },
  {
   "cell_type": "markdown",
   "id": "7c75ade5",
   "metadata": {},
   "source": [
    "### One-hot Encoding of Words and Characters"
   ]
  },
  {
   "cell_type": "markdown",
   "id": "7dc441c7",
   "metadata": {},
   "source": [
    "consist of associating a unique integer index with every word and then turning this integer index i into a binary vector of size N (the size of the vocabulary); tthe vector is all zeros except for the ith entry, which is 1"
   ]
  },
  {
   "cell_type": "code",
   "execution_count": 1,
   "id": "026bc617",
   "metadata": {},
   "outputs": [
    {
     "name": "stdout",
     "output_type": "stream",
     "text": [
      "[[[0. 1. 0. ... 0. 0. 0.]\n",
      "  [0. 0. 1. ... 0. 0. 0.]\n",
      "  [0. 0. 0. ... 0. 0. 0.]\n",
      "  ...\n",
      "  [0. 0. 0. ... 0. 0. 0.]\n",
      "  [0. 0. 0. ... 0. 0. 0.]\n",
      "  [0. 0. 0. ... 0. 0. 0.]]\n",
      "\n",
      " [[0. 0. 0. ... 0. 0. 0.]\n",
      "  [0. 0. 0. ... 0. 0. 0.]\n",
      "  [0. 0. 0. ... 0. 0. 0.]\n",
      "  ...\n",
      "  [0. 0. 0. ... 0. 0. 0.]\n",
      "  [0. 0. 0. ... 0. 0. 0.]\n",
      "  [0. 0. 0. ... 0. 0. 0.]]]\n"
     ]
    }
   ],
   "source": [
    "# word-level one-hot encoding (toy example)\n",
    "\n",
    "import numpy as np\n",
    "\n",
    "# initial data: one entry per sample (in this example, a sample is a sentence, but it coule be an entire document)\n",
    "samples = ['OpenAI launched the multimodal model GPT-4.',\n",
    "           'GPT-4 exhibits human-level performance on various profassional and academic benchmarks.']\n",
    "\n",
    "# build an index of all tokens in the data\n",
    "token_index = {}\n",
    "for sample in samples: \n",
    "    # tokenize the samples via the split method, in real life, you'd also strip punctuation and special characters from the samples\n",
    "    for word in sample.split():\n",
    "        if word not in token_index:\n",
    "            # assigns a unique index to each unique word, note that don't attribute index 0 to anything\n",
    "            token_index[word] = len(token_index) + 1\n",
    "            \n",
    "# vectorize the samples, only consider the first max_length words in each sample\n",
    "max_length = 30\n",
    "\n",
    "# store the results\n",
    "results = np.zeros(shape=(len(samples), \n",
    "                   max_length, \n",
    "                   max(token_index.values()) + 1))\n",
    "\n",
    "for i, sample in enumerate(samples):\n",
    "    for j, word in list(enumerate(sample.split()))[:max_length]:\n",
    "        index = token_index.get(word)\n",
    "        results[i, j, index] = 1\n",
    "        \n",
    "print(results)"
   ]
  },
  {
   "cell_type": "code",
   "execution_count": 2,
   "id": "3b2ad603",
   "metadata": {},
   "outputs": [
    {
     "name": "stdout",
     "output_type": "stream",
     "text": [
      "[[[1. 1. 1. ... 1. 1. 1.]\n",
      "  [1. 1. 1. ... 1. 1. 1.]\n",
      "  [1. 1. 1. ... 1. 1. 1.]\n",
      "  ...\n",
      "  [0. 0. 0. ... 0. 0. 0.]\n",
      "  [0. 0. 0. ... 0. 0. 0.]\n",
      "  [0. 0. 0. ... 0. 0. 0.]]\n",
      "\n",
      " [[1. 1. 1. ... 1. 1. 1.]\n",
      "  [1. 1. 1. ... 1. 1. 1.]\n",
      "  [1. 1. 1. ... 1. 1. 1.]\n",
      "  ...\n",
      "  [0. 0. 0. ... 0. 0. 0.]\n",
      "  [0. 0. 0. ... 0. 0. 0.]\n",
      "  [0. 0. 0. ... 0. 0. 0.]]]\n"
     ]
    }
   ],
   "source": [
    "# character-level one-hot encoding (toy example)\n",
    "import string\n",
    "\n",
    "samples = ['OpenAI launched the multimodal model GPT-4.',\n",
    "           'GPT-4 exhibits human-level performance on various profassional and academic benchmarks.']\n",
    "\n",
    "# all printable ASCII characters\n",
    "characters = string.printable\n",
    "token_index = dict(zip(range(1, len(characters) + 1), characters))\n",
    "\n",
    "max_length = 100\n",
    "results = np.zeros((len(samples), max_length, max(token_index.keys()) + 1))\n",
    "for i, sample in enumerate(samples):\n",
    "    for j, character in enumerate(sample):\n",
    "        index = token_index.get(character)\n",
    "        results[i, j, index] = 1\n",
    "        \n",
    "print(results)"
   ]
  },
  {
   "cell_type": "markdown",
   "id": "e244cc86",
   "metadata": {},
   "source": [
    "keras has built-in utilities for doing one-hot encoding of text at the word level or character level"
   ]
  },
  {
   "cell_type": "code",
   "execution_count": 3,
   "id": "7b1a8a89",
   "metadata": {},
   "outputs": [
    {
     "name": "stdout",
     "output_type": "stream",
     "text": [
      "Found 17 unique tokens.\n"
     ]
    }
   ],
   "source": [
    "# using keras for word-level one-hot encoding\n",
    "\n",
    "from keras.preprocessing.text import Tokenizer\n",
    "\n",
    "samples = ['OpenAI launched the multimodal model GPT-4.',\n",
    "           'GPT-4 exhibits human-level performance on various profassional and academic benchmarks.']\n",
    "\n",
    "# create a tokenizer, configured to only take into account the 2000 most common words\n",
    "tokenizer = Tokenizer(num_words=2000)\n",
    "\n",
    "# build the word index\n",
    "tokenizer.fit_on_texts(samples)\n",
    "\n",
    "# turns strings into lists of integer indices\n",
    "sequences = tokenizer.texts_to_sequences(samples)\n",
    "\n",
    "# get the one-hot binary representations, vectorization modes other than one-hot encoding are supported by this tokenizer\n",
    "one_hot_results = tokenizer.texts_to_matrix(samples, mode='binary')\n",
    "\n",
    "# how can recover the word index that was computed\n",
    "word_index = tokenizer.word_index\n",
    "print('Found %s unique tokens.' % len(word_index))"
   ]
  },
  {
   "cell_type": "markdown",
   "id": "b2fff654",
   "metadata": {},
   "source": [
    "one-hot encoding hasing trick:\n",
    "- when the number of unique tokens in your vacabulary is too large to handle explicitly, instead of explicitly assigning an index to each word and keeping a reference of these indices in a dictionary, you can hasd words into vectors of fixed size\n",
    "- typically done with a very lightweight hashing function\n",
    "- the main advanatage of this method is maintaining an explicit word index, which saves memory and allows online encoding of the data (you can generate token vectors right away, before seen all of the available data)\n",
    "- drawback -- susceptible to hash collisions: \n",
    "    - two different words may end up with the same hash, and subsequently any machine learning model looking at these hases won't be able to tell subsequently any machine-learning model looking at these hashes won't be able to tell the difference between these words\n",
    "    - the likelihood of hash collisions decreses when the dimensionality of the hashing space is much larger than the total number of unique tokens being hashed"
   ]
  },
  {
   "cell_type": "code",
   "execution_count": 4,
   "id": "d297c0bf",
   "metadata": {},
   "outputs": [],
   "source": [
    "# word-level one-hot encoding with hashing trick (toy example)\n",
    "samples = ['OpenAI launched the multimodal model GPT-4.',\n",
    "           'GPT-4 exhibits human-level performance on various profassional and academic benchmarks.']\n",
    "\n",
    "# store the words as vectors of size 2000, \n",
    "# if the words is close to , or more than 2000, there will be collisions,\n",
    "# which will decrease the accuracy of this encoding method\n",
    "dimensionality = 2000\n",
    "max_length = 16\n",
    "\n",
    "results = np.zeros((len(samples), max_length, dimensionality))\n",
    "for i, sample in enumerate(samples):\n",
    "    for j, word in list(enumerate(sample.split()))[:max_length]:\n",
    "        # hash the words into a random integer index between 0 and 2000\n",
    "        index = abs(hash(word)) % dimensionality\n",
    "        results[i, j, index] = 1"
   ]
  },
  {
   "cell_type": "markdown",
   "id": "2cd50c1d",
   "metadata": {},
   "source": [
    "### Using Word Embeddings"
   ]
  },
  {
   "cell_type": "markdown",
   "id": "a4a2f37f",
   "metadata": {},
   "source": [
    "whereas the vectors obtained through one-hot encoding are binary, sparse (mostly mdae of zero), and very high-dimensional (same dimensionality as the number of words in the vocabulary), word embeddings  are low-dimensional floating-point vectors (that is, dense vectors, as oppoed to sparse vectors)"
   ]
  },
  {
   "cell_type": "markdown",
   "id": "a31bc723",
   "metadata": {},
   "source": [
    "![oh-emb_representation](./oh-emb_rept.png)"
   ]
  },
  {
   "cell_type": "markdown",
   "id": "386f9f5b",
   "metadata": {},
   "source": [
    "word embeddings pack more information into far fewer dimensions"
   ]
  },
  {
   "cell_type": "markdown",
   "id": "b364fd0a",
   "metadata": {},
   "source": [
    "two ways to obtain word embeddings: \n",
    "- learn word embeddings jointly with the main task (such as document classification or sentiment prediction)\n",
    "    - in this setup, start with random word vectors and then learn word vectors in the same way learned the weights of a neural network\n",
    "- load into the model word embeddings that were precomputed using a different machine-learning task than the one trying to solve\n",
    "    - pretrained word embeddings"
   ]
  },
  {
   "cell_type": "markdown",
   "id": "658c5e5e",
   "metadata": {},
   "source": [
    "##### Learning Word Embedding with the Embedding Layer"
   ]
  },
  {
   "cell_type": "markdown",
   "id": "6affa664",
   "metadata": {},
   "source": [
    "- the simplest way to associate a dense vector with a word is to choose the vector at random\n",
    " - the problem is the resulting embedding space has no structure: for instance, the words accurate and exact may end up with completely different embeddings, even though they're interchangable in most sentences, it's difficult for a depp neural network to make sense of such a noisy, unstrctureed embedding space"
   ]
  },
  {
   "cell_type": "markdown",
   "id": "c98dabad",
   "metadata": {},
   "source": [
    "- to be more abstract, the geometric relationships between word vectors should reflect the semantic relationships betwee nthese words. \n",
    "- in a resonable embedding space, you would expect synonyms to be embedded into similar word vectors; and in general, you would expect the geometric distance between any two word vectors to relate to the semantic distance between the associated words (words meaning different things are embedded at points far away from each other, whereas related words are closer)\n",
    "- in addition to distance, you may want specific directions in teh embedding space to be meaningful"
   ]
  },
  {
   "cell_type": "markdown",
   "id": "6cd38fd3",
   "metadata": {},
   "source": [
    "![word_embedding_space](word_emb_space.png)"
   ]
  },
  {
   "cell_type": "markdown",
   "id": "d592bf09",
   "metadata": {},
   "source": [
    "\"Is there some ideal word-embedding space that would perfectly map human language and could be used for any natural-language-processing task? Possibly, but we\n",
    "have yet to compute anything of the sort. Also, there is no such a thing as human language—there are many different languages, and they aren’t isomorphic, because a language is the reflection of a specific culture and a specific context. But more\n",
    "pragmatically, what makes a good word-embedding space depends heavily on your task:\n",
    "the perfect word-embedding space for an English-language movie-review sentimentanalysis model may look different from the perfect embedding space for an Englishlanguage legal-document-classification model, because the importance of certain\n",
    "semantic relationships varies from task to task.\""
   ]
  },
  {
   "cell_type": "markdown",
   "id": "43fde47b",
   "metadata": {},
   "source": [
    "it's thus reasonable to learn a new embedding space with every new task, fortunately, backpropagation makes this easy, and Keras makes it even easier -- learning the weights of a layer: the 'Embedding' layer"
   ]
  },
  {
   "cell_type": "code",
   "execution_count": 5,
   "id": "b8813d82",
   "metadata": {},
   "outputs": [],
   "source": [
    "# instantiating an embedding layer\n",
    "from keras.layers import Embedding\n",
    "\n",
    "# the embedding layer takes at least two arguments: the number of possible tokens (here, 1000:1 + maximum word index)  and the dimensionality of the embedding (here, 64) \n",
    "embedding_layer = Embedding(1000, 64)"
   ]
  },
  {
   "cell_type": "markdown",
   "id": "d9528979",
   "metadata": {},
   "source": [
    "- the embedding layer is best understood as a dictionary that maps integer indices (which stand for specific words) to dense vectors \n",
    "- it takes integers as input, it looks up these integers in an internal dictionary, and it returns the associated vectors"
   ]
  },
  {
   "cell_type": "markdown",
   "id": "12efae0d",
   "metadata": {},
   "source": [
    "- the embedding layer takes as input a 2D tensor of integers -- (samples, sequence_length), where each entry is a sequence of integers\n",
    "- all sequences in a batch must have the same length (because they need to be pack into a single tensor)\n",
    "    - sequences taht are shorter should be padded with zeros, and sequences that are longer should be truncated"
   ]
  },
  {
   "cell_type": "markdown",
   "id": "56dd6a89",
   "metadata": {},
   "source": [
    "the layer returns a 3D floating-point tensor of shape (samples, sequence_length, embedding_dimensioinality), such a 3D tensor can then be processed by an RNN layer or a 1D convolution layer"
   ]
  },
  {
   "cell_type": "markdown",
   "id": "ceae3002",
   "metadata": {},
   "source": [
    "- when instantiating an embedding layer, its weights (its internal dicionary of token vectors) are initially random\n",
    "- during training, these word vectors are gradually adjusted via backpropagation, structuring the space into something the downstram model can exploit\n",
    "- once fully trained, the embedding space will show a lot of structure -- a kind of structure specialized for the specific problem"
   ]
  },
  {
   "cell_type": "code",
   "execution_count": 6,
   "id": "1ec86fd2",
   "metadata": {},
   "outputs": [],
   "source": [
    "# loading the IMDB data for use with an embedding layer\n",
    "from keras.datasets import imdb\n",
    "from keras import preprocessing\n",
    "from keras.utils import pad_sequences\n",
    "\n",
    "max_features = 10000\n",
    "maxlen = 20\n",
    "\n",
    "# load the data as lists of integers\n",
    "(x_train, y_train), (x_test, y_test) = imdb.load_data(num_words=max_features)\n",
    "\n",
    "# turn the lists of integers into a 2D integer tensor of shape (samples, maxlen)\n",
    "x_train = pad_sequences(x_train, maxlen=maxlen)\n",
    "x_test = pad_sequences(x_test, maxlen=maxlen)"
   ]
  },
  {
   "cell_type": "code",
   "execution_count": 7,
   "id": "8c3b09d3",
   "metadata": {
    "scrolled": true
   },
   "outputs": [
    {
     "name": "stdout",
     "output_type": "stream",
     "text": [
      "Model: \"sequential\"\n",
      "_________________________________________________________________\n",
      " Layer (type)                Output Shape              Param #   \n",
      "=================================================================\n",
      " embedding_1 (Embedding)     (None, 20, 8)             80000     \n",
      "                                                                 \n",
      " flatten (Flatten)           (None, 160)               0         \n",
      "                                                                 \n",
      " dense (Dense)               (None, 1)                 161       \n",
      "                                                                 \n",
      "=================================================================\n",
      "Total params: 80,161\n",
      "Trainable params: 80,161\n",
      "Non-trainable params: 0\n",
      "_________________________________________________________________\n",
      "Epoch 1/10\n",
      "625/625 [==============================] - 3s 2ms/step - loss: 0.6685 - acc: 0.6315 - val_loss: 0.6205 - val_acc: 0.6996\n",
      "Epoch 2/10\n",
      "625/625 [==============================] - 1s 2ms/step - loss: 0.5447 - acc: 0.7516 - val_loss: 0.5289 - val_acc: 0.7272\n",
      "Epoch 3/10\n",
      "625/625 [==============================] - 2s 2ms/step - loss: 0.4611 - acc: 0.7893 - val_loss: 0.5002 - val_acc: 0.7486\n",
      "Epoch 4/10\n",
      "625/625 [==============================] - 1s 2ms/step - loss: 0.4183 - acc: 0.8105 - val_loss: 0.4929 - val_acc: 0.7550\n",
      "Epoch 5/10\n",
      "625/625 [==============================] - 1s 2ms/step - loss: 0.3891 - acc: 0.8276 - val_loss: 0.4934 - val_acc: 0.7610\n",
      "Epoch 6/10\n",
      "625/625 [==============================] - 1s 2ms/step - loss: 0.3653 - acc: 0.8408 - val_loss: 0.4965 - val_acc: 0.7596\n",
      "Epoch 7/10\n",
      "625/625 [==============================] - 2s 2ms/step - loss: 0.3444 - acc: 0.8532 - val_loss: 0.5023 - val_acc: 0.7578\n",
      "Epoch 8/10\n",
      "625/625 [==============================] - 2s 2ms/step - loss: 0.3249 - acc: 0.8647 - val_loss: 0.5120 - val_acc: 0.7510\n",
      "Epoch 9/10\n",
      "625/625 [==============================] - 1s 2ms/step - loss: 0.3070 - acc: 0.8737 - val_loss: 0.5199 - val_acc: 0.7528\n",
      "Epoch 10/10\n",
      "625/625 [==============================] - 2s 2ms/step - loss: 0.2898 - acc: 0.8817 - val_loss: 0.5299 - val_acc: 0.7490\n"
     ]
    }
   ],
   "source": [
    "# using an embedding layer and classifier on the IMDB data\n",
    "from keras.models import Sequential\n",
    "from keras.layers import Flatten, Dense\n",
    "\n",
    "model = Sequential()\n",
    "# specifies the maximum input length to the embedding layer so can later flatten the embedded inputs\n",
    "# after the embedding layer, the activations have shape (smaples, maxlen, 8)\n",
    "model.add(Embedding(10000, 8, input_length=maxlen))\n",
    "\n",
    "# flattens the 3D tensor of embeddings into a 2D tensor of shape (samples, maxlen * 8)\n",
    "model.add(Flatten())\n",
    "\n",
    "# adds the classifier on top\n",
    "model.add(Dense(1, activation='sigmoid'))\n",
    "model.compile(optimizer='rmsprop', loss='binary_crossentropy', metrics=['acc'])\n",
    "model.summary()\n",
    "\n",
    "history = model.fit(x_train, y_train,\n",
    "                    epochs=10,\n",
    "                    batch_size=32,\n",
    "                    validation_split=0.2)"
   ]
  },
  {
   "cell_type": "markdown",
   "id": "aee6cf97",
   "metadata": {},
   "source": [
    "- merely flattening the embedded sequences and training a single Dense layer on top leads to a model that treats each word in the input sequence separately, without considering inter-word relationships and sentence structure\n",
    "- it's much better to add recurrent layers or 1D convolutional layers on top of the embedded sequences to learn features that take into account each sequence as a whole"
   ]
  },
  {
   "cell_type": "markdown",
   "id": "29817776",
   "metadata": {},
   "source": [
    "##### Using Pretrained Word Embeddings"
   ]
  },
  {
   "cell_type": "markdown",
   "id": "aa908925",
   "metadata": {},
   "source": [
    "instead of learning word embeddings jointly with teh problem you want to solve, you can load embedding vectors from a precomputed embedding space that known is highly structured and exhibit useful properties -- that captures generic aspects of language structure"
   ]
  },
  {
   "cell_type": "markdown",
   "id": "286de0ac",
   "metadata": {},
   "source": [
    "- the Word2vec algorithm; https://code.google.com/archive/p/word2vec\n",
    "- global vectors for word representation (GloVe): https://nlp.stanford.edu/projects/glove"
   ]
  },
  {
   "cell_type": "markdown",
   "id": "5820331d",
   "metadata": {},
   "source": [
    "### Putting it All Together: from Raw Text to Word Embeddings"
   ]
  },
  {
   "cell_type": "markdown",
   "id": "69429908",
   "metadata": {},
   "source": [
    "##### Downloading the IMDB Data as Raw Text"
   ]
  },
  {
   "cell_type": "markdown",
   "id": "a6181b97",
   "metadata": {},
   "source": [
    "- download the raw IMDB dataset and uncompress it: http://mng.bz/0tIo\n",
    "- collect the individual training reviews into a list of srings, one string per review\n",
    "- collect the review labels (positive/negative) into a labels list"
   ]
  },
  {
   "cell_type": "code",
   "execution_count": 8,
   "id": "cdc75bad",
   "metadata": {},
   "outputs": [],
   "source": [
    "# processing the labels of the raw IMDB data\n",
    "import os\n",
    "\n",
    "imdb_dir = 'C:/Users/jim_c/Desktop/Task/Literature/Deep_Learning_with_Python/Deep_Learning_in_Practice/deep_learning_for_text_and_sequences/aclImdb'\n",
    "train_dir = os.path.join(imdb_dir, 'train')\n",
    "\n",
    "labels = []\n",
    "texts = []\n",
    "\n",
    "# _*_ coding:utf-8 _*_\n",
    "for label_type in ['neg', 'pos']:\n",
    "    dir_name = os.path.join(train_dir, label_type)\n",
    "    for fname in os.listdir(dir_name):\n",
    "        if fname[-4:] == '.txt':\n",
    "            f = open(os.path.join(dir_name, fname), 'r', encoding='UTF-8')\n",
    "            texts.append(f.read())\n",
    "            f.close()\n",
    "            if label_type == 'neg':\n",
    "                labels.append(0)\n",
    "            else:\n",
    "                labels.append(1)"
   ]
  },
  {
   "cell_type": "markdown",
   "id": "7e0844d4",
   "metadata": {},
   "source": [
    "- vectorize the text and prepare a training and validation split, because pretrained word embeddings are meant to be particularyly useful on problmes where little training data is available\n",
    "- twist: restricting the training data to the first 200 examples"
   ]
  },
  {
   "cell_type": "markdown",
   "id": "6c27946b",
   "metadata": {},
   "source": [
    "##### Tokenizing the Data"
   ]
  },
  {
   "cell_type": "code",
   "execution_count": 9,
   "id": "af5d416c",
   "metadata": {},
   "outputs": [
    {
     "name": "stdout",
     "output_type": "stream",
     "text": [
      "Found 88582 unique tokens.\n",
      "Shape of data tensor: (25000, 100)\n",
      "Shape of label tensor: (25000,)\n"
     ]
    }
   ],
   "source": [
    "# tokenizing the text of the raw imdb data\n",
    "from keras.preprocessing.text import Tokenizer\n",
    "from tensorflow.keras.preprocessing.sequence import pad_sequences\n",
    "import numpy as np\n",
    "\n",
    "maxlen = 100 # cuts off reviews after 1000 words\n",
    "training_samples = 200 # train on 200 samples\n",
    "validation_samples = 10000 # validates on 10000 samples\n",
    "max_words = 10000 # considers only the top 10000 words in the data set\n",
    "\n",
    "tokenizer = Tokenizer(num_words=max_words)\n",
    "tokenizer.fit_on_texts(texts)\n",
    "sequences = tokenizer.texts_to_sequences(texts)\n",
    "\n",
    "word_index = tokenizer.word_index\n",
    "print('Found %s unique tokens.' % len(word_index))\n",
    "\n",
    "data = pad_sequences(sequences, maxlen=maxlen)\n",
    "\n",
    "labels = np.asarray(labels)\n",
    "print('Shape of data tensor:', data.shape)\n",
    "print('Shape of label tensor:', labels.shape)\n",
    "\n",
    "# splits the data into a training set and a validation set, but first shuffles the data, \n",
    "# because the data strating in samples are ordered (all negative first, then all positive)\n",
    "indices = np.arange(data.shape[0])\n",
    "np.random.shuffle(indices)\n",
    "data = data[indices]\n",
    "labels = labels[indices]\n",
    "\n",
    "x_train = data[:training_samples]\n",
    "y_train = labels[:training_samples]\n",
    "x_val = data[training_samples: training_samples + validation_samples]\n",
    "y_val = labels[training_samples: training_samples + validation_samples]"
   ]
  },
  {
   "cell_type": "markdown",
   "id": "ff7133c6",
   "metadata": {},
   "source": [
    "##### Downloading the GloVe Word Embeddings"
   ]
  },
  {
   "cell_type": "markdown",
   "id": "d19cecfa",
   "metadata": {},
   "source": [
    "- precomputed embeddings from 2014 English Wikipedia: https://nlp.stanford.edu/projects/glove"
   ]
  },
  {
   "cell_type": "markdown",
   "id": "f9daa957",
   "metadata": {},
   "source": [
    "##### Preprocessing the Embeddings"
   ]
  },
  {
   "cell_type": "markdown",
   "id": "11bf1cf0",
   "metadata": {},
   "source": [
    "parse the unzipped file (a .txt file) to build an index that maps words (as strings) to their vector representation (as number vectors)"
   ]
  },
  {
   "cell_type": "code",
   "execution_count": 10,
   "id": "2c051d05",
   "metadata": {},
   "outputs": [
    {
     "name": "stdout",
     "output_type": "stream",
     "text": [
      "Found 400000 word vectors.\n"
     ]
    }
   ],
   "source": [
    "# parsing the GloVe word-embeddings file\n",
    "glove_dir = 'C:/Users/jim_c/Desktop/Task/Literature/Deep_Learning_with_Python/Deep_Learning_in_Practice/deep_learning_for_text_and_sequences/glove.6B'\n",
    "\n",
    "# _*_ coding:utf-8 _*_\n",
    "embeddings_index = {}\n",
    "f = open(os.path.join(glove_dir, 'glove.6B.100d.txt'), 'r', encoding='utf8')\n",
    "for line in f:\n",
    "    values = line.split()\n",
    "    word = values[0]\n",
    "    coefs = np.asarray(values[1:], dtype='float32')\n",
    "    embeddings_index[word] = coefs\n",
    "f.close()\n",
    "\n",
    "print('Found %s word vectors.' % len(embeddings_index))"
   ]
  },
  {
   "cell_type": "markdown",
   "id": "9febb2bf",
   "metadata": {},
   "source": [
    "- build an embedding matirx that load into an embedding layer, it must be a matrix shape (max_words, embedding_dim), where each entry i contains the embedding_dim - dimensional vector for the word of index i in teh reference word index (built during tokenization)\n",
    "- note: index 0 isn't supposed to stand for any word or token -- it's a placeholder"
   ]
  },
  {
   "cell_type": "code",
   "execution_count": 11,
   "id": "b4a8342e",
   "metadata": {},
   "outputs": [],
   "source": [
    "# preparing the GloVe word-embeddings matrix\n",
    "embedding_dim = 100\n",
    "\n",
    "embedding_matirx = np.zeros((max_words, embedding_dim))\n",
    "for word, i in word_index.items():\n",
    "    if i < max_words:\n",
    "        embedding_vector = embeddings_index.get(word)\n",
    "        if embedding_vector is not None:\n",
    "            embedding_matirx[i] = embedding_vector # words not found in the embedding index will be all zero"
   ]
  },
  {
   "cell_type": "markdown",
   "id": "147d7d6c",
   "metadata": {},
   "source": [
    "##### Defining a Model"
   ]
  },
  {
   "cell_type": "code",
   "execution_count": 12,
   "id": "fcb92da7",
   "metadata": {
    "scrolled": true
   },
   "outputs": [
    {
     "name": "stdout",
     "output_type": "stream",
     "text": [
      "Model: \"sequential_1\"\n",
      "_________________________________________________________________\n",
      " Layer (type)                Output Shape              Param #   \n",
      "=================================================================\n",
      " embedding_2 (Embedding)     (None, 100, 100)          1000000   \n",
      "                                                                 \n",
      " flatten_1 (Flatten)         (None, 10000)             0         \n",
      "                                                                 \n",
      " dense_1 (Dense)             (None, 32)                320032    \n",
      "                                                                 \n",
      " dense_2 (Dense)             (None, 1)                 33        \n",
      "                                                                 \n",
      "=================================================================\n",
      "Total params: 1,320,065\n",
      "Trainable params: 1,320,065\n",
      "Non-trainable params: 0\n",
      "_________________________________________________________________\n"
     ]
    }
   ],
   "source": [
    "# model definition\n",
    "from keras.models import Sequential\n",
    "from keras.layers import Embedding, Flatten, Dense\n",
    "\n",
    "model = Sequential()\n",
    "model.add(Embedding(max_words, embedding_dim, input_length=maxlen))\n",
    "model.add(Flatten())\n",
    "model.add(Dense(32, activation='relu'))\n",
    "model.add(Dense(1, activation='sigmoid'))\n",
    "model.summary()"
   ]
  },
  {
   "cell_type": "markdown",
   "id": "7f08c14d",
   "metadata": {},
   "source": [
    "##### Loading the GloVe Embeddings in the Model"
   ]
  },
  {
   "cell_type": "markdown",
   "id": "41adad61",
   "metadata": {},
   "source": [
    "the embedding layer has a single weight matrix: a 2D float matirx where each entry i is the word vector meant to be associated with index i "
   ]
  },
  {
   "cell_type": "code",
   "execution_count": 13,
   "id": "7162bc50",
   "metadata": {},
   "outputs": [],
   "source": [
    "# loading pretrained word embeddings into the embedding layer\n",
    "model.layers[0].set_weights([embedding_matirx])\n",
    "model.layers[0].trainable = False"
   ]
  },
  {
   "cell_type": "markdown",
   "id": "69af97a0",
   "metadata": {},
   "source": [
    "- freeze the embedding layer (set its trainable attribute to False)\n",
    "- when parts of a model are pretrained (like your embedding layer) and parts of are randomly initialized (like your classifier), the pretrained parts shouldn't be updated during training, to avoid forgetting what they already know\n",
    "- the large gradient updates triggered by the randomly initialized layers would be disruptive to the already-learned features"
   ]
  },
  {
   "cell_type": "markdown",
   "id": "bd54cace",
   "metadata": {},
   "source": [
    "##### Train and Evaluating the Model"
   ]
  },
  {
   "cell_type": "code",
   "execution_count": 14,
   "id": "c520a268",
   "metadata": {},
   "outputs": [
    {
     "name": "stdout",
     "output_type": "stream",
     "text": [
      "Epoch 1/10\n",
      "7/7 [==============================] - 1s 109ms/step - loss: 1.6567 - acc: 0.4900 - val_loss: 0.7324 - val_acc: 0.5037\n",
      "Epoch 2/10\n",
      "7/7 [==============================] - 1s 109ms/step - loss: 0.5213 - acc: 0.6900 - val_loss: 0.6999 - val_acc: 0.5472\n",
      "Epoch 3/10\n",
      "7/7 [==============================] - 1s 87ms/step - loss: 0.3888 - acc: 0.8350 - val_loss: 1.0079 - val_acc: 0.5009\n",
      "Epoch 4/10\n",
      "7/7 [==============================] - 1s 90ms/step - loss: 0.4441 - acc: 0.7250 - val_loss: 0.7823 - val_acc: 0.5292\n",
      "Epoch 5/10\n",
      "7/7 [==============================] - 0s 75ms/step - loss: 0.3057 - acc: 0.8750 - val_loss: 0.6871 - val_acc: 0.5756\n",
      "Epoch 6/10\n",
      "7/7 [==============================] - 0s 72ms/step - loss: 0.1439 - acc: 1.0000 - val_loss: 0.7153 - val_acc: 0.5710\n",
      "Epoch 7/10\n",
      "7/7 [==============================] - 0s 75ms/step - loss: 0.1896 - acc: 0.9350 - val_loss: 1.1606 - val_acc: 0.5050\n",
      "Epoch 8/10\n",
      "7/7 [==============================] - 0s 75ms/step - loss: 0.0740 - acc: 0.9950 - val_loss: 0.7752 - val_acc: 0.5515\n",
      "Epoch 9/10\n",
      "7/7 [==============================] - 0s 72ms/step - loss: 0.0374 - acc: 1.0000 - val_loss: 1.0342 - val_acc: 0.5313\n",
      "Epoch 10/10\n",
      "7/7 [==============================] - 0s 74ms/step - loss: 0.2583 - acc: 0.8750 - val_loss: 0.8304 - val_acc: 0.5384\n"
     ]
    }
   ],
   "source": [
    "# training and evaluation\n",
    "model.compile(optimizer='rmsprop',\n",
    "              loss='binary_crossentropy', \n",
    "              metrics=['acc'])\n",
    "history = model.fit(x_train, y_train,\n",
    "                    epochs=10,\n",
    "                    batch_size=32,\n",
    "                    validation_data=(x_val, y_val))\n",
    "model.save_weights('pre_trained_glove_model.h5')"
   ]
  },
  {
   "cell_type": "code",
   "execution_count": 15,
   "id": "048c959a",
   "metadata": {},
   "outputs": [
    {
     "data": {
      "image/png": "[encoded data removed]",
      "text/plain": [
       "<Figure size 640x480 with 1 Axes>"
      ]
     },
     "metadata": {},
     "output_type": "display_data"
    },
    {
     "data": {
      "image/png": "[encoded data removed]",
      "text/plain": [
       "<Figure size 640x480 with 1 Axes>"
      ]
     },
     "metadata": {},
     "output_type": "display_data"
    }
   ],
   "source": [
    "# plotting the results\n",
    "import matplotlib.pyplot as plt\n",
    "\n",
    "acc = history.history['acc']\n",
    "val_acc = history.history['val_acc']\n",
    "loss = history.history['loss']\n",
    "val_loss = history.history['val_loss']\n",
    "\n",
    "epochs = range(1, len(acc) + 1)\n",
    "\n",
    "plt.plot(epochs, acc, 'bo', label='Training acc')\n",
    "plt.plot(epochs, val_acc, 'b', label='Validation acc')\n",
    "plt.title('Training and Validation Accuracy')\n",
    "plt.legend()\n",
    "\n",
    "plt.figure()\n",
    "\n",
    "plt.plot(epochs, loss, 'bo', label='Training loss')\n",
    "plt.plot(epochs, val_loss, 'b', label='Validation loss')\n",
    "plt.title('Training and Validation Loss')\n",
    "plt.legend()\n",
    "\n",
    "plt.show()"
   ]
  },
  {
   "cell_type": "markdown",
   "id": "7ba66805",
   "metadata": {},
   "source": [
    "- the model quickly strats overfitting, which is unsurprising given the small number of training samples, same as the validation accuracy\n",
    "- note that the mileage may vary, because of so few training samples, performance is heavily dependent on exactly which samples you choose"
   ]
  },
  {
   "cell_type": "markdown",
   "id": "cef9af32",
   "metadata": {},
   "source": [
    "##### Train the Same Model without Pretrained Word Embeddings"
   ]
  },
  {
   "cell_type": "markdown",
   "id": "eea5813d",
   "metadata": {},
   "source": [
    "without freezing the embedding layer. in that case, it will learn a task-specific embedding of the input tokens, which is generally more powerful tahn pretrained word embeddings when lots of data is available, but in this case, too few samples"
   ]
  },
  {
   "cell_type": "code",
   "execution_count": 16,
   "id": "2730d9cf",
   "metadata": {},
   "outputs": [
    {
     "name": "stdout",
     "output_type": "stream",
     "text": [
      "Model: \"sequential_2\"\n",
      "_________________________________________________________________\n",
      " Layer (type)                Output Shape              Param #   \n",
      "=================================================================\n",
      " embedding_3 (Embedding)     (None, 100, 100)          1000000   \n",
      "                                                                 \n",
      " flatten_2 (Flatten)         (None, 10000)             0         \n",
      "                                                                 \n",
      " dense_3 (Dense)             (None, 32)                320032    \n",
      "                                                                 \n",
      " dense_4 (Dense)             (None, 1)                 33        \n",
      "                                                                 \n",
      "=================================================================\n",
      "Total params: 1,320,065\n",
      "Trainable params: 1,320,065\n",
      "Non-trainable params: 0\n",
      "_________________________________________________________________\n",
      "Epoch 1/10\n",
      "7/7 [==============================] - 1s 103ms/step - loss: 0.7002 - acc: 0.5050 - val_loss: 0.6918 - val_acc: 0.5171\n",
      "Epoch 2/10\n",
      "7/7 [==============================] - 1s 88ms/step - loss: 0.4772 - acc: 0.9850 - val_loss: 0.7017 - val_acc: 0.5083\n",
      "Epoch 3/10\n",
      "7/7 [==============================] - 1s 85ms/step - loss: 0.2596 - acc: 1.0000 - val_loss: 0.7159 - val_acc: 0.5112\n",
      "Epoch 4/10\n",
      "7/7 [==============================] - 0s 77ms/step - loss: 0.1175 - acc: 0.9950 - val_loss: 0.7060 - val_acc: 0.5182\n",
      "Epoch 5/10\n",
      "7/7 [==============================] - 0s 76ms/step - loss: 0.0599 - acc: 1.0000 - val_loss: 0.7103 - val_acc: 0.5303\n",
      "Epoch 6/10\n",
      "7/7 [==============================] - 0s 76ms/step - loss: 0.0305 - acc: 1.0000 - val_loss: 0.7123 - val_acc: 0.5308\n",
      "Epoch 7/10\n",
      "7/7 [==============================] - 0s 76ms/step - loss: 0.0173 - acc: 1.0000 - val_loss: 0.7151 - val_acc: 0.5304\n",
      "Epoch 8/10\n",
      "7/7 [==============================] - 0s 79ms/step - loss: 0.0100 - acc: 1.0000 - val_loss: 0.7150 - val_acc: 0.5298\n",
      "Epoch 9/10\n",
      "7/7 [==============================] - 0s 82ms/step - loss: 0.0062 - acc: 1.0000 - val_loss: 0.7302 - val_acc: 0.5323\n",
      "Epoch 10/10\n",
      "7/7 [==============================] - 0s 77ms/step - loss: 0.0038 - acc: 1.0000 - val_loss: 0.7285 - val_acc: 0.5319\n"
     ]
    }
   ],
   "source": [
    "# training the same model without pretrained word embeddings\n",
    "from keras.models import Sequential\n",
    "from keras.layers import Embedding, Flatten, Dense\n",
    "\n",
    "model = Sequential()\n",
    "model.add(Embedding(max_words, embedding_dim, input_length=maxlen))\n",
    "model.add(Flatten())\n",
    "model.add(Dense(32, activation='relu'))\n",
    "model.add(Dense(1, activation='sigmoid'))\n",
    "model.summary()\n",
    "\n",
    "model.compile(optimizer='rmsprop', \n",
    "              loss='binary_crossentropy', \n",
    "              metrics=['acc'])\n",
    "history = model.fit(x_train, y_train,\n",
    "                    epochs=10,\n",
    "                    batch_size=32,\n",
    "                    validation_data=(x_val, y_val))"
   ]
  },
  {
   "cell_type": "code",
   "execution_count": 17,
   "id": "438090b8",
   "metadata": {
    "scrolled": true
   },
   "outputs": [
    {
     "data": {
      "image/png": "[encoded data removed]",
      "text/plain": [
       "<Figure size 640x480 with 1 Axes>"
      ]
     },
     "metadata": {},
     "output_type": "display_data"
    },
    {
     "data": {
      "image/png": "[encoded data removed]",
      "text/plain": [
       "<Figure size 640x480 with 1 Axes>"
      ]
     },
     "metadata": {},
     "output_type": "display_data"
    }
   ],
   "source": [
    "# plotting the results\n",
    "import matplotlib.pyplot as plt\n",
    "\n",
    "acc = history.history['acc']\n",
    "val_acc = history.history['val_acc']\n",
    "loss = history.history['loss']\n",
    "val_loss = history.history['val_loss']\n",
    "\n",
    "epochs = range(1, len(acc) + 1)\n",
    "\n",
    "plt.plot(epochs, acc, 'bo', label='Training acc')\n",
    "plt.plot(epochs, val_acc, 'b', label='Validation acc')\n",
    "plt.title('Training and Validation Accuracy')\n",
    "plt.legend()\n",
    "\n",
    "plt.figure()\n",
    "\n",
    "plt.plot(epochs, loss, 'bo', label='Training loss')\n",
    "plt.plot(epochs, val_loss, 'b', label='Validation loss')\n",
    "plt.title('Training and Validation Loss')\n",
    "plt.legend()\n",
    "\n",
    "plt.show()"
   ]
  },
  {
   "cell_type": "markdown",
   "id": "c2817ffa",
   "metadata": {},
   "source": [
    "in this case, pretrained word embeddings outperform jointly learned embeddings, but if increase the number of training samples, this will quickly stop being the case"
   ]
  },
  {
   "cell_type": "markdown",
   "id": "86430f7d",
   "metadata": {},
   "source": [
    "##### Evaluate the Model on the Test Data"
   ]
  },
  {
   "cell_type": "code",
   "execution_count": 18,
   "id": "c488ace8",
   "metadata": {},
   "outputs": [],
   "source": [
    "# tokenizing the data of the test set\n",
    "test_dir = os.path.join(imdb_dir, 'test')\n",
    "\n",
    "labels = []\n",
    "texts = []\n",
    "\n",
    "# _*_ coding:utf-8 _*_\n",
    "for label_type in ['neg', 'pos']:\n",
    "    dir_name = os.path.join(test_dir, label_type)\n",
    "    for fname in os.listdir(dir_name):\n",
    "        if fname[-4:] == '.txt':\n",
    "            f = open(os.path.join(dir_name, fname), 'r', encoding='UTF-8')\n",
    "            texts.append(f.read())\n",
    "            f.close()\n",
    "            if label_type == 'neg':\n",
    "                labels.append(0)\n",
    "            else:\n",
    "                labels.append(1)\n",
    "                \n",
    "sequences = tokenizer.texts_to_sequences(texts)\n",
    "x_test = pad_sequences(sequences, maxlen=maxlen)\n",
    "y_test = np.array(labels)"
   ]
  },
  {
   "cell_type": "code",
   "execution_count": 20,
   "id": "db7dade8",
   "metadata": {},
   "outputs": [
    {
     "name": "stdout",
     "output_type": "stream",
     "text": [
      "782/782 [==============================] - 1s 2ms/step - loss: 0.8335 - acc: 0.5443\n"
     ]
    },
    {
     "data": {
      "text/plain": [
       "[0.833524763584137, 0.5442799925804138]"
      ]
     },
     "execution_count": 20,
     "metadata": {},
     "output_type": "execute_result"
    }
   ],
   "source": [
    "# evaluating the model on the test set\n",
    "model.load_weights('pre_trained_glove_model.h5')\n",
    "model.evaluate(x_test, y_test)"
   ]
  },
  {
   "cell_type": "markdown",
   "id": "89721584",
   "metadata": {},
   "source": [
    "### Wrapping Up"
   ]
  },
  {
   "cell_type": "markdown",
   "id": "8b328cfd",
   "metadata": {},
   "source": [
    "- turn raw text into something a neural network can process\n",
    "- use the embedding layer in keras model to learn task-specific token embeddings\n",
    "- use pretrained word embeddings to get an extra boost on small natural language-processing problems"
   ]
  }
 ],
 "metadata": {
  "kernelspec": {
   "display_name": "Python 3 (ipykernel)",
   "language": "python",
   "name": "python3"
  },
  "language_info": {
   "codemirror_mode": {
    "name": "ipython",
    "version": 3
   },
   "file_extension": ".py",
   "mimetype": "text/x-python",
   "name": "python",
   "nbconvert_exporter": "python",
   "pygments_lexer": "ipython3",
   "version": "3.9.16"
  }
 },
 "nbformat": 4,
 "nbformat_minor": 5
}
