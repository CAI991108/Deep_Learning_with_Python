{
 "cells": [
  {
   "cell_type": "markdown",
   "id": "9d325414",
   "metadata": {},
   "source": [
    "due to convnets' ability to operate convolutionallym extracting features from local input patches and allowing for representationi modularity and data efficiency, it also make them highly relevant to sequence processing; time can be treated as a spatial dimension, like the height or width of a 2D image"
   ]
  },
  {
   "cell_type": "markdown",
   "id": "a1105442",
   "metadata": {},
   "source": [
    "such 1D convnets can be competitive with RNNs on certain sequence-processing problems, usually at a considerably cheaper computational cost; 1D convnets typically used with dilated kernels, have been used with great success for audio generation and machine translation, it also can offer a fast alternative to RNNs for simple tasks such as text classificaiton and timeseries forecasting"
   ]
  },
  {
   "cell_type": "markdown",
   "id": "cb002bb0",
   "metadata": {},
   "source": [
    "### Understanding 1D Convolution for Sequence Data"
   ]
  },
  {
   "cell_type": "markdown",
   "id": "7a0a3aa3",
   "metadata": {},
   "source": [
    "![How 1D Convolution Works](./1d_convnet.png)"
   ]
  },
  {
   "cell_type": "markdown",
   "id": "0c9ae3cf",
   "metadata": {},
   "source": [
    "such 1D convolution layers can recognize local patterns in a sequence, because the same input transformation is performed on every patch, a pattern learned at a certain position in a sentence can later be recognized at a different position, making 1D convnets translation invariant (for temporal translations)"
   ]
  },
  {
   "cell_type": "markdown",
   "id": "7d5a765f",
   "metadata": {},
   "source": [
    "### 1D Pooling for Sequence Data"
   ]
  },
  {
   "cell_type": "markdown",
   "id": "69ad9d3d",
   "metadata": {},
   "source": [
    "extracting 1D patches (subsequences) from an input and outputting the maximum value(max pooling) or average value (average pooling)"
   ]
  },
  {
   "cell_type": "markdown",
   "id": "f9a35b03",
   "metadata": {},
   "source": [
    "### Implementing a 1D Convnet"
   ]
  },
  {
   "cell_type": "markdown",
   "id": "470d6ddc",
   "metadata": {},
   "source": [
    "'Conv1D' layer takes as input 3D tensors with shape (samples, times, features) and returns similarly shaped 3D tensors; the convolution window is a 1D window on the temporal axis: axis 1 in the input tensor"
   ]
  },
  {
   "cell_type": "code",
   "execution_count": 5,
   "id": "c96a5154",
   "metadata": {},
   "outputs": [
    {
     "ename": "IndexError",
     "evalue": "index 4439 is out of bounds for axis 0 with size 4439",
     "output_type": "error",
     "traceback": [
      "\u001b[1;31m---------------------------------------------------------------------------\u001b[0m",
      "\u001b[1;31mIndexError\u001b[0m                                Traceback (most recent call last)",
      "Cell \u001b[1;32mIn[5], line 31\u001b[0m\n\u001b[0;32m     29\u001b[0m \u001b[38;5;28;01mfor\u001b[39;00m i, line \u001b[38;5;129;01min\u001b[39;00m \u001b[38;5;28menumerate\u001b[39m(lines):\n\u001b[0;32m     30\u001b[0m     values \u001b[38;5;241m=\u001b[39m [\u001b[38;5;28mfloat\u001b[39m(x) \u001b[38;5;28;01mfor\u001b[39;00m x \u001b[38;5;129;01min\u001b[39;00m line\u001b[38;5;241m.\u001b[39msplit(\u001b[38;5;124m'\u001b[39m\u001b[38;5;124m,\u001b[39m\u001b[38;5;124m'\u001b[39m)[\u001b[38;5;241m1\u001b[39m:]]\n\u001b[1;32m---> 31\u001b[0m     float_data[i, :] \u001b[38;5;241m=\u001b[39m values\n",
      "\u001b[1;31mIndexError\u001b[0m: index 4439 is out of bounds for axis 0 with size 4439"
     ]
    }
   ],
   "source": [
    "# prepare the HS300 data\n",
    "import os \n",
    "import pandas as pd\n",
    "import numpy as np\n",
    "\n",
    "data_dir = 'C:/Users/jim_c/Desktop/Task/local_base/benchmark_index'\n",
    "fname = os.path.join(data_dir, '000300.SH.csv')\n",
    "\n",
    "df = pd.read_csv(fname, header=0, \n",
    "                 usecols=[2,3,4,5,6,7],\n",
    "                 names=[\"open\", \"high\", \"low\", \"close\", \"vol\", \"amount\"])\n",
    "df = df.reindex(index=df.index[::-1])\n",
    "\n",
    "output_path='C:/Users/jim_c/Desktop/Task/Literature/Deep_Learning_with_Python/Deep_Learning_in_Practice/deep_learning_for_text_and_sequences/HS300.csv'\n",
    "df.to_csv(output_path,sep=',',index=True,header=True)\n",
    "\n",
    "data_dir = 'C:/Users/jim_c/Desktop/Task/Literature/Deep_Learning_with_Python/Deep_Learning_in_Practice/deep_learning_for_text_and_sequences'\n",
    "fname = os.path.join(data_dir, 'HS300.csv')\n",
    "\n",
    "f = open(fname)\n",
    "data = f.read()\n",
    "f.close()\n",
    "\n",
    "lines = data.split('\\n')\n",
    "header = lines[0].split(',')\n",
    "lines = lines[1:]\n",
    "\n",
    "float_data = np.zeros((len(lines) - 1, len(header) - 1))\n",
    "for i, line in enumerate(lines):\n",
    "    values = [float(x) for x in line.split(',')[1:]]\n",
    "    float_data[i, :] = values"
   ]
  },
  {
   "cell_type": "code",
   "execution_count": 6,
   "id": "7f3808b7",
   "metadata": {
    "scrolled": false
   },
   "outputs": [],
   "source": [
    "lookback = 60\n",
    "step = 5\n",
    "delay = 1\n",
    "batch_size = 64\n",
    "\n",
    "mean = float_data[:4000].mean(axis=0)\n",
    "float_data -= mean\n",
    "std = float_data[:4000].std(axis=0)\n",
    "float_data /= std\n",
    "\n",
    "\n",
    "# generator yielding timeseries samples an their targets\n",
    "def generator(data, lookback, delay, min_index, max_index,\n",
    "              shuffle=False, batch_size = 64, step=5):\n",
    "    if max_index is None:\n",
    "        max_index = len(data) - delay - 1\n",
    "    i = min_index + lookback\n",
    "    while 1:\n",
    "        if shuffle:\n",
    "            rows = np.random.randint(\n",
    "                min_index + lookback, max_index, size=batch_size)\n",
    "        else:\n",
    "            if i + batch_size >= max_index:\n",
    "                    i = min_index + lookback\n",
    "            rows = np.arange(i, min(i + batch_size, max_index))\n",
    "            i += len(rows)\n",
    "                    \n",
    "        samples = np.zeros((len(rows), \n",
    "                            lookback // step,\n",
    "                            data.shape[-1]))\n",
    "        targets = np.zeros((len(rows),))\n",
    "        for j, row in enumerate(rows):\n",
    "            indices = range(rows[j] - lookback, rows[j], step)\n",
    "            samples[j] = data[indices]\n",
    "            targets[j] = data[rows[j] + delay][1]\n",
    "        yield samples, targets\n",
    "        \n",
    "# preparing the training, and test generators\n",
    "\n",
    "train_gen = generator(float_data,\n",
    "                      lookback=lookback,\n",
    "                      delay=delay,\n",
    "                      min_index=0,\n",
    "                      max_index=4000,\n",
    "                      shuffle=True,\n",
    "                      step=step,\n",
    "                      batch_size=batch_size)\n",
    "\n",
    "test_gen = generator(float_data,\n",
    "                    lookback=lookback,\n",
    "                    delay=delay,\n",
    "                    min_index=4001,\n",
    "                    max_index=None,\n",
    "                    step=step,\n",
    "                    batch_size=batch_size)\n",
    "\n",
    "test_steps = (len(float_data) - 4001 - lookback)"
   ]
  },
  {
   "cell_type": "code",
   "execution_count": 35,
   "id": "7859ae43",
   "metadata": {},
   "outputs": [],
   "source": [
    "# preparing the training, and test generators\n",
    "\n",
    "train_gen = generator(float_data,\n",
    "                      lookback=lookback,\n",
    "                      delay=delay,\n",
    "                      min_index=0,\n",
    "                      max_index=4000,\n",
    "                      shuffle=True,\n",
    "                      step=step,\n",
    "                      batch_size=batch_size)\n",
    "\n",
    "val_gen = generator(float_data,\n",
    "                    lookback=lookback,\n",
    "                    delay=delay,\n",
    "                    min_index=4001,\n",
    "                    max_index=4400,\n",
    "                    step=step,\n",
    "                    batch_size=batch_size)\n",
    "\n",
    "test_gen = generator(float_data,\n",
    "                    lookback=lookback,\n",
    "                    delay=delay,\n",
    "                    min_index=4401,\n",
    "                    max_index=None,\n",
    "                    step=step,\n",
    "                    batch_size=batch_size)\n",
    "\n",
    "train_steps = 4000 - lookback\n",
    "\n",
    "val_steps = (4400 - 4001 - lookback)\n",
    "\n",
    "test_steps = (len(float_data) - 4401 - lookback)"
   ]
  },
  {
   "cell_type": "code",
   "execution_count": null,
   "id": "ed8344b6",
   "metadata": {
    "scrolled": false
   },
   "outputs": [
    {
     "name": "stdout",
     "output_type": "stream",
     "text": [
      "Model: \"sequential_22\"\n",
      "_________________________________________________________________\n",
      " Layer (type)                Output Shape              Param #   \n",
      "=================================================================\n",
      " conv1d_27 (Conv1D)          (None, None, 128)         5504      \n",
      "                                                                 \n",
      " conv1d_28 (Conv1D)          (None, None, 32)          28704     \n",
      "                                                                 \n",
      " max_pooling1d_9 (MaxPooling  (None, None, 32)         0         \n",
      " 1D)                                                             \n",
      "                                                                 \n",
      " conv1d_29 (Conv1D)          (None, None, 32)          7200      \n",
      "                                                                 \n",
      " global_max_pooling1d_5 (Glo  (None, 32)               0         \n",
      " balMaxPooling1D)                                                \n",
      "                                                                 \n",
      " dense_5 (Dense)             (None, 1)                 33        \n",
      "                                                                 \n",
      "=================================================================\n",
      "Total params: 41,441\n",
      "Trainable params: 41,441\n",
      "Non-trainable params: 0\n",
      "_________________________________________________________________\n",
      "Epoch 1/10\n"
     ]
    },
    {
     "name": "stderr",
     "output_type": "stream",
     "text": [
      "C:\\Users\\jim_c\\anaconda3\\envs\\tensorflow\\lib\\site-packages\\keras\\optimizers\\optimizer_v2\\rmsprop.py:140: UserWarning: The `lr` argument is deprecated, use `learning_rate` instead.\n",
      "  super().__init__(name, **kwargs)\n"
     ]
    }
   ],
   "source": [
    "# training and evaluating a simple 1D convnet on the IMDB data\n",
    "from keras.models import Sequential\n",
    "from keras import layers\n",
    "from keras.optimizers import RMSprop\n",
    "\n",
    "model = Sequential()\n",
    "model.add(layers.Conv1D(128, 7, input_shape=(None, float_data.shape[-1])))\n",
    "model.add(layers.Conv1D(32, 7, activation='relu'))\n",
    "model.add(layers.MaxPool1D(5))\n",
    "model.add(layers.Conv1D(32, 7, activation='relu'))\n",
    "model.add(layers.GlobalMaxPool1D())\n",
    "model.add(layers.Dense(1))\n",
    "\n",
    "model.summary()\n",
    "\n",
    "model.compile(optimizer=RMSprop(lr=1e-4),\n",
    "              loss='mae',\n",
    "              metrics=['acc'])\n",
    "\n",
    "history = model.fit(train_gen,\n",
    "                    epochs=10,\n",
    "                    batch_size=128,\n",
    "                    validation_data=val_gen,\n",
    "                    validation_steps=val_steps)"
   ]
  }
 ],
 "metadata": {
  "kernelspec": {
   "display_name": "Python 3 (ipykernel)",
   "language": "python",
   "name": "python3"
  },
  "language_info": {
   "codemirror_mode": {
    "name": "ipython",
    "version": 3
   },
   "file_extension": ".py",
   "mimetype": "text/x-python",
   "name": "python",
   "nbconvert_exporter": "python",
   "pygments_lexer": "ipython3",
   "version": "3.9.16"
  }
 },
 "nbformat": 4,
 "nbformat_minor": 5
}
