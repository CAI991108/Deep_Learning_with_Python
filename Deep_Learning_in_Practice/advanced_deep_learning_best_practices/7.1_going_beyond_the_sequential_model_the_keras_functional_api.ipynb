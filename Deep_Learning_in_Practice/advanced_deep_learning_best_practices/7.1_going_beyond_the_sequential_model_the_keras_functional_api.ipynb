version https://git-lfs.github.com/spec/v1
oid sha256:5794eeef2862a1f4ee59852d37cefd950179464d4670b4b03fdaeb48d62f27b0
size 30256
